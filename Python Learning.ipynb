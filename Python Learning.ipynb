{
 "cells": [
  {
   "cell_type": "markdown",
   "metadata": {},
   "source": [
    "# Python学习笔记\n",
    "\n",
    "**作者**：WSJ"
   ]
  },
  {
   "cell_type": "markdown",
   "metadata": {},
   "source": [
    "## Python 常用库\n",
    "\n",
    "### 核心库和统计\n",
    "\n",
    "1. NumPy。科学计算，处理大型多维数组和矩阵，各种数学函数和实现方法。\n",
    "\n",
    "2. SciPy。科学计算另一个核心库，扩展了NumPy的功能，包括线性代数、积分、概率统计、优化等。\n",
    "    - Special functions (scipy.special)\n",
    "    - Integration (scipy.integrate)\n",
    "    - Optimization (scipy.optimize)\n",
    "    - Interpolation (scipy.interpolate)\n",
    "    - Fourier Transforms (scipy.fftpack)\n",
    "    - Signal Processing (scipy.signal)\n",
    "    - Linear Algebra (scipy.linalg)\n",
    "    - Sparse Eigenvalue Problems (scipy.sparse)\n",
    "    - Statistics (scipy.stats)\n",
    "    - Multi-dimensional image processing (scipy.ndimage)\n",
    "    - File IO (scipy.io)\n",
    "3. Pandas。应用最广泛的数据处理工具。主要特点是能够将相当复杂的数据操作转换为一两条命令。Pandas包含许多用于分组,过滤和组合数据的内置方法，以及时间序列功能。\n",
    "\n",
    "4. StatsModels。用于统计模型估计、执行统计测试等统计数据分析。在它的帮助下，你可以使用机器学习方法,进行各种绘图尝试。\n",
    "\n",
    "\n",
    "### 可视化\n",
    "\n",
    "5. Matplotlib。创建二维图表和图形的低级库，可以构建直方图、散点图、非笛卡尔坐标图等图表。\n",
    "\n",
    "6. Seaborn。基于matplotlib库更高级别的API，它包含更适合处理图表的默认设置，增强了matplotlib后端交互，并在可视化中添加了参数和选项。还包括时间序列等丰富的可视化图库。\n",
    "\n",
    "7. Plotly。轻松构建复杂的图形，适用于交互式Web应用程序。可视化方面包括等高线图、三元图和三维图，对动画等方面也提供了支持。\n",
    "\n",
    "8. Pydot。用于生成复杂的定向图和非定向图，经常用于构建神经网络和基于决策树的算法。\n",
    "\n",
    "### 机器学习\n",
    "\n",
    "9. Scikit-learn。基于NumPy和SciPy的Python模块，为许多机器学习和数据挖掘任务提供算法，比如聚类、回归、分类、降维和模型选择。\n",
    "\n",
    "10. TensorFlow。用于**深度学习**和**机器学习**的热门框架，由谷歌大脑开发。能够用于多个数据集的人工神经网络，主要应用包括对象识别、语音识别等等。\n",
    "\n",
    "11. PyTorch。是一个大型框架能通过GPU加速执行tensor计算，创建动态计算图并自动计算梯度。PyTorch为解决神经网络相关的应用提供了丰富的API。PyTorch基于Torch，它是用C语言实现的开源的深度学习库。于2017年推出之后，该框架越来越受欢迎，吸引了大量数据科学家。\n",
    "\n",
    "12. Keras。用于神经网络的高级库，可运行与TensorFlow和Theano，还可以使用CNTK和MxNet作为后端。\n",
    "\n",
    "### 其它\n",
    "\n",
    "13. Scrapy。数据抓取，著名的爬虫。用于创建扫描页面和收集结构化数据，可以从API中提取数据。\n",
    "\n",
    "14. pyMC。Bayesian data analysis。\n",
    "\n",
    "15. pystan。Bayesian analysis based on `stan`。"
   ]
  },
  {
   "cell_type": "markdown",
   "metadata": {},
   "source": [
    "##  应用Python进行科学计算和可视化"
   ]
  },
  {
   "cell_type": "markdown",
   "metadata": {},
   "source": [
    "### 基本运算"
   ]
  },
  {
   "cell_type": "code",
   "execution_count": 1,
   "metadata": {},
   "outputs": [],
   "source": [
    "%matplotlib inline\n",
    "#图形和代码一起显示\n",
    "import numpy as np  # 科学计算\n",
    "import pandas as pd #数据操作\n",
    "import matplotlib as mpl #作图基础模块\n",
    "import matplotlib.pyplot as plt #作图模块"
   ]
  },
  {
   "cell_type": "code",
   "execution_count": 2,
   "metadata": {},
   "outputs": [],
   "source": [
    "plt.rcParams['font.sans-serif'] = ['SimHei']  #用来正常显示中文标签\n",
    "plt.rcParams['axes.unicode_minus'] = False  #用来正常显示负号"
   ]
  },
  {
   "cell_type": "code",
   "execution_count": 3,
   "metadata": {},
   "outputs": [],
   "source": [
    "import warnings\n",
    "warnings.filterwarnings(\"ignore\") #忽略警告信息。慎用"
   ]
  },
  {
   "cell_type": "code",
   "execution_count": 4,
   "metadata": {},
   "outputs": [
    {
     "name": "stdout",
     "output_type": "stream",
     "text": [
      "('小明', '小军', '小强', '小武', '小龙')\n"
     ]
    }
   ],
   "source": [
    "#元组\n",
    "students = (\"小明\", \"小军\", \"小强\", \"小武\", \"小龙\")\n",
    "print(students)"
   ]
  },
  {
   "cell_type": "code",
   "execution_count": 5,
   "metadata": {},
   "outputs": [
    {
     "name": "stdout",
     "output_type": "stream",
     "text": [
      "小明\n"
     ]
    }
   ],
   "source": [
    "#元组\n",
    "print(students[0])"
   ]
  },
  {
   "cell_type": "code",
   "execution_count": 6,
   "metadata": {},
   "outputs": [
    {
     "name": "stdout",
     "output_type": "stream",
     "text": [
      "{'3', '1', '5', '2', '4'}\n",
      "{'2', '4'}\n",
      "{'3', '1', '5', '2', '4'}\n",
      "{'3', '1', '6', '5', '8', '2', '4'}\n",
      "{'8', '6'}\n",
      "{'3', '1', '5', '2', '4'}\n"
     ]
    }
   ],
   "source": [
    "#集合运算\n",
    "a = set(\"12345\")\n",
    "print(a)\n",
    "b = set(\"2468\")\n",
    "#交集\n",
    "x = a & b\n",
    "print(x)\n",
    "print(a)\n",
    "#并集\n",
    "y = a | b\n",
    "print(y)\n",
    "#差集\n",
    "z = b - a\n",
    "print(z)\n",
    "#去除重复元素\n",
    "new = set(a)\n",
    "print(new)"
   ]
  },
  {
   "cell_type": "code",
   "execution_count": 7,
   "metadata": {},
   "outputs": [
    {
     "name": "stdout",
     "output_type": "stream",
     "text": [
      "{'姓名': '王小川', '籍贯': '山东'}\n",
      "{'姓名': '王小川', '籍贯': '山东', '爱好': '游泳'}\n",
      "王小川\n",
      "游泳\n"
     ]
    }
   ],
   "source": [
    "#字典\n",
    "k = {\"姓名\": \"王小川\", \"籍贯\": \"山东\"}\n",
    "print(k)\n",
    "#添加字典里面的项目\n",
    "k[\"爱好\"] = \"游泳\"\n",
    "print(k)\n",
    "print(k[\"姓名\"])\n",
    "print(k[\"爱好\"])"
   ]
  },
  {
   "cell_type": "code",
   "execution_count": 8,
   "metadata": {},
   "outputs": [
    {
     "name": "stdout",
     "output_type": "stream",
     "text": [
      "['False', 'None', 'True', 'and', 'as', 'assert', 'break', 'class', 'continue', 'def', 'del', 'elif', 'else', 'except', 'finally', 'for', 'from', 'global', 'if', 'import', 'in', 'is', 'lambda', 'nonlocal', 'not', 'or', 'pass', 'raise', 'return', 'try', 'while', 'with', 'yield']\n"
     ]
    }
   ],
   "source": [
    "#常用关键字\n",
    "#查看一下关键字有哪些\n",
    "import keyword\n",
    "print(keyword.kwlist)"
   ]
  },
  {
   "cell_type": "code",
   "execution_count": 9,
   "metadata": {},
   "outputs": [
    {
     "name": "stdout",
     "output_type": "stream",
     "text": [
      "True\n",
      "False\n"
     ]
    }
   ],
   "source": [
    "#逻辑判断\n",
    "#\"!=\":不等于符号，返回一个bool值\n",
    "a = 2 != 3\n",
    "print(a)\n",
    "b = 2 != 2\n",
    "print(b)"
   ]
  },
  {
   "cell_type": "code",
   "execution_count": 10,
   "metadata": {},
   "outputs": [
    {
     "name": "stdout",
     "output_type": "stream",
     "text": [
      "0\n",
      "1\n",
      "2\n",
      "3\n"
     ]
    }
   ],
   "source": [
    "#循环计算\n",
    "for x in range(4):  # by default range start at 0\n",
    "    print(x)"
   ]
  },
  {
   "cell_type": "code",
   "execution_count": 11,
   "metadata": {},
   "outputs": [
    {
     "name": "stdout",
     "output_type": "stream",
     "text": [
      "He\n"
     ]
    }
   ],
   "source": [
    "#if--else\n",
    "a = 0\n",
    "if a == 1:\n",
    "    print(\"She\")\n",
    "else:\n",
    "    print(\"He\")"
   ]
  },
  {
   "cell_type": "code",
   "execution_count": 12,
   "metadata": {},
   "outputs": [
    {
     "name": "stdout",
     "output_type": "stream",
     "text": [
      "hello world\n"
     ]
    }
   ],
   "source": [
    "#在三种选择情况下的if用法\n",
    "a = 10\n",
    "if a == 10:\n",
    "    print(\"hello world\")\n",
    "elif a > 8:\n",
    "    print(\"hello\")\n",
    "elif a > 6:\n",
    "    print(\"world\")\n",
    "else:\n",
    "    print(\"Null\")"
   ]
  },
  {
   "cell_type": "code",
   "execution_count": 13,
   "metadata": {},
   "outputs": [
    {
     "name": "stdout",
     "output_type": "stream",
     "text": [
      "8\n"
     ]
    }
   ],
   "source": [
    "#自定义函数\n",
    "def function(a, b):\n",
    "    if a > b:\n",
    "        return a\n",
    "    else:\n",
    "        return b\n",
    "\n",
    "max = function(7, 8)\n",
    "print(max)"
   ]
  },
  {
   "cell_type": "code",
   "execution_count": 14,
   "metadata": {},
   "outputs": [],
   "source": [
    "# lambda function（Unnamed functions）\n",
    "f1 = lambda x: x**2\n",
    "\n",
    "# is equivalent to\n",
    "\n",
    "def f2(x):\n",
    "    return x**2"
   ]
  },
  {
   "cell_type": "markdown",
   "metadata": {},
   "source": [
    "### Pandas: 数据处理和分析\n",
    "\n",
    "**pandas** is a Python package providing fast, flexible, and expressive data structures designed to make working with “relational” or “labeled” data both easy and intuitive. \n",
    "\n",
    "It aims to be the fundamental high-level building block for doing practical, real world data analysis in Python. \n",
    "\n",
    "Additionally, it has the broader goal of becoming the most powerful and flexible open source data analysis / manipulation tool available in any language. It is already well on its way toward this goal.\n",
    "\n",
    "pandas is well suited for many different kinds of data:\n",
    "\n",
    "- Tabular data with heterogeneously-typed columns, as in an SQL table or Excel spreadsheet\n",
    "- Ordered and unordered (not necessarily fixed-frequency) time series data.\n",
    "- Arbitrary matrix data (homogeneously typed or heterogeneous) with row and column labels\n",
    "- Any other form of observational / statistical data sets. The data actually need not be labeled at all to be placed into a pandas data structure\n",
    "\n",
    "Reading: https://pandas.pydata.org/pandas-docs/stable/index.html"
   ]
  },
  {
   "cell_type": "markdown",
   "metadata": {},
   "source": [
    "#### DataFrame"
   ]
  },
  {
   "cell_type": "code",
   "execution_count": 15,
   "metadata": {},
   "outputs": [
    {
     "data": {
      "text/plain": [
       "DatetimeIndex(['2018-01-01', '2018-01-02', '2018-01-03', '2018-01-04',\n",
       "               '2018-01-05', '2018-01-06', '2018-01-07', '2018-01-08',\n",
       "               '2018-01-09', '2018-01-10'],\n",
       "              dtype='datetime64[ns]', freq='D')"
      ]
     },
     "execution_count": 15,
     "metadata": {},
     "output_type": "execute_result"
    }
   ],
   "source": [
    "dates = pd.date_range('20180101', periods=10)\n",
    "dates"
   ]
  },
  {
   "cell_type": "code",
   "execution_count": 16,
   "metadata": {},
   "outputs": [
    {
     "data": {
      "text/html": [
       "<div>\n",
       "<style scoped>\n",
       "    .dataframe tbody tr th:only-of-type {\n",
       "        vertical-align: middle;\n",
       "    }\n",
       "\n",
       "    .dataframe tbody tr th {\n",
       "        vertical-align: top;\n",
       "    }\n",
       "\n",
       "    .dataframe thead th {\n",
       "        text-align: right;\n",
       "    }\n",
       "</style>\n",
       "<table border=\"1\" class=\"dataframe\">\n",
       "  <thead>\n",
       "    <tr style=\"text-align: right;\">\n",
       "      <th></th>\n",
       "      <th>A</th>\n",
       "      <th>B</th>\n",
       "      <th>C</th>\n",
       "      <th>D</th>\n",
       "    </tr>\n",
       "  </thead>\n",
       "  <tbody>\n",
       "    <tr>\n",
       "      <th>2018-01-01</th>\n",
       "      <td>0.133189</td>\n",
       "      <td>0.321272</td>\n",
       "      <td>0.465424</td>\n",
       "      <td>-1.018201</td>\n",
       "    </tr>\n",
       "    <tr>\n",
       "      <th>2018-01-02</th>\n",
       "      <td>-1.147289</td>\n",
       "      <td>0.044647</td>\n",
       "      <td>-2.387923</td>\n",
       "      <td>0.323491</td>\n",
       "    </tr>\n",
       "    <tr>\n",
       "      <th>2018-01-03</th>\n",
       "      <td>-1.078864</td>\n",
       "      <td>0.314767</td>\n",
       "      <td>0.682632</td>\n",
       "      <td>0.783059</td>\n",
       "    </tr>\n",
       "    <tr>\n",
       "      <th>2018-01-04</th>\n",
       "      <td>-0.765353</td>\n",
       "      <td>0.401599</td>\n",
       "      <td>0.465169</td>\n",
       "      <td>-0.079051</td>\n",
       "    </tr>\n",
       "    <tr>\n",
       "      <th>2018-01-05</th>\n",
       "      <td>1.160529</td>\n",
       "      <td>-0.953878</td>\n",
       "      <td>0.201160</td>\n",
       "      <td>0.062290</td>\n",
       "    </tr>\n",
       "    <tr>\n",
       "      <th>2018-01-06</th>\n",
       "      <td>0.687917</td>\n",
       "      <td>-0.185473</td>\n",
       "      <td>-0.913351</td>\n",
       "      <td>1.372816</td>\n",
       "    </tr>\n",
       "    <tr>\n",
       "      <th>2018-01-07</th>\n",
       "      <td>-1.092238</td>\n",
       "      <td>-1.224733</td>\n",
       "      <td>0.135891</td>\n",
       "      <td>0.303313</td>\n",
       "    </tr>\n",
       "    <tr>\n",
       "      <th>2018-01-08</th>\n",
       "      <td>0.227621</td>\n",
       "      <td>-1.150561</td>\n",
       "      <td>-0.481398</td>\n",
       "      <td>-0.724331</td>\n",
       "    </tr>\n",
       "    <tr>\n",
       "      <th>2018-01-09</th>\n",
       "      <td>0.445875</td>\n",
       "      <td>0.406352</td>\n",
       "      <td>0.186000</td>\n",
       "      <td>-0.792940</td>\n",
       "    </tr>\n",
       "    <tr>\n",
       "      <th>2018-01-10</th>\n",
       "      <td>-0.192745</td>\n",
       "      <td>-0.576313</td>\n",
       "      <td>1.290575</td>\n",
       "      <td>0.279812</td>\n",
       "    </tr>\n",
       "  </tbody>\n",
       "</table>\n",
       "</div>"
      ],
      "text/plain": [
       "                   A         B         C         D\n",
       "2018-01-01  0.133189  0.321272  0.465424 -1.018201\n",
       "2018-01-02 -1.147289  0.044647 -2.387923  0.323491\n",
       "2018-01-03 -1.078864  0.314767  0.682632  0.783059\n",
       "2018-01-04 -0.765353  0.401599  0.465169 -0.079051\n",
       "2018-01-05  1.160529 -0.953878  0.201160  0.062290\n",
       "2018-01-06  0.687917 -0.185473 -0.913351  1.372816\n",
       "2018-01-07 -1.092238 -1.224733  0.135891  0.303313\n",
       "2018-01-08  0.227621 -1.150561 -0.481398 -0.724331\n",
       "2018-01-09  0.445875  0.406352  0.186000 -0.792940\n",
       "2018-01-10 -0.192745 -0.576313  1.290575  0.279812"
      ]
     },
     "execution_count": 16,
     "metadata": {},
     "output_type": "execute_result"
    }
   ],
   "source": [
    "df = pd.DataFrame(np.random.randn(10,4), index=dates, columns=list('ABCD'))\n",
    "df"
   ]
  },
  {
   "cell_type": "code",
   "execution_count": 17,
   "metadata": {},
   "outputs": [
    {
     "data": {
      "text/html": [
       "<div>\n",
       "<style scoped>\n",
       "    .dataframe tbody tr th:only-of-type {\n",
       "        vertical-align: middle;\n",
       "    }\n",
       "\n",
       "    .dataframe tbody tr th {\n",
       "        vertical-align: top;\n",
       "    }\n",
       "\n",
       "    .dataframe thead th {\n",
       "        text-align: right;\n",
       "    }\n",
       "</style>\n",
       "<table border=\"1\" class=\"dataframe\">\n",
       "  <thead>\n",
       "    <tr style=\"text-align: right;\">\n",
       "      <th></th>\n",
       "      <th>2018-01-01 00:00:00</th>\n",
       "      <th>2018-01-02 00:00:00</th>\n",
       "      <th>2018-01-03 00:00:00</th>\n",
       "      <th>2018-01-04 00:00:00</th>\n",
       "      <th>2018-01-05 00:00:00</th>\n",
       "      <th>2018-01-06 00:00:00</th>\n",
       "      <th>2018-01-07 00:00:00</th>\n",
       "      <th>2018-01-08 00:00:00</th>\n",
       "      <th>2018-01-09 00:00:00</th>\n",
       "      <th>2018-01-10 00:00:00</th>\n",
       "    </tr>\n",
       "  </thead>\n",
       "  <tbody>\n",
       "    <tr>\n",
       "      <th>A</th>\n",
       "      <td>0.133189</td>\n",
       "      <td>-1.147289</td>\n",
       "      <td>-1.078864</td>\n",
       "      <td>-0.765353</td>\n",
       "      <td>1.160529</td>\n",
       "      <td>0.687917</td>\n",
       "      <td>-1.092238</td>\n",
       "      <td>0.227621</td>\n",
       "      <td>0.445875</td>\n",
       "      <td>-0.192745</td>\n",
       "    </tr>\n",
       "    <tr>\n",
       "      <th>B</th>\n",
       "      <td>0.321272</td>\n",
       "      <td>0.044647</td>\n",
       "      <td>0.314767</td>\n",
       "      <td>0.401599</td>\n",
       "      <td>-0.953878</td>\n",
       "      <td>-0.185473</td>\n",
       "      <td>-1.224733</td>\n",
       "      <td>-1.150561</td>\n",
       "      <td>0.406352</td>\n",
       "      <td>-0.576313</td>\n",
       "    </tr>\n",
       "    <tr>\n",
       "      <th>C</th>\n",
       "      <td>0.465424</td>\n",
       "      <td>-2.387923</td>\n",
       "      <td>0.682632</td>\n",
       "      <td>0.465169</td>\n",
       "      <td>0.201160</td>\n",
       "      <td>-0.913351</td>\n",
       "      <td>0.135891</td>\n",
       "      <td>-0.481398</td>\n",
       "      <td>0.186000</td>\n",
       "      <td>1.290575</td>\n",
       "    </tr>\n",
       "    <tr>\n",
       "      <th>D</th>\n",
       "      <td>-1.018201</td>\n",
       "      <td>0.323491</td>\n",
       "      <td>0.783059</td>\n",
       "      <td>-0.079051</td>\n",
       "      <td>0.062290</td>\n",
       "      <td>1.372816</td>\n",
       "      <td>0.303313</td>\n",
       "      <td>-0.724331</td>\n",
       "      <td>-0.792940</td>\n",
       "      <td>0.279812</td>\n",
       "    </tr>\n",
       "  </tbody>\n",
       "</table>\n",
       "</div>"
      ],
      "text/plain": [
       "   2018-01-01  2018-01-02  2018-01-03  2018-01-04  2018-01-05  2018-01-06  \\\n",
       "A    0.133189   -1.147289   -1.078864   -0.765353    1.160529    0.687917   \n",
       "B    0.321272    0.044647    0.314767    0.401599   -0.953878   -0.185473   \n",
       "C    0.465424   -2.387923    0.682632    0.465169    0.201160   -0.913351   \n",
       "D   -1.018201    0.323491    0.783059   -0.079051    0.062290    1.372816   \n",
       "\n",
       "   2018-01-07  2018-01-08  2018-01-09  2018-01-10  \n",
       "A   -1.092238    0.227621    0.445875   -0.192745  \n",
       "B   -1.224733   -1.150561    0.406352   -0.576313  \n",
       "C    0.135891   -0.481398    0.186000    1.290575  \n",
       "D    0.303313   -0.724331   -0.792940    0.279812  "
      ]
     },
     "execution_count": 17,
     "metadata": {},
     "output_type": "execute_result"
    }
   ],
   "source": [
    "# 转置\n",
    "df.T"
   ]
  },
  {
   "cell_type": "code",
   "execution_count": 18,
   "metadata": {},
   "outputs": [
    {
     "data": {
      "text/html": [
       "<div>\n",
       "<style scoped>\n",
       "    .dataframe tbody tr th:only-of-type {\n",
       "        vertical-align: middle;\n",
       "    }\n",
       "\n",
       "    .dataframe tbody tr th {\n",
       "        vertical-align: top;\n",
       "    }\n",
       "\n",
       "    .dataframe thead th {\n",
       "        text-align: right;\n",
       "    }\n",
       "</style>\n",
       "<table border=\"1\" class=\"dataframe\">\n",
       "  <thead>\n",
       "    <tr style=\"text-align: right;\">\n",
       "      <th></th>\n",
       "      <th>A</th>\n",
       "      <th>B</th>\n",
       "      <th>C</th>\n",
       "      <th>D</th>\n",
       "    </tr>\n",
       "  </thead>\n",
       "  <tbody>\n",
       "    <tr>\n",
       "      <th>2018-01-01</th>\n",
       "      <td>0.133189</td>\n",
       "      <td>0.321272</td>\n",
       "      <td>0.465424</td>\n",
       "      <td>-1.018201</td>\n",
       "    </tr>\n",
       "    <tr>\n",
       "      <th>2018-01-02</th>\n",
       "      <td>-1.147289</td>\n",
       "      <td>0.044647</td>\n",
       "      <td>-2.387923</td>\n",
       "      <td>0.323491</td>\n",
       "    </tr>\n",
       "    <tr>\n",
       "      <th>2018-01-03</th>\n",
       "      <td>-1.078864</td>\n",
       "      <td>0.314767</td>\n",
       "      <td>0.682632</td>\n",
       "      <td>0.783059</td>\n",
       "    </tr>\n",
       "    <tr>\n",
       "      <th>2018-01-04</th>\n",
       "      <td>-0.765353</td>\n",
       "      <td>0.401599</td>\n",
       "      <td>0.465169</td>\n",
       "      <td>-0.079051</td>\n",
       "    </tr>\n",
       "    <tr>\n",
       "      <th>2018-01-05</th>\n",
       "      <td>1.160529</td>\n",
       "      <td>-0.953878</td>\n",
       "      <td>0.201160</td>\n",
       "      <td>0.062290</td>\n",
       "    </tr>\n",
       "  </tbody>\n",
       "</table>\n",
       "</div>"
      ],
      "text/plain": [
       "                   A         B         C         D\n",
       "2018-01-01  0.133189  0.321272  0.465424 -1.018201\n",
       "2018-01-02 -1.147289  0.044647 -2.387923  0.323491\n",
       "2018-01-03 -1.078864  0.314767  0.682632  0.783059\n",
       "2018-01-04 -0.765353  0.401599  0.465169 -0.079051\n",
       "2018-01-05  1.160529 -0.953878  0.201160  0.062290"
      ]
     },
     "execution_count": 18,
     "metadata": {},
     "output_type": "execute_result"
    }
   ],
   "source": [
    "# Head and Tail\n",
    "df.head()"
   ]
  },
  {
   "cell_type": "code",
   "execution_count": 19,
   "metadata": {},
   "outputs": [
    {
     "data": {
      "text/html": [
       "<div>\n",
       "<style scoped>\n",
       "    .dataframe tbody tr th:only-of-type {\n",
       "        vertical-align: middle;\n",
       "    }\n",
       "\n",
       "    .dataframe tbody tr th {\n",
       "        vertical-align: top;\n",
       "    }\n",
       "\n",
       "    .dataframe thead th {\n",
       "        text-align: right;\n",
       "    }\n",
       "</style>\n",
       "<table border=\"1\" class=\"dataframe\">\n",
       "  <thead>\n",
       "    <tr style=\"text-align: right;\">\n",
       "      <th></th>\n",
       "      <th>A</th>\n",
       "      <th>B</th>\n",
       "      <th>C</th>\n",
       "      <th>D</th>\n",
       "    </tr>\n",
       "  </thead>\n",
       "  <tbody>\n",
       "    <tr>\n",
       "      <th>2018-01-08</th>\n",
       "      <td>0.227621</td>\n",
       "      <td>-1.150561</td>\n",
       "      <td>-0.481398</td>\n",
       "      <td>-0.724331</td>\n",
       "    </tr>\n",
       "    <tr>\n",
       "      <th>2018-01-09</th>\n",
       "      <td>0.445875</td>\n",
       "      <td>0.406352</td>\n",
       "      <td>0.186000</td>\n",
       "      <td>-0.792940</td>\n",
       "    </tr>\n",
       "    <tr>\n",
       "      <th>2018-01-10</th>\n",
       "      <td>-0.192745</td>\n",
       "      <td>-0.576313</td>\n",
       "      <td>1.290575</td>\n",
       "      <td>0.279812</td>\n",
       "    </tr>\n",
       "  </tbody>\n",
       "</table>\n",
       "</div>"
      ],
      "text/plain": [
       "                   A         B         C         D\n",
       "2018-01-08  0.227621 -1.150561 -0.481398 -0.724331\n",
       "2018-01-09  0.445875  0.406352  0.186000 -0.792940\n",
       "2018-01-10 -0.192745 -0.576313  1.290575  0.279812"
      ]
     },
     "execution_count": 19,
     "metadata": {},
     "output_type": "execute_result"
    }
   ],
   "source": [
    "df.tail(3)"
   ]
  },
  {
   "cell_type": "code",
   "execution_count": 20,
   "metadata": {},
   "outputs": [
    {
     "data": {
      "text/html": [
       "<div>\n",
       "<style scoped>\n",
       "    .dataframe tbody tr th:only-of-type {\n",
       "        vertical-align: middle;\n",
       "    }\n",
       "\n",
       "    .dataframe tbody tr th {\n",
       "        vertical-align: top;\n",
       "    }\n",
       "\n",
       "    .dataframe thead th {\n",
       "        text-align: right;\n",
       "    }\n",
       "</style>\n",
       "<table border=\"1\" class=\"dataframe\">\n",
       "  <thead>\n",
       "    <tr style=\"text-align: right;\">\n",
       "      <th></th>\n",
       "      <th>A</th>\n",
       "      <th>B</th>\n",
       "      <th>C</th>\n",
       "      <th>D</th>\n",
       "    </tr>\n",
       "  </thead>\n",
       "  <tbody>\n",
       "    <tr>\n",
       "      <th>count</th>\n",
       "      <td>10.000000</td>\n",
       "      <td>10.000000</td>\n",
       "      <td>10.000000</td>\n",
       "      <td>10.000000</td>\n",
       "    </tr>\n",
       "    <tr>\n",
       "      <th>mean</th>\n",
       "      <td>-0.162136</td>\n",
       "      <td>-0.260232</td>\n",
       "      <td>-0.035582</td>\n",
       "      <td>0.051026</td>\n",
       "    </tr>\n",
       "    <tr>\n",
       "      <th>std</th>\n",
       "      <td>0.824732</td>\n",
       "      <td>0.662794</td>\n",
       "      <td>1.022718</td>\n",
       "      <td>0.741394</td>\n",
       "    </tr>\n",
       "    <tr>\n",
       "      <th>min</th>\n",
       "      <td>-1.147289</td>\n",
       "      <td>-1.224733</td>\n",
       "      <td>-2.387923</td>\n",
       "      <td>-1.018201</td>\n",
       "    </tr>\n",
       "    <tr>\n",
       "      <th>25%</th>\n",
       "      <td>-1.000486</td>\n",
       "      <td>-0.859487</td>\n",
       "      <td>-0.327076</td>\n",
       "      <td>-0.563011</td>\n",
       "    </tr>\n",
       "    <tr>\n",
       "      <th>50%</th>\n",
       "      <td>-0.029778</td>\n",
       "      <td>-0.070413</td>\n",
       "      <td>0.193580</td>\n",
       "      <td>0.171051</td>\n",
       "    </tr>\n",
       "    <tr>\n",
       "      <th>75%</th>\n",
       "      <td>0.391311</td>\n",
       "      <td>0.319646</td>\n",
       "      <td>0.465360</td>\n",
       "      <td>0.318447</td>\n",
       "    </tr>\n",
       "    <tr>\n",
       "      <th>max</th>\n",
       "      <td>1.160529</td>\n",
       "      <td>0.406352</td>\n",
       "      <td>1.290575</td>\n",
       "      <td>1.372816</td>\n",
       "    </tr>\n",
       "  </tbody>\n",
       "</table>\n",
       "</div>"
      ],
      "text/plain": [
       "               A          B          C          D\n",
       "count  10.000000  10.000000  10.000000  10.000000\n",
       "mean   -0.162136  -0.260232  -0.035582   0.051026\n",
       "std     0.824732   0.662794   1.022718   0.741394\n",
       "min    -1.147289  -1.224733  -2.387923  -1.018201\n",
       "25%    -1.000486  -0.859487  -0.327076  -0.563011\n",
       "50%    -0.029778  -0.070413   0.193580   0.171051\n",
       "75%     0.391311   0.319646   0.465360   0.318447\n",
       "max     1.160529   0.406352   1.290575   1.372816"
      ]
     },
     "execution_count": 20,
     "metadata": {},
     "output_type": "execute_result"
    }
   ],
   "source": [
    " df.describe()"
   ]
  },
  {
   "cell_type": "markdown",
   "metadata": {},
   "source": [
    "#### Time Series"
   ]
  },
  {
   "cell_type": "code",
   "execution_count": 21,
   "metadata": {},
   "outputs": [
    {
     "data": {
      "text/plain": [
       "DatetimeIndex(['2018-01-01 00:00:00', '2018-01-01 01:00:00',\n",
       "               '2018-01-01 02:00:00', '2018-01-01 03:00:00',\n",
       "               '2018-01-01 04:00:00'],\n",
       "              dtype='datetime64[ns]', freq='H')"
      ]
     },
     "execution_count": 21,
     "metadata": {},
     "output_type": "execute_result"
    }
   ],
   "source": [
    "# 72 hours starting with midnight Jan 1st, 2018\n",
    "rng = pd.date_range('1/1/2018', periods=72, freq='H')\n",
    "rng[:5]"
   ]
  },
  {
   "cell_type": "code",
   "execution_count": 22,
   "metadata": {},
   "outputs": [
    {
     "data": {
      "text/plain": [
       "2018-01-01 00:00:00   -0.222746\n",
       "2018-01-01 01:00:00   -0.101326\n",
       "2018-01-01 02:00:00   -0.029764\n",
       "2018-01-01 03:00:00    0.696095\n",
       "2018-01-01 04:00:00   -0.622539\n",
       "Freq: H, dtype: float64"
      ]
     },
     "execution_count": 22,
     "metadata": {},
     "output_type": "execute_result"
    }
   ],
   "source": [
    "#Index pandas objects with dates:\n",
    "ts = pd.Series(np.random.randn(len(rng)), index=rng) #Generate random data with size len(rng)\n",
    "ts.head()"
   ]
  },
  {
   "cell_type": "code",
   "execution_count": 23,
   "metadata": {},
   "outputs": [
    {
     "data": {
      "text/plain": [
       "2018-01-01   -0.071020\n",
       "2018-01-02   -0.248210\n",
       "2018-01-03    0.228202\n",
       "Freq: D, dtype: float64"
      ]
     },
     "execution_count": 23,
     "metadata": {},
     "output_type": "execute_result"
    }
   ],
   "source": [
    "#Resample the series to a daily frequency:\n",
    "# Daily means\n",
    "ts.resample('D').mean()"
   ]
  },
  {
   "cell_type": "code",
   "execution_count": 24,
   "metadata": {},
   "outputs": [
    {
     "data": {
      "text/plain": [
       "<matplotlib.axes._subplots.AxesSubplot at 0x17a11435ba8>"
      ]
     },
     "execution_count": 24,
     "metadata": {},
     "output_type": "execute_result"
    },
    {
     "data": {
      "image/png": "[encoded data removed]",
      "text/plain": [
       "<Figure size 432x288 with 1 Axes>"
      ]
     },
     "metadata": {},
     "output_type": "display_data"
    }
   ],
   "source": [
    "ts = pd.Series(np.random.randn(1000), index=pd.date_range('1/1/2015', periods=1000))\n",
    "ts = ts.cumsum() # cumulative sum\n",
    "ts.plot()"
   ]
  },
  {
   "cell_type": "code",
   "execution_count": 25,
   "metadata": {},
   "outputs": [],
   "source": [
    "df = pd.DataFrame(\n",
    "    np.random.randn(1000, 4), index=ts.index, columns=['A', 'B', 'C', 'D'])\n",
    "df = df.cumsum()"
   ]
  },
  {
   "cell_type": "code",
   "execution_count": 26,
   "metadata": {},
   "outputs": [
    {
     "data": {
      "text/plain": [
       "<matplotlib.legend.Legend at 0x17a1179b518>"
      ]
     },
     "execution_count": 26,
     "metadata": {},
     "output_type": "execute_result"
    },
    {
     "data": {
      "text/plain": [
       "<Figure size 432x288 with 0 Axes>"
      ]
     },
     "metadata": {},
     "output_type": "display_data"
    },
    {
     "data": {
      "image/png": "[encoded data removed]",
      "text/plain": [
       "<Figure size 432x288 with 1 Axes>"
      ]
     },
     "metadata": {},
     "output_type": "display_data"
    }
   ],
   "source": [
    " plt.figure(); df.plot(); plt.legend(loc='best')"
   ]
  },
  {
   "cell_type": "markdown",
   "metadata": {},
   "source": [
    "#### Categoricals\n",
    "\n",
    "pandas can include categorical data in a `DataFrame`. For full docs, see the [categorical introduction](https://pandas.pydata.org/pandas-docs/stable/categorical.html#categorical) and the [API documentation](https://pandas.pydata.org/pandas-docs/stable/api.html#api-categorical)."
   ]
  },
  {
   "cell_type": "code",
   "execution_count": 27,
   "metadata": {},
   "outputs": [],
   "source": [
    "df = pd.DataFrame({\"id\":[1,2,3,4,5,6], \"raw_grade\":['a', 'b', 'b', 'a', 'a', 'e']})"
   ]
  },
  {
   "cell_type": "code",
   "execution_count": 28,
   "metadata": {},
   "outputs": [
    {
     "data": {
      "text/plain": [
       "0    a\n",
       "1    b\n",
       "2    b\n",
       "3    a\n",
       "4    a\n",
       "5    e\n",
       "Name: grade, dtype: category\n",
       "Categories (3, object): [a, b, e]"
      ]
     },
     "execution_count": 28,
     "metadata": {},
     "output_type": "execute_result"
    }
   ],
   "source": [
    "#Convert the raw grades to a categorical data type\n",
    "df[\"grade\"] = df[\"raw_grade\"].astype(\"category\")\n",
    "df[\"grade\"]"
   ]
  },
  {
   "cell_type": "code",
   "execution_count": 29,
   "metadata": {},
   "outputs": [
    {
     "data": {
      "text/plain": [
       "0    very good\n",
       "1         good\n",
       "2         good\n",
       "3    very good\n",
       "4    very good\n",
       "5     very bad\n",
       "Name: grade, dtype: category\n",
       "Categories (5, object): [very bad, bad, medium, good, very good]"
      ]
     },
     "execution_count": 29,
     "metadata": {},
     "output_type": "execute_result"
    }
   ],
   "source": [
    "df[\"grade\"].cat.categories = [\"very good\", \"good\", \"very bad\"]\n",
    "df[\"grade\"] = df[\"grade\"].cat.set_categories([\"very bad\", \"bad\", \"medium\", \"good\", \"very good\"])\n",
    "df[\"grade\"]"
   ]
  },
  {
   "cell_type": "code",
   "execution_count": 30,
   "metadata": {},
   "outputs": [
    {
     "data": {
      "text/plain": [
       "grade\n",
       "very bad     1\n",
       "bad          0\n",
       "medium       0\n",
       "good         2\n",
       "very good    3\n",
       "dtype: int64"
      ]
     },
     "execution_count": 30,
     "metadata": {},
     "output_type": "execute_result"
    }
   ],
   "source": [
    "df.groupby(\"grade\").size()"
   ]
  },
  {
   "cell_type": "code",
   "execution_count": 31,
   "metadata": {},
   "outputs": [
    {
     "data": {
      "text/html": [
       "<div>\n",
       "<style scoped>\n",
       "    .dataframe tbody tr th:only-of-type {\n",
       "        vertical-align: middle;\n",
       "    }\n",
       "\n",
       "    .dataframe tbody tr th {\n",
       "        vertical-align: top;\n",
       "    }\n",
       "\n",
       "    .dataframe thead th {\n",
       "        text-align: right;\n",
       "    }\n",
       "</style>\n",
       "<table border=\"1\" class=\"dataframe\">\n",
       "  <thead>\n",
       "    <tr style=\"text-align: right;\">\n",
       "      <th></th>\n",
       "      <th>id</th>\n",
       "      <th>raw_grade</th>\n",
       "      <th>grade</th>\n",
       "    </tr>\n",
       "  </thead>\n",
       "  <tbody>\n",
       "    <tr>\n",
       "      <th>5</th>\n",
       "      <td>6</td>\n",
       "      <td>e</td>\n",
       "      <td>very bad</td>\n",
       "    </tr>\n",
       "    <tr>\n",
       "      <th>1</th>\n",
       "      <td>2</td>\n",
       "      <td>b</td>\n",
       "      <td>good</td>\n",
       "    </tr>\n",
       "    <tr>\n",
       "      <th>2</th>\n",
       "      <td>3</td>\n",
       "      <td>b</td>\n",
       "      <td>good</td>\n",
       "    </tr>\n",
       "    <tr>\n",
       "      <th>0</th>\n",
       "      <td>1</td>\n",
       "      <td>a</td>\n",
       "      <td>very good</td>\n",
       "    </tr>\n",
       "    <tr>\n",
       "      <th>3</th>\n",
       "      <td>4</td>\n",
       "      <td>a</td>\n",
       "      <td>very good</td>\n",
       "    </tr>\n",
       "    <tr>\n",
       "      <th>4</th>\n",
       "      <td>5</td>\n",
       "      <td>a</td>\n",
       "      <td>very good</td>\n",
       "    </tr>\n",
       "  </tbody>\n",
       "</table>\n",
       "</div>"
      ],
      "text/plain": [
       "   id raw_grade      grade\n",
       "5   6         e   very bad\n",
       "1   2         b       good\n",
       "2   3         b       good\n",
       "0   1         a  very good\n",
       "3   4         a  very good\n",
       "4   5         a  very good"
      ]
     },
     "execution_count": 31,
     "metadata": {},
     "output_type": "execute_result"
    }
   ],
   "source": [
    "df.sort_values(by=\"grade\")"
   ]
  },
  {
   "cell_type": "markdown",
   "metadata": {},
   "source": [
    "#### Getting Data In/Out"
   ]
  },
  {
   "cell_type": "code",
   "execution_count": 32,
   "metadata": {},
   "outputs": [],
   "source": [
    "# Writing to a csv file.\n",
    "df.to_csv('foo.csv')"
   ]
  },
  {
   "cell_type": "code",
   "execution_count": 33,
   "metadata": {},
   "outputs": [
    {
     "data": {
      "text/html": [
       "<div>\n",
       "<style scoped>\n",
       "    .dataframe tbody tr th:only-of-type {\n",
       "        vertical-align: middle;\n",
       "    }\n",
       "\n",
       "    .dataframe tbody tr th {\n",
       "        vertical-align: top;\n",
       "    }\n",
       "\n",
       "    .dataframe thead th {\n",
       "        text-align: right;\n",
       "    }\n",
       "</style>\n",
       "<table border=\"1\" class=\"dataframe\">\n",
       "  <thead>\n",
       "    <tr style=\"text-align: right;\">\n",
       "      <th></th>\n",
       "      <th>Unnamed: 0</th>\n",
       "      <th>id</th>\n",
       "      <th>raw_grade</th>\n",
       "      <th>grade</th>\n",
       "    </tr>\n",
       "  </thead>\n",
       "  <tbody>\n",
       "    <tr>\n",
       "      <th>0</th>\n",
       "      <td>0</td>\n",
       "      <td>1</td>\n",
       "      <td>a</td>\n",
       "      <td>very good</td>\n",
       "    </tr>\n",
       "    <tr>\n",
       "      <th>1</th>\n",
       "      <td>1</td>\n",
       "      <td>2</td>\n",
       "      <td>b</td>\n",
       "      <td>good</td>\n",
       "    </tr>\n",
       "    <tr>\n",
       "      <th>2</th>\n",
       "      <td>2</td>\n",
       "      <td>3</td>\n",
       "      <td>b</td>\n",
       "      <td>good</td>\n",
       "    </tr>\n",
       "    <tr>\n",
       "      <th>3</th>\n",
       "      <td>3</td>\n",
       "      <td>4</td>\n",
       "      <td>a</td>\n",
       "      <td>very good</td>\n",
       "    </tr>\n",
       "    <tr>\n",
       "      <th>4</th>\n",
       "      <td>4</td>\n",
       "      <td>5</td>\n",
       "      <td>a</td>\n",
       "      <td>very good</td>\n",
       "    </tr>\n",
       "    <tr>\n",
       "      <th>5</th>\n",
       "      <td>5</td>\n",
       "      <td>6</td>\n",
       "      <td>e</td>\n",
       "      <td>very bad</td>\n",
       "    </tr>\n",
       "  </tbody>\n",
       "</table>\n",
       "</div>"
      ],
      "text/plain": [
       "   Unnamed: 0  id raw_grade      grade\n",
       "0           0   1         a  very good\n",
       "1           1   2         b       good\n",
       "2           2   3         b       good\n",
       "3           3   4         a  very good\n",
       "4           4   5         a  very good\n",
       "5           5   6         e   very bad"
      ]
     },
     "execution_count": 33,
     "metadata": {},
     "output_type": "execute_result"
    }
   ],
   "source": [
    "# Reading from a csv file.\n",
    "pd.read_csv('foo.csv')"
   ]
  },
  {
   "cell_type": "code",
   "execution_count": 34,
   "metadata": {},
   "outputs": [],
   "source": [
    "# Writing to an excel file.\n",
    "df.to_excel('foo.xlsx', sheet_name='Sheet1')"
   ]
  },
  {
   "cell_type": "code",
   "execution_count": 35,
   "metadata": {},
   "outputs": [
    {
     "data": {
      "text/html": [
       "<div>\n",
       "<style scoped>\n",
       "    .dataframe tbody tr th:only-of-type {\n",
       "        vertical-align: middle;\n",
       "    }\n",
       "\n",
       "    .dataframe tbody tr th {\n",
       "        vertical-align: top;\n",
       "    }\n",
       "\n",
       "    .dataframe thead th {\n",
       "        text-align: right;\n",
       "    }\n",
       "</style>\n",
       "<table border=\"1\" class=\"dataframe\">\n",
       "  <thead>\n",
       "    <tr style=\"text-align: right;\">\n",
       "      <th></th>\n",
       "      <th>id</th>\n",
       "      <th>raw_grade</th>\n",
       "      <th>grade</th>\n",
       "    </tr>\n",
       "  </thead>\n",
       "  <tbody>\n",
       "    <tr>\n",
       "      <th>0</th>\n",
       "      <td>1</td>\n",
       "      <td>a</td>\n",
       "      <td>very good</td>\n",
       "    </tr>\n",
       "    <tr>\n",
       "      <th>1</th>\n",
       "      <td>2</td>\n",
       "      <td>b</td>\n",
       "      <td>good</td>\n",
       "    </tr>\n",
       "    <tr>\n",
       "      <th>2</th>\n",
       "      <td>3</td>\n",
       "      <td>b</td>\n",
       "      <td>good</td>\n",
       "    </tr>\n",
       "    <tr>\n",
       "      <th>3</th>\n",
       "      <td>4</td>\n",
       "      <td>a</td>\n",
       "      <td>very good</td>\n",
       "    </tr>\n",
       "    <tr>\n",
       "      <th>4</th>\n",
       "      <td>5</td>\n",
       "      <td>a</td>\n",
       "      <td>very good</td>\n",
       "    </tr>\n",
       "    <tr>\n",
       "      <th>5</th>\n",
       "      <td>6</td>\n",
       "      <td>e</td>\n",
       "      <td>very bad</td>\n",
       "    </tr>\n",
       "  </tbody>\n",
       "</table>\n",
       "</div>"
      ],
      "text/plain": [
       "   id raw_grade      grade\n",
       "0   1         a  very good\n",
       "1   2         b       good\n",
       "2   3         b       good\n",
       "3   4         a  very good\n",
       "4   5         a  very good\n",
       "5   6         e   very bad"
      ]
     },
     "execution_count": 35,
     "metadata": {},
     "output_type": "execute_result"
    }
   ],
   "source": [
    "pd.read_excel('foo.xlsx', 'Sheet1', index_col=None, na_values=['NA'])"
   ]
  },
  {
   "cell_type": "markdown",
   "metadata": {},
   "source": [
    "### NUMPY：多维数据矩阵与线性代数"
   ]
  },
  {
   "cell_type": "code",
   "execution_count": 36,
   "metadata": {},
   "outputs": [],
   "source": [
    "from scipy.linalg import *  #线性代数包"
   ]
  },
  {
   "cell_type": "code",
   "execution_count": 37,
   "metadata": {},
   "outputs": [
    {
     "data": {
      "text/plain": [
       "array([0, 1, 2, 3, 4, 5, 6, 7, 8, 9])"
      ]
     },
     "execution_count": 37,
     "metadata": {},
     "output_type": "execute_result"
    }
   ],
   "source": [
    "# create a range\n",
    "\n",
    "x = np.arange(0, 10, 1) # arguments: start, stop, step\n",
    "\n",
    "x"
   ]
  },
  {
   "cell_type": "code",
   "execution_count": 38,
   "metadata": {},
   "outputs": [
    {
     "data": {
      "text/plain": [
       "matrix([[1, 2],\n",
       "        [3, 4]])"
      ]
     },
     "execution_count": 38,
     "metadata": {},
     "output_type": "execute_result"
    }
   ],
   "source": [
    "A = np.matrix([[1, 2], [3, 4]])\n",
    "A"
   ]
  },
  {
   "cell_type": "code",
   "execution_count": 39,
   "metadata": {},
   "outputs": [
    {
     "data": {
      "text/plain": [
       "matrix([[5, 6],\n",
       "        [7, 8]])"
      ]
     },
     "execution_count": 39,
     "metadata": {},
     "output_type": "execute_result"
    }
   ],
   "source": [
    "B = np.matrix(\"5,6; 7,8\")\n",
    "B"
   ]
  },
  {
   "cell_type": "code",
   "execution_count": 40,
   "metadata": {},
   "outputs": [
    {
     "data": {
      "text/plain": [
       "matrix([[19, 22],\n",
       "        [43, 50]])"
      ]
     },
     "execution_count": 40,
     "metadata": {},
     "output_type": "execute_result"
    }
   ],
   "source": [
    "#矩阵乘法\n",
    "np.dot(A, B)"
   ]
  },
  {
   "cell_type": "code",
   "execution_count": 41,
   "metadata": {},
   "outputs": [
    {
     "data": {
      "text/plain": [
       "matrix([[19, 22],\n",
       "        [43, 50]])"
      ]
     },
     "execution_count": 41,
     "metadata": {},
     "output_type": "execute_result"
    }
   ],
   "source": [
    "#或者：A*B\n",
    "A*B"
   ]
  },
  {
   "cell_type": "code",
   "execution_count": 42,
   "metadata": {},
   "outputs": [
    {
     "data": {
      "text/plain": [
       "matrix([[1, 3],\n",
       "        [2, 4]])"
      ]
     },
     "execution_count": 42,
     "metadata": {},
     "output_type": "execute_result"
    }
   ],
   "source": [
    "#矩阵的转置：.T\n",
    "AT = A.T\n",
    "AT"
   ]
  },
  {
   "cell_type": "code",
   "execution_count": 43,
   "metadata": {},
   "outputs": [
    {
     "data": {
      "text/plain": [
       "array([[-2. ,  1. ],\n",
       "       [ 1.5, -0.5]])"
      ]
     },
     "execution_count": 43,
     "metadata": {},
     "output_type": "execute_result"
    }
   ],
   "source": [
    "#矩阵的逆，直接调用scipy.linalg\n",
    "inv(A)"
   ]
  },
  {
   "cell_type": "code",
   "execution_count": 44,
   "metadata": {},
   "outputs": [
    {
     "data": {
      "text/plain": [
       "-2.0"
      ]
     },
     "execution_count": 44,
     "metadata": {},
     "output_type": "execute_result"
    }
   ],
   "source": [
    "#矩阵的行列式\n",
    "det(A)"
   ]
  },
  {
   "cell_type": "markdown",
   "metadata": {},
   "source": [
    "解线性方程组：$Ax=b$，用`solve`。\n",
    "\n",
    "求下面线性方程组的解：\n",
    "$$\\begin{cases}\n",
    "     \\begin{align*}\n",
    "        x + 2y = 10 \\\\\n",
    "        3x + 4y = 20\n",
    "     \\end{align*}\n",
    "    \\end{cases}\n",
    "$$    "
   ]
  },
  {
   "cell_type": "code",
   "execution_count": 45,
   "metadata": {},
   "outputs": [
    {
     "data": {
      "text/plain": [
       "array([0., 5.])"
      ]
     },
     "execution_count": 45,
     "metadata": {},
     "output_type": "execute_result"
    }
   ],
   "source": [
    "A = np.array([[1, 2], [3, 4]])\n",
    "b = np.array([10, 20])\n",
    "x = solve(A, b)\n",
    "x"
   ]
  },
  {
   "cell_type": "markdown",
   "metadata": {},
   "source": [
    "求特征值和特征向量: $ Ax=\\lambda x$\n",
    "\n",
    "用`eigvals `计算特征值，用`eig`同时计算特征值和特征向量。"
   ]
  },
  {
   "cell_type": "code",
   "execution_count": 46,
   "metadata": {},
   "outputs": [
    {
     "data": {
      "text/plain": [
       "array([-0.37228132+0.j,  5.37228132+0.j])"
      ]
     },
     "execution_count": 46,
     "metadata": {},
     "output_type": "execute_result"
    }
   ],
   "source": [
    "eigen_val, eigen_vec = eig(A)\n",
    "eigen_val"
   ]
  },
  {
   "cell_type": "markdown",
   "metadata": {},
   "source": [
    "### SciPy: 科学计算库"
   ]
  },
  {
   "cell_type": "markdown",
   "metadata": {},
   "source": [
    "#### 计算积分\n",
    "\n",
    "$$\n",
    "\\int_a^b f(x) dx\n",
    "$$\n",
    "利用`scipy.integrate` 中的 `quad`, `dblquad`, `tplquad`分别表示一重、二重和三重积分。"
   ]
  },
  {
   "cell_type": "code",
   "execution_count": 47,
   "metadata": {},
   "outputs": [],
   "source": [
    "# 计算积分\n",
    "from scipy.integrate import quad, dblquad, tplquad"
   ]
  },
  {
   "cell_type": "code",
   "execution_count": 48,
   "metadata": {},
   "outputs": [],
   "source": [
    "# define a simple function for the integrand\n",
    "def f(x):\n",
    "    return x**2"
   ]
  },
  {
   "cell_type": "code",
   "execution_count": 49,
   "metadata": {},
   "outputs": [
    {
     "name": "stdout",
     "output_type": "stream",
     "text": [
      "integral value = 0.33333333333333337 , absolute error = 3.700743415417189e-15\n"
     ]
    }
   ],
   "source": [
    "x_lower = 0 # the lower limit of x\n",
    "x_upper = 1 # the upper limit of x\n",
    "\n",
    "val, abserr = quad(f, x_lower, x_upper)\n",
    "\n",
    "print(\"integral value =\", val, \", absolute error =\", abserr)"
   ]
  },
  {
   "cell_type": "markdown",
   "metadata": {},
   "source": [
    "计算并验证\n",
    "$$\n",
    "\\int_{-\\infty}^{\\infty} e^{-\\frac{x^2}{2}} dx =\\sqrt{2\\pi}\n",
    "$$\n",
    "\n",
    "For simple functions we can use a `lambda` function (name-less function) instead of explicitly defining a function for the integrand.\n",
    "\n",
    "`float(\"inf\")`表示无穷大$\\infty$。"
   ]
  },
  {
   "cell_type": "code",
   "execution_count": 50,
   "metadata": {},
   "outputs": [
    {
     "name": "stdout",
     "output_type": "stream",
     "text": [
      "numerical  = 2.5066282746309994 2.5512942251001756e-08\n",
      "analytical = 2.5066282746310002\n"
     ]
    }
   ],
   "source": [
    "val, abserr = quad(lambda x: np.exp(-x**2/2), float(\"-inf\"), float(\"inf\"))\n",
    "\n",
    "print(\"numerical  =\", val, abserr)\n",
    "\n",
    "analytical = np.sqrt(2*np.pi)\n",
    "print(\"analytical =\", analytical)"
   ]
  },
  {
   "cell_type": "markdown",
   "metadata": {},
   "source": [
    "计算二重积分\n",
    "$$\n",
    "\\int_0^{10} \\int_0^{10} e^{-(x^2+y^2)} dx dy\n",
    "$$"
   ]
  },
  {
   "cell_type": "code",
   "execution_count": 51,
   "metadata": {},
   "outputs": [
    {
     "name": "stdout",
     "output_type": "stream",
     "text": [
      "0.7853981633974476 1.375309851021853e-08\n"
     ]
    }
   ],
   "source": [
    "def integrand(x, y):\n",
    "    return np.exp(-x**2-y**2)\n",
    "\n",
    "x_lower = 0  \n",
    "x_upper = 10\n",
    "y_lower = 0\n",
    "y_upper = 10\n",
    "\n",
    "val, abserr = dblquad(integrand, x_lower, x_upper, lambda x : y_lower, lambda x: y_upper)\n",
    "\n",
    "print(val, abserr)"
   ]
  },
  {
   "cell_type": "markdown",
   "metadata": {},
   "source": [
    "#### 最优化\n",
    "\n",
    "Optimization (finding minima or maxima of a function) is a large field in mathematics, and optimization of complicated functions or in many variables can be rather involved. \n",
    "\n",
    "**Optimization of a function**\n",
    "\n",
    "Simple way to find the minima near `x0` is\n",
    "\n",
    "`optimize.minimize(f,x0)`\n",
    "\n",
    "or find the minima between `(x0,x1)`\n",
    "\n",
    "`optimize.fminbound(f, x0, x1)`\n",
    "\n",
    "The default method is `BFGS` (Broyden-Fletcher-Goldfarb-Shanno algorithm).\n",
    "\n",
    "**Optimization with constraints**\n",
    "\n",
    "Sequential least square programming with equality ($g(x)=0$) and inequality ($g(x)<0$) constraints:\n",
    "\n",
    "`scipy.optimize.fmin_slsqp()`\n",
    "\n",
    "For a more detailed introduction to optimization with `SciPy`, see: http://scipy-lectures.github.com/advanced/mathematical_optimization/index.html"
   ]
  },
  {
   "cell_type": "code",
   "execution_count": 52,
   "metadata": {},
   "outputs": [],
   "source": [
    "from scipy import optimize"
   ]
  },
  {
   "cell_type": "markdown",
   "metadata": {},
   "source": [
    "求函数最小值：\n",
    "\n",
    "$$f(x)=4x^3+(x-2)^2+x^4$$"
   ]
  },
  {
   "cell_type": "code",
   "execution_count": 53,
   "metadata": {},
   "outputs": [],
   "source": [
    "def f(x):\n",
    "    return 4*x**3 + (x-2)**2 + x**4"
   ]
  },
  {
   "cell_type": "code",
   "execution_count": 54,
   "metadata": {},
   "outputs": [
    {
     "data": {
      "image/png": "[encoded data removed]",
      "text/plain": [
       "<Figure size 432x288 with 1 Axes>"
      ]
     },
     "metadata": {},
     "output_type": "display_data"
    }
   ],
   "source": [
    "#先对函数作图\n",
    "fig, ax  = plt.subplots()\n",
    "x = np.linspace(-5, 3, 100)\n",
    "ax.plot(x, f(x));"
   ]
  },
  {
   "cell_type": "code",
   "execution_count": 55,
   "metadata": {
    "scrolled": true
   },
   "outputs": [
    {
     "data": {
      "text/plain": [
       "      fun: -3.5066414569309927\n",
       " hess_inv: array([[0.0424512]])\n",
       "      jac: array([9.53674316e-07])\n",
       "  message: 'Optimization terminated successfully.'\n",
       "     nfev: 18\n",
       "      nit: 4\n",
       "     njev: 6\n",
       "   status: 0\n",
       "  success: True\n",
       "        x: array([-2.67298161])"
      ]
     },
     "execution_count": 55,
     "metadata": {},
     "output_type": "execute_result"
    }
   ],
   "source": [
    "#在x=3附近的最小值\n",
    "optimize.minimize(f, -3)"
   ]
  },
  {
   "cell_type": "code",
   "execution_count": 56,
   "metadata": {},
   "outputs": [
    {
     "data": {
      "text/plain": [
       "-2.6729822917513886"
      ]
     },
     "execution_count": 56,
     "metadata": {},
     "output_type": "execute_result"
    }
   ],
   "source": [
    "#最小值点\n",
    "optimize.fminbound(f, -4, 2)"
   ]
  },
  {
   "cell_type": "markdown",
   "metadata": {},
   "source": [
    "求函数 $f(x_1,x_2)=\\sqrt{(x_1-3)^2+(x_2-2)^2}$ 在约束条件 $|x_1+x_2| \\le 1.5$ 下的最小值 (统计学里的Lasso估计)。"
   ]
  },
  {
   "cell_type": "code",
   "execution_count": 57,
   "metadata": {},
   "outputs": [
    {
     "data": {
      "text/plain": [
       "     fun: 2.4748737350428893\n",
       "     jac: array([-0.70708781, -0.70712575])\n",
       " message: 'Optimization terminated successfully.'\n",
       "    nfev: 20\n",
       "     nit: 5\n",
       "    njev: 5\n",
       "  status: 0\n",
       " success: True\n",
       "       x: array([1.25004693, 0.24995307])"
      ]
     },
     "execution_count": 57,
     "metadata": {},
     "output_type": "execute_result"
    }
   ],
   "source": [
    "def f(x):\n",
    "    return np.sqrt((x[0] - 3)**2 + (x[1] - 2)**2)\n",
    "\n",
    "def constraint(x):\n",
    "    return np.atleast_1d(1.5 - np.sum(np.abs(x))) #atleast_1d: Convert inputs to arrays with at least one dimension.\n",
    "\n",
    "x0 = np.array([0, 0])\n",
    "optimize.minimize(f, x0, constraints={\"fun\": constraint, \"type\": \"ineq\"}) "
   ]
  },
  {
   "cell_type": "markdown",
   "metadata": {},
   "source": [
    "#### 方程求解\n",
    "\n",
    "任意方程求解：$f(x)=0$\n",
    "\n",
    "To find the root for a function of the form $f(x)=0$ we can use the `fsolve` function. \n",
    "\n",
    "例如，求如下方程的根：\n",
    "$$\n",
    "\\tan (2\\pi x) - \\frac{c}{x} =0\n",
    "$$\n",
    "\n",
    "It requires an initial guess:\n"
   ]
  },
  {
   "cell_type": "code",
   "execution_count": 58,
   "metadata": {},
   "outputs": [],
   "source": [
    "# 定义函数\n",
    "omega_c = 3.0\n",
    "def f(omega):\n",
    "    # a transcendental equation: resonance frequencies of a low-Q SQUID terminated microwave resonator\n",
    "    return np.tan(2 * np.pi * omega) - omega_c / omega"
   ]
  },
  {
   "cell_type": "code",
   "execution_count": 59,
   "metadata": {},
   "outputs": [
    {
     "data": {
      "text/plain": [
       "(-5, 5)"
      ]
     },
     "execution_count": 59,
     "metadata": {},
     "output_type": "execute_result"
    },
    {
     "data": {
      "image/png": "[encoded data removed]",
      "text/plain": [
       "<Figure size 720x288 with 1 Axes>"
      ]
     },
     "metadata": {},
     "output_type": "display_data"
    }
   ],
   "source": [
    "#先图示\n",
    "fig, ax = plt.subplots(figsize=(10, 4))\n",
    "x = np.linspace(0, 3, 1000)\n",
    "y = f(x)\n",
    "mask = np.where(np.abs(y) > 50)\n",
    "x[mask] = y[mask] = np.NaN  # get rid of vertical line when the function flip sign\n",
    "ax.plot(x, y)\n",
    "ax.plot([0, 3], [0, 0], 'k')\n",
    "ax.set_ylim(-5, 5)"
   ]
  },
  {
   "cell_type": "code",
   "execution_count": 60,
   "metadata": {},
   "outputs": [
    {
     "data": {
      "text/plain": [
       "array([0.23743014])"
      ]
     },
     "execution_count": 60,
     "metadata": {},
     "output_type": "execute_result"
    }
   ],
   "source": [
    "optimize.fsolve(f, 0.1)"
   ]
  },
  {
   "cell_type": "code",
   "execution_count": 61,
   "metadata": {},
   "outputs": [
    {
     "data": {
      "text/plain": [
       "array([0.71286972])"
      ]
     },
     "execution_count": 61,
     "metadata": {},
     "output_type": "execute_result"
    }
   ],
   "source": [
    "optimize.fsolve(f, 0.6)"
   ]
  },
  {
   "cell_type": "code",
   "execution_count": 62,
   "metadata": {},
   "outputs": [
    {
     "data": {
      "text/plain": [
       "array([1.18990285])"
      ]
     },
     "execution_count": 62,
     "metadata": {},
     "output_type": "execute_result"
    }
   ],
   "source": [
    "optimize.fsolve(f, 1.1)"
   ]
  },
  {
   "cell_type": "markdown",
   "metadata": {},
   "source": [
    "#### 统计（Statistics）\n",
    "\n",
    "The `scipy.stats` module contains a large number of statistical distributions, statistical functions and tests. For a complete documentation of its features, see http://docs.scipy.org/doc/scipy/reference/stats.html.\n",
    "\n",
    "There is also a very powerful python package for statistical modelling called `statsmodels`. See http://statsmodels.sourceforge.net for more details."
   ]
  },
  {
   "cell_type": "markdown",
   "metadata": {},
   "source": [
    "### Matplotlib：作图"
   ]
  },
  {
   "cell_type": "markdown",
   "metadata": {},
   "source": [
    "Matplotlib特点：\n",
    "\n",
    "- Easy to get started\n",
    "- Support for LATEX formatted labels and texts\n",
    "- Great control of every element in a figure, including figure size and DPI.\n",
    "- High-quality output in many formats, including PNG, PDF, SVG, EPS, and PGF.\n",
    "- GUI for interactively exploring figures and support for headless generation of figure files (useful for batch jobs).\n",
    "Matplotlib web page: http://matplotlib.org/\n",
    "\n",
    "参考网站：\n",
    "- http://nbviewer.jupyter.org/github/jrjohansson/scientific-python-lectures/blob/master/Lecture-4-Matplotlib.ipynb - matplotlib - 2D and 3D plotting in Python.\n",
    "- https://github.com/matplotlib/matplotlib - The source code for matplotlib.\n",
    "- http://matplotlib.org/gallery.html - A large gallery showcaseing various types of plots matplotlib can create. Highly recommended!\n",
    "- http://www.loria.fr/~rougier/teaching/matplotlib - A good matplotlib tutorial.\n",
    "- http://scipy-lectures.github.io/matplotlib/matplotlib.html - Another good matplotlib reference.\n",
    "\n",
    "To get started using `Matplotlib` in a Python program, either include the symbols from the `pylab` module:\n",
    "\n",
    "`from pylab import *`\n",
    "\n",
    "(容易，但不推荐，因为可能与其它变量名重名)\n",
    "\n",
    "or import the `matplotlib.pyplot` module under the name `plt`:\n",
    "\n",
    "`import matplotlib`\n",
    "\n",
    "`import matplotlib.pyplot as plt`\n",
    "\n",
    "(the tidy way，recommend)"
   ]
  },
  {
   "cell_type": "markdown",
   "metadata": {},
   "source": [
    "#### 基本方法"
   ]
  },
  {
   "cell_type": "code",
   "execution_count": 63,
   "metadata": {},
   "outputs": [],
   "source": [
    "%matplotlib inline\n",
    "import matplotlib.pyplot as plt\n",
    "import numpy as np"
   ]
  },
  {
   "cell_type": "code",
   "execution_count": 64,
   "metadata": {},
   "outputs": [
    {
     "data": {
      "image/png": "[encoded data removed]",
      "text/plain": [
       "<Figure size 432x288 with 1 Axes>"
      ]
     },
     "metadata": {},
     "output_type": "display_data"
    }
   ],
   "source": [
    "x = np.linspace(0, 2, 100)\n",
    "\n",
    "plt.plot(x, x, label=r\"$y = x$\")\n",
    "plt.plot(x, x**2, label=r\"$y = x^2$\")\n",
    "plt.plot(x, x**3, label=r\"$y =x^2$\")\n",
    "\n",
    "plt.xlabel('x label')\n",
    "plt.ylabel('y label')\n",
    "\n",
    "plt.title(\"一个简单图形\")\n",
    "\n",
    "plt.legend()\n",
    "\n",
    "plt.show()"
   ]
  },
  {
   "cell_type": "code",
   "execution_count": 65,
   "metadata": {},
   "outputs": [
    {
     "data": {
      "image/png": "[encoded data removed]",
      "text/plain": [
       "<Figure size 432x288 with 1 Axes>"
      ]
     },
     "metadata": {},
     "output_type": "display_data"
    }
   ],
   "source": [
    "x = np.arange(-4, 4, 0.2)\n",
    "y = np.sin(x)\n",
    "fig, ax = plt.subplots()\n",
    "ax.plot(x, y)\n",
    "# plt.xlabel('x 轴')\n",
    "# plt.ylabel('y 轴')\n",
    "plt.title(\"曲线 $y=sin(x)$ \")\n",
    "plt.show()"
   ]
  },
  {
   "cell_type": "markdown",
   "metadata": {},
   "source": [
    "标记坐标轴（Setting tick labels）"
   ]
  },
  {
   "cell_type": "code",
   "execution_count": 66,
   "metadata": {},
   "outputs": [
    {
     "data": {
      "image/png": "[encoded data removed]",
      "text/plain": [
       "<Figure size 432x288 with 1 Axes>"
      ]
     },
     "metadata": {},
     "output_type": "display_data"
    }
   ],
   "source": [
    "x = np.arange(-4, 4, 0.2)\n",
    "y = np.sin(x)\n",
    "fig, ax = plt.subplots()\n",
    "ax.plot(x, y)\n",
    "# plt.xlabel('x 轴')\n",
    "# plt.ylabel('y 轴')\n",
    "plt.title(\"曲线 $y=sin(x)$ \")\n",
    "\n",
    "#Setting tick labels\n",
    "plt.xticks([-np.pi, -np.pi/2, 0, np.pi/2, np.pi],\n",
    "       [r'$-\\pi$', r'$-\\pi/2$', r'$0$', r'$+\\pi/2$', r'$+\\pi$'])\n",
    "\n",
    "plt.yticks([-1, 0, +1],\n",
    "       [r'$-1$', r'$0$', r'$+1$'])\n",
    "plt.show()"
   ]
  },
  {
   "cell_type": "markdown",
   "metadata": {},
   "source": [
    "平移坐标轴（Moving spines）\n",
    "\n",
    "- 取消右边（right）和顶部（top）边框\n",
    "- x轴和y轴移到原点"
   ]
  },
  {
   "cell_type": "code",
   "execution_count": 67,
   "metadata": {},
   "outputs": [
    {
     "data": {
      "image/png": "[encoded data removed]",
      "text/plain": [
       "<Figure size 432x288 with 1 Axes>"
      ]
     },
     "metadata": {},
     "output_type": "display_data"
    }
   ],
   "source": [
    "x = np.arange(-4, 4, 0.2)\n",
    "y = np.sin(x)\n",
    "fig, ax = plt.subplots()\n",
    "ax.plot(x, y)\n",
    "# plt.xlabel('x 轴')\n",
    "# plt.ylabel('y 轴')\n",
    "plt.title(\"曲线 $y=sin(x)$ \")\n",
    "\n",
    "#Setting tick labels\n",
    "plt.xticks([-np.pi, -np.pi/2, 0, np.pi/2, np.pi],\n",
    "       [r'$-\\pi$', r'$-\\pi/2$', r'$0$', r'$+\\pi/2$', r'$+\\pi$'])\n",
    "\n",
    "plt.yticks([-1, 0, +1],\n",
    "       [r'$-1$', r'$0$', r'$+1$'])\n",
    "\n",
    "ax = plt.gca()\n",
    "ax.spines['right'].set_color('none')\n",
    "ax.spines['top'].set_color('none')\n",
    "ax.xaxis.set_ticks_position('bottom')\n",
    "ax.spines['bottom'].set_position(('data',0))\n",
    "ax.yaxis.set_ticks_position('left')\n",
    "ax.spines['left'].set_position(('data',0))\n",
    "plt.show()"
   ]
  },
  {
   "cell_type": "markdown",
   "metadata": {},
   "source": [
    "标注一些点（Annotate some points）"
   ]
  },
  {
   "cell_type": "code",
   "execution_count": 68,
   "metadata": {},
   "outputs": [
    {
     "data": {
      "image/png": "[encoded data removed]",
      "text/plain": [
       "<Figure size 432x288 with 1 Axes>"
      ]
     },
     "metadata": {},
     "output_type": "display_data"
    }
   ],
   "source": [
    "x = np.arange(-4, 4, 0.2)\n",
    "y = np.sin(x)\n",
    "fig, ax = plt.subplots()\n",
    "ax.plot(x, y)\n",
    "# plt.xlabel('x 轴')\n",
    "# plt.ylabel('y 轴')\n",
    "plt.title(\"曲线 $y=sin(x)$ \")\n",
    "\n",
    "#Setting tick labels\n",
    "plt.xticks([-np.pi, -np.pi / 2, 0, np.pi / 2, np.pi],\n",
    "           [r'$-\\pi$', r'$-\\pi/2$', r'$0$', r'$+\\pi/2$', r'$+\\pi$'])\n",
    "\n",
    "plt.yticks([-1, 0, +1], [r'$-1$', r'$0$', r'$+1$'])\n",
    "\n",
    "#Move to the origin\n",
    "ax = plt.gca()\n",
    "ax.spines['right'].set_color('none')\n",
    "ax.spines['top'].set_color('none')\n",
    "ax.xaxis.set_ticks_position('bottom')\n",
    "ax.spines['bottom'].set_position(('data', 0))\n",
    "ax.yaxis.set_ticks_position('left')\n",
    "ax.spines['left'].set_position(('data', 0))\n",
    "\n",
    "# Annotate some points\n",
    "t = 2 * np.pi / 3\n",
    "plt.annotate(\n",
    "    r'$\\sin(\\frac{2\\pi}{3})=\\frac{\\sqrt{3}}{2}$',\n",
    "    xy=(t, np.sin(t)),\n",
    "    xycoords='data',\n",
    "    xytext=(+10, +30),\n",
    "    textcoords='offset points',\n",
    "    fontsize=10,\n",
    "    arrowprops=dict(arrowstyle=\"->\", connectionstyle=\"arc3,rad=.2\"))  #添加注释及位置\n",
    "\n",
    "plt.plot(\n",
    "    [t, t], [0, np.sin(t)], color='red', linewidth=1.5,\n",
    "    linestyle=\"--\")  #添加红色虚线\n",
    "plt.scatter(\n",
    "    [\n",
    "        t,\n",
    "    ], [\n",
    "        np.sin(t),\n",
    "    ], 50, color='red')  #添加一点\n",
    "\n",
    "plt.show()"
   ]
  },
  {
   "cell_type": "markdown",
   "metadata": {},
   "source": [
    "#### 多图矩阵"
   ]
  },
  {
   "cell_type": "code",
   "execution_count": 69,
   "metadata": {},
   "outputs": [
    {
     "data": {
      "image/png": "[encoded data removed]",
      "text/plain": [
       "<Figure size 720x288 with 2 Axes>"
      ]
     },
     "metadata": {},
     "output_type": "display_data"
    }
   ],
   "source": [
    "fig, axes = plt.subplots(1, 2, figsize=(10,4)) \n",
    "# subplots(3,2)表示3行2列共6个图形\n",
    "# subplots(3,2，5)表示第5个图形\n",
    "x = np.arange(0, 10, 0.1)    \n",
    "axes[0].plot(x, x**2,label=r\"$y = x^2$\")\n",
    "axes[0].plot(x, np.exp(x),label=r\"$y = \\exp(x)$\")\n",
    "axes[0].set_title(\"Normal scale\")\n",
    "axes[0].legend()\n",
    "\n",
    "axes[1].plot(x, x**2, x, np.exp(x))\n",
    "axes[1].set_yscale(\"log\")\n",
    "axes[1].set_title(\"Logarithmic scale (y)\");"
   ]
  },
  {
   "cell_type": "markdown",
   "metadata": {},
   "source": [
    "#### 图形显示与保存\n",
    "\n",
    "Notebook中图形可以通过 `%config InlineBackend.figure_format='svg'` 显示为高分辨率的矢量图格式`svg`，缺点是打开时会比较慢。\n",
    "\n",
    "还可以把图形保存起来，以作他用。\n",
    "\n",
    "`plt.savefig(\"test.pdf\")`\n",
    "\n",
    "格式可以是\n",
    "\n",
    "- `png`：如果文档要转存pdf，此格式清晰度不够，会模糊\n",
    "- `pdf`：推荐\n",
    "- `svg`：文件较大，复杂图形打开慢"
   ]
  },
  {
   "cell_type": "code",
   "execution_count": 70,
   "metadata": {},
   "outputs": [],
   "source": [
    "%config InlineBackend.figure_format='svg'\n",
    "#显示的图形为矢量图（高清晰度）"
   ]
  },
  {
   "cell_type": "code",
   "execution_count": 71,
   "metadata": {},
   "outputs": [
    {
     "data": {
      "image/svg+xml": [
       "<?xml version=\"1.0\" encoding=\"utf-8\" standalone=\"no\"?>\r\n",
       "<!DOCTYPE svg PUBLIC \"-//W3C//DTD SVG 1.1//EN\"\r\n",
       "  \"http://www.w3.org/Graphics/SVG/1.1/DTD/svg11.dtd\">\r\n",
       "<!-- Created with matplotlib (http://matplotlib.org/) -->\r\n",
       "<svg height=\"261.215pt\" version=\"1.1\" viewBox=\"0 0 379.7 261.215\" width=\"379.7pt\" xmlns=\"http://www.w3.org/2000/svg\" xmlns:xlink=\"http://www.w3.org/1999/xlink\">\r\n",
       " <defs>\r\n",
       "  <style type=\"text/css\">\r\n",
       "*{stroke-linecap:butt;stroke-linejoin:round;}\r\n",
       "  </style>\r\n",
       " </defs>\r\n",
       " <g id=\"figure_1\">\r\n",
       "  <g id=\"patch_1\">\r\n",
       "   <path d=\"M 0 261.215 \r\n",
       "L 379.7 261.215 \r\n",
       "L 379.7 0 \r\n",
       "L 0 0 \r\n",
       "z\r\n",
       "\" style=\"fill:none;\"/>\r\n",
       "  </g>\r\n",
       "  <g id=\"axes_1\">\r\n",
       "   <g id=\"patch_2\">\r\n",
       "    <path d=\"M 34.2 238.89 \r\n",
       "L 369 238.89 \r\n",
       "L 369 21.45 \r\n",
       "L 34.2 21.45 \r\n",
       "z\r\n",
       "\" style=\"fill:#ffffff;\"/>\r\n",
       "   </g>\r\n",
       "   <g id=\"matplotlib.axis_1\">\r\n",
       "    <g id=\"xtick_1\">\r\n",
       "     <g id=\"line2d_1\">\r\n",
       "      <defs>\r\n",
       "       <path d=\"M 0 0 \r\n",
       "L 0 3.5 \r\n",
       "\" id=\"mbf4027b469\" style=\"stroke:#000000;stroke-width:0.8;\"/>\r\n",
       "      </defs>\r\n",
       "      <g>\r\n",
       "       <use style=\"stroke:#000000;stroke-width:0.8;\" x=\"49.418182\" xlink:href=\"#mbf4027b469\" y=\"238.89\"/>\r\n",
       "      </g>\r\n",
       "     </g>\r\n",
       "     <g id=\"text_1\">\r\n",
       "      <!-- 0.0 -->\r\n",
       "      <defs>\r\n",
       "       <path d=\"M 3.125 29.296875 \r\n",
       "Q 3.90625 50 6.4375 56.046875 \r\n",
       "Q 8.984375 62.109375 13.671875 66.015625 \r\n",
       "Q 18.359375 69.921875 25.1875 69.921875 \r\n",
       "Q 32.03125 69.921875 37.109375 64.25 \r\n",
       "Q 42.1875 58.59375 43.75 50 \r\n",
       "Q 45.3125 41.40625 44.71875 30.265625 \r\n",
       "Q 44.140625 19.140625 40.8125 12.109375 \r\n",
       "Q 37.5 5.078125 30.859375 2.34375 \r\n",
       "Q 24.21875 -0.390625 17.578125 2.921875 \r\n",
       "Q 10.9375 6.25 8.203125 11.71875 \r\n",
       "Q 5.46875 17.1875 4.296875 23.234375 \r\n",
       "Q 3.125 29.296875 3.90625 50 \r\n",
       "z\r\n",
       "M 12.890625 52.734375 \r\n",
       "Q 10.546875 31.25 12.5 22.84375 \r\n",
       "Q 14.453125 14.453125 18.9375 10.9375 \r\n",
       "Q 23.4375 7.421875 28.125 9.5625 \r\n",
       "Q 32.8125 11.71875 34.953125 18.15625 \r\n",
       "Q 37.109375 24.609375 37.109375 32.21875 \r\n",
       "Q 37.109375 39.84375 36.515625 46.09375 \r\n",
       "Q 35.9375 52.34375 33 57.421875 \r\n",
       "Q 30.078125 62.5 25.1875 62.6875 \r\n",
       "Q 20.3125 62.890625 16.59375 57.8125 \r\n",
       "Q 12.890625 52.734375 10.546875 31.25 \r\n",
       "z\r\n",
       "\" id=\"SimHei-30\"/>\r\n",
       "       <path d=\"M 16.796875 1.953125 \r\n",
       "L 7.8125 1.953125 \r\n",
       "L 7.8125 10.546875 \r\n",
       "L 16.796875 10.546875 \r\n",
       "z\r\n",
       "\" id=\"SimHei-2e\"/>\r\n",
       "      </defs>\r\n",
       "      <g transform=\"translate(41.918182 252.765)scale(0.1 -0.1)\">\r\n",
       "       <use xlink:href=\"#SimHei-30\"/>\r\n",
       "       <use x=\"50\" xlink:href=\"#SimHei-2e\"/>\r\n",
       "       <use x=\"100\" xlink:href=\"#SimHei-30\"/>\r\n",
       "      </g>\r\n",
       "     </g>\r\n",
       "    </g>\r\n",
       "    <g id=\"xtick_2\">\r\n",
       "     <g id=\"line2d_2\">\r\n",
       "      <g>\r\n",
       "       <use style=\"stroke:#000000;stroke-width:0.8;\" x=\"101.894671\" xlink:href=\"#mbf4027b469\" y=\"238.89\"/>\r\n",
       "      </g>\r\n",
       "     </g>\r\n",
       "     <g id=\"text_2\">\r\n",
       "      <!-- 0.5 -->\r\n",
       "      <defs>\r\n",
       "       <path d=\"M 8.59375 20.703125 \r\n",
       "Q 11.328125 10.15625 17.96875 8.984375 \r\n",
       "Q 24.609375 7.8125 28.703125 10.34375 \r\n",
       "Q 32.8125 12.890625 34.5625 16.984375 \r\n",
       "Q 36.328125 21.09375 36.125 26.171875 \r\n",
       "Q 35.9375 31.25 33.390625 34.765625 \r\n",
       "Q 30.859375 38.28125 26.953125 39.453125 \r\n",
       "Q 23.046875 40.625 18.15625 39.453125 \r\n",
       "Q 13.28125 38.28125 10.15625 33.984375 \r\n",
       "L 3.515625 34.765625 \r\n",
       "Q 4.296875 37.109375 10.9375 68.359375 \r\n",
       "L 41.796875 68.359375 \r\n",
       "L 41.796875 61.328125 \r\n",
       "L 16.796875 61.328125 \r\n",
       "Q 14.84375 50.78125 12.890625 44.53125 \r\n",
       "Q 18.75 47.265625 23.828125 47.0625 \r\n",
       "Q 28.90625 46.875 33.59375 44.71875 \r\n",
       "Q 38.28125 42.578125 40.421875 38.859375 \r\n",
       "Q 42.578125 35.15625 43.546875 31.4375 \r\n",
       "Q 44.53125 27.734375 44.328125 23.4375 \r\n",
       "Q 44.140625 19.140625 42.578125 14.640625 \r\n",
       "Q 41.015625 10.15625 37.890625 7.21875 \r\n",
       "Q 34.765625 4.296875 30.265625 2.53125 \r\n",
       "Q 25.78125 0.78125 19.921875 1.171875 \r\n",
       "Q 14.0625 1.5625 8.78125 5.46875 \r\n",
       "Q 3.515625 9.375 1.5625 18.75 \r\n",
       "z\r\n",
       "\" id=\"SimHei-35\"/>\r\n",
       "      </defs>\r\n",
       "      <g transform=\"translate(94.394671 252.765)scale(0.1 -0.1)\">\r\n",
       "       <use xlink:href=\"#SimHei-30\"/>\r\n",
       "       <use x=\"50\" xlink:href=\"#SimHei-2e\"/>\r\n",
       "       <use x=\"100\" xlink:href=\"#SimHei-35\"/>\r\n",
       "      </g>\r\n",
       "     </g>\r\n",
       "    </g>\r\n",
       "    <g id=\"xtick_3\">\r\n",
       "     <g id=\"line2d_3\">\r\n",
       "      <g>\r\n",
       "       <use style=\"stroke:#000000;stroke-width:0.8;\" x=\"154.37116\" xlink:href=\"#mbf4027b469\" y=\"238.89\"/>\r\n",
       "      </g>\r\n",
       "     </g>\r\n",
       "     <g id=\"text_3\">\r\n",
       "      <!-- 1.0 -->\r\n",
       "      <defs>\r\n",
       "       <path d=\"M 21.875 56.25 \r\n",
       "Q 16.796875 51.171875 8.984375 46.484375 \r\n",
       "L 8.984375 53.90625 \r\n",
       "Q 18.75 60.546875 25 69.53125 \r\n",
       "L 29.6875 69.53125 \r\n",
       "L 29.6875 2.34375 \r\n",
       "L 21.875 2.34375 \r\n",
       "z\r\n",
       "\" id=\"SimHei-31\"/>\r\n",
       "      </defs>\r\n",
       "      <g transform=\"translate(146.87116 252.765)scale(0.1 -0.1)\">\r\n",
       "       <use xlink:href=\"#SimHei-31\"/>\r\n",
       "       <use x=\"50\" xlink:href=\"#SimHei-2e\"/>\r\n",
       "       <use x=\"100\" xlink:href=\"#SimHei-30\"/>\r\n",
       "      </g>\r\n",
       "     </g>\r\n",
       "    </g>\r\n",
       "    <g id=\"xtick_4\">\r\n",
       "     <g id=\"line2d_4\">\r\n",
       "      <g>\r\n",
       "       <use style=\"stroke:#000000;stroke-width:0.8;\" x=\"206.847649\" xlink:href=\"#mbf4027b469\" y=\"238.89\"/>\r\n",
       "      </g>\r\n",
       "     </g>\r\n",
       "     <g id=\"text_4\">\r\n",
       "      <!-- 1.5 -->\r\n",
       "      <g transform=\"translate(199.347649 252.765)scale(0.1 -0.1)\">\r\n",
       "       <use xlink:href=\"#SimHei-31\"/>\r\n",
       "       <use x=\"50\" xlink:href=\"#SimHei-2e\"/>\r\n",
       "       <use x=\"100\" xlink:href=\"#SimHei-35\"/>\r\n",
       "      </g>\r\n",
       "     </g>\r\n",
       "    </g>\r\n",
       "    <g id=\"xtick_5\">\r\n",
       "     <g id=\"line2d_5\">\r\n",
       "      <g>\r\n",
       "       <use style=\"stroke:#000000;stroke-width:0.8;\" x=\"259.324138\" xlink:href=\"#mbf4027b469\" y=\"238.89\"/>\r\n",
       "      </g>\r\n",
       "     </g>\r\n",
       "     <g id=\"text_5\">\r\n",
       "      <!-- 2.0 -->\r\n",
       "      <defs>\r\n",
       "       <path d=\"M 4.6875 3.90625 \r\n",
       "Q 5.078125 9.765625 10.15625 14.453125 \r\n",
       "Q 15.234375 19.140625 23.046875 29.09375 \r\n",
       "Q 30.859375 39.0625 33.203125 44.53125 \r\n",
       "Q 35.546875 50 34.953125 53.90625 \r\n",
       "Q 34.375 57.8125 31.25 60.34375 \r\n",
       "Q 28.125 62.890625 24.015625 62.5 \r\n",
       "Q 19.921875 62.109375 16.203125 59.375 \r\n",
       "Q 12.5 56.640625 10.546875 51.171875 \r\n",
       "L 3.125 52.34375 \r\n",
       "Q 6.25 61.328125 11.125 65.421875 \r\n",
       "Q 16.015625 69.53125 22.65625 69.921875 \r\n",
       "Q 26.5625 70.3125 29.6875 69.71875 \r\n",
       "Q 32.8125 69.140625 36.125 66.984375 \r\n",
       "Q 39.453125 64.84375 41.59375 60.546875 \r\n",
       "Q 43.75 56.25 43.15625 50.1875 \r\n",
       "Q 42.578125 44.140625 37.109375 35.734375 \r\n",
       "Q 31.640625 27.34375 16.015625 9.375 \r\n",
       "L 44.140625 9.375 \r\n",
       "L 44.140625 2.34375 \r\n",
       "L 4.6875 2.34375 \r\n",
       "z\r\n",
       "\" id=\"SimHei-32\"/>\r\n",
       "      </defs>\r\n",
       "      <g transform=\"translate(251.824138 252.765)scale(0.1 -0.1)\">\r\n",
       "       <use xlink:href=\"#SimHei-32\"/>\r\n",
       "       <use x=\"50\" xlink:href=\"#SimHei-2e\"/>\r\n",
       "       <use x=\"100\" xlink:href=\"#SimHei-30\"/>\r\n",
       "      </g>\r\n",
       "     </g>\r\n",
       "    </g>\r\n",
       "    <g id=\"xtick_6\">\r\n",
       "     <g id=\"line2d_6\">\r\n",
       "      <g>\r\n",
       "       <use style=\"stroke:#000000;stroke-width:0.8;\" x=\"311.800627\" xlink:href=\"#mbf4027b469\" y=\"238.89\"/>\r\n",
       "      </g>\r\n",
       "     </g>\r\n",
       "     <g id=\"text_6\">\r\n",
       "      <!-- 2.5 -->\r\n",
       "      <g transform=\"translate(304.300627 252.765)scale(0.1 -0.1)\">\r\n",
       "       <use xlink:href=\"#SimHei-32\"/>\r\n",
       "       <use x=\"50\" xlink:href=\"#SimHei-2e\"/>\r\n",
       "       <use x=\"100\" xlink:href=\"#SimHei-35\"/>\r\n",
       "      </g>\r\n",
       "     </g>\r\n",
       "    </g>\r\n",
       "    <g id=\"xtick_7\">\r\n",
       "     <g id=\"line2d_7\">\r\n",
       "      <g>\r\n",
       "       <use style=\"stroke:#000000;stroke-width:0.8;\" x=\"364.277116\" xlink:href=\"#mbf4027b469\" y=\"238.89\"/>\r\n",
       "      </g>\r\n",
       "     </g>\r\n",
       "     <g id=\"text_7\">\r\n",
       "      <!-- 3.0 -->\r\n",
       "      <defs>\r\n",
       "       <path d=\"M 3.90625 19.140625 \r\n",
       "L 10.9375 20.3125 \r\n",
       "Q 12.5 15.234375 16.015625 11.90625 \r\n",
       "Q 19.53125 8.59375 24.796875 8.78125 \r\n",
       "Q 30.078125 8.984375 33.203125 13.078125 \r\n",
       "Q 36.328125 17.1875 35.9375 22.453125 \r\n",
       "Q 35.546875 27.734375 31.828125 30.65625 \r\n",
       "Q 28.125 33.59375 19.921875 34.765625 \r\n",
       "L 19.921875 39.84375 \r\n",
       "Q 28.125 40.625 31.828125 44.140625 \r\n",
       "Q 35.546875 47.65625 35.15625 53.3125 \r\n",
       "Q 34.765625 58.984375 30.078125 61.515625 \r\n",
       "Q 25.390625 64.0625 20.109375 62.109375 \r\n",
       "Q 14.84375 60.15625 11.71875 51.171875 \r\n",
       "L 4.6875 52.34375 \r\n",
       "Q 7.03125 59.375 11.125 64.0625 \r\n",
       "Q 15.234375 68.75 22.265625 69.53125 \r\n",
       "Q 29.296875 70.3125 34.5625 67.765625 \r\n",
       "Q 39.84375 65.234375 41.984375 59.953125 \r\n",
       "Q 44.140625 54.6875 42.578125 48.4375 \r\n",
       "Q 41.015625 42.1875 33.59375 37.5 \r\n",
       "Q 39.0625 35.15625 41.984375 30.46875 \r\n",
       "Q 44.921875 25.78125 43.9375 18.15625 \r\n",
       "Q 42.96875 10.546875 37.109375 5.859375 \r\n",
       "Q 31.25 1.171875 23.828125 1.359375 \r\n",
       "Q 16.40625 1.5625 10.9375 6.046875 \r\n",
       "Q 5.46875 10.546875 3.90625 19.140625 \r\n",
       "z\r\n",
       "\" id=\"SimHei-33\"/>\r\n",
       "      </defs>\r\n",
       "      <g transform=\"translate(356.777116 252.765)scale(0.1 -0.1)\">\r\n",
       "       <use xlink:href=\"#SimHei-33\"/>\r\n",
       "       <use x=\"50\" xlink:href=\"#SimHei-2e\"/>\r\n",
       "       <use x=\"100\" xlink:href=\"#SimHei-30\"/>\r\n",
       "      </g>\r\n",
       "     </g>\r\n",
       "    </g>\r\n",
       "   </g>\r\n",
       "   <g id=\"matplotlib.axis_2\">\r\n",
       "    <g id=\"ytick_1\">\r\n",
       "     <g id=\"line2d_8\">\r\n",
       "      <defs>\r\n",
       "       <path d=\"M 0 0 \r\n",
       "L -3.5 0 \r\n",
       "\" id=\"m63185b0f56\" style=\"stroke:#000000;stroke-width:0.8;\"/>\r\n",
       "      </defs>\r\n",
       "      <g>\r\n",
       "       <use style=\"stroke:#000000;stroke-width:0.8;\" x=\"34.2\" xlink:href=\"#m63185b0f56\" y=\"229.006364\"/>\r\n",
       "      </g>\r\n",
       "     </g>\r\n",
       "     <g id=\"text_8\">\r\n",
       "      <!-- 0.0 -->\r\n",
       "      <g transform=\"translate(12.2 232.443864)scale(0.1 -0.1)\">\r\n",
       "       <use xlink:href=\"#SimHei-30\"/>\r\n",
       "       <use x=\"50\" xlink:href=\"#SimHei-2e\"/>\r\n",
       "       <use x=\"100\" xlink:href=\"#SimHei-30\"/>\r\n",
       "      </g>\r\n",
       "     </g>\r\n",
       "    </g>\r\n",
       "    <g id=\"ytick_2\">\r\n",
       "     <g id=\"line2d_9\">\r\n",
       "      <g>\r\n",
       "       <use style=\"stroke:#000000;stroke-width:0.8;\" x=\"34.2\" xlink:href=\"#m63185b0f56\" y=\"200.231609\"/>\r\n",
       "      </g>\r\n",
       "     </g>\r\n",
       "     <g id=\"text_9\">\r\n",
       "      <!-- 2.5 -->\r\n",
       "      <g transform=\"translate(12.2 203.669109)scale(0.1 -0.1)\">\r\n",
       "       <use xlink:href=\"#SimHei-32\"/>\r\n",
       "       <use x=\"50\" xlink:href=\"#SimHei-2e\"/>\r\n",
       "       <use x=\"100\" xlink:href=\"#SimHei-35\"/>\r\n",
       "      </g>\r\n",
       "     </g>\r\n",
       "    </g>\r\n",
       "    <g id=\"ytick_3\">\r\n",
       "     <g id=\"line2d_10\">\r\n",
       "      <g>\r\n",
       "       <use style=\"stroke:#000000;stroke-width:0.8;\" x=\"34.2\" xlink:href=\"#m63185b0f56\" y=\"171.456854\"/>\r\n",
       "      </g>\r\n",
       "     </g>\r\n",
       "     <g id=\"text_10\">\r\n",
       "      <!-- 5.0 -->\r\n",
       "      <g transform=\"translate(12.2 174.894354)scale(0.1 -0.1)\">\r\n",
       "       <use xlink:href=\"#SimHei-35\"/>\r\n",
       "       <use x=\"50\" xlink:href=\"#SimHei-2e\"/>\r\n",
       "       <use x=\"100\" xlink:href=\"#SimHei-30\"/>\r\n",
       "      </g>\r\n",
       "     </g>\r\n",
       "    </g>\r\n",
       "    <g id=\"ytick_4\">\r\n",
       "     <g id=\"line2d_11\">\r\n",
       "      <g>\r\n",
       "       <use style=\"stroke:#000000;stroke-width:0.8;\" x=\"34.2\" xlink:href=\"#m63185b0f56\" y=\"142.6821\"/>\r\n",
       "      </g>\r\n",
       "     </g>\r\n",
       "     <g id=\"text_11\">\r\n",
       "      <!-- 7.5 -->\r\n",
       "      <defs>\r\n",
       "       <path d=\"M 13.28125 2.34375 \r\n",
       "Q 20.3125 32.03125 37.890625 61.328125 \r\n",
       "L 4.296875 61.328125 \r\n",
       "L 4.296875 68.359375 \r\n",
       "L 46.09375 68.359375 \r\n",
       "L 46.09375 61.71875 \r\n",
       "Q 27.734375 32.03125 21.875 2.34375 \r\n",
       "L 13.28125 2.34375 \r\n",
       "z\r\n",
       "\" id=\"SimHei-37\"/>\r\n",
       "      </defs>\r\n",
       "      <g transform=\"translate(12.2 146.1196)scale(0.1 -0.1)\">\r\n",
       "       <use xlink:href=\"#SimHei-37\"/>\r\n",
       "       <use x=\"50\" xlink:href=\"#SimHei-2e\"/>\r\n",
       "       <use x=\"100\" xlink:href=\"#SimHei-35\"/>\r\n",
       "      </g>\r\n",
       "     </g>\r\n",
       "    </g>\r\n",
       "    <g id=\"ytick_5\">\r\n",
       "     <g id=\"line2d_12\">\r\n",
       "      <g>\r\n",
       "       <use style=\"stroke:#000000;stroke-width:0.8;\" x=\"34.2\" xlink:href=\"#m63185b0f56\" y=\"113.907345\"/>\r\n",
       "      </g>\r\n",
       "     </g>\r\n",
       "     <g id=\"text_12\">\r\n",
       "      <!-- 10.0 -->\r\n",
       "      <g transform=\"translate(7.2 117.344845)scale(0.1 -0.1)\">\r\n",
       "       <use xlink:href=\"#SimHei-31\"/>\r\n",
       "       <use x=\"50\" xlink:href=\"#SimHei-30\"/>\r\n",
       "       <use x=\"100\" xlink:href=\"#SimHei-2e\"/>\r\n",
       "       <use x=\"150\" xlink:href=\"#SimHei-30\"/>\r\n",
       "      </g>\r\n",
       "     </g>\r\n",
       "    </g>\r\n",
       "    <g id=\"ytick_6\">\r\n",
       "     <g id=\"line2d_13\">\r\n",
       "      <g>\r\n",
       "       <use style=\"stroke:#000000;stroke-width:0.8;\" x=\"34.2\" xlink:href=\"#m63185b0f56\" y=\"85.132591\"/>\r\n",
       "      </g>\r\n",
       "     </g>\r\n",
       "     <g id=\"text_13\">\r\n",
       "      <!-- 12.5 -->\r\n",
       "      <g transform=\"translate(7.2 88.570091)scale(0.1 -0.1)\">\r\n",
       "       <use xlink:href=\"#SimHei-31\"/>\r\n",
       "       <use x=\"50\" xlink:href=\"#SimHei-32\"/>\r\n",
       "       <use x=\"100\" xlink:href=\"#SimHei-2e\"/>\r\n",
       "       <use x=\"150\" xlink:href=\"#SimHei-35\"/>\r\n",
       "      </g>\r\n",
       "     </g>\r\n",
       "    </g>\r\n",
       "    <g id=\"ytick_7\">\r\n",
       "     <g id=\"line2d_14\">\r\n",
       "      <g>\r\n",
       "       <use style=\"stroke:#000000;stroke-width:0.8;\" x=\"34.2\" xlink:href=\"#m63185b0f56\" y=\"56.357836\"/>\r\n",
       "      </g>\r\n",
       "     </g>\r\n",
       "     <g id=\"text_14\">\r\n",
       "      <!-- 15.0 -->\r\n",
       "      <g transform=\"translate(7.2 59.795336)scale(0.1 -0.1)\">\r\n",
       "       <use xlink:href=\"#SimHei-31\"/>\r\n",
       "       <use x=\"50\" xlink:href=\"#SimHei-35\"/>\r\n",
       "       <use x=\"100\" xlink:href=\"#SimHei-2e\"/>\r\n",
       "       <use x=\"150\" xlink:href=\"#SimHei-30\"/>\r\n",
       "      </g>\r\n",
       "     </g>\r\n",
       "    </g>\r\n",
       "    <g id=\"ytick_8\">\r\n",
       "     <g id=\"line2d_15\">\r\n",
       "      <g>\r\n",
       "       <use style=\"stroke:#000000;stroke-width:0.8;\" x=\"34.2\" xlink:href=\"#m63185b0f56\" y=\"27.583082\"/>\r\n",
       "      </g>\r\n",
       "     </g>\r\n",
       "     <g id=\"text_15\">\r\n",
       "      <!-- 17.5 -->\r\n",
       "      <g transform=\"translate(7.2 31.020582)scale(0.1 -0.1)\">\r\n",
       "       <use xlink:href=\"#SimHei-31\"/>\r\n",
       "       <use x=\"50\" xlink:href=\"#SimHei-37\"/>\r\n",
       "       <use x=\"100\" xlink:href=\"#SimHei-2e\"/>\r\n",
       "       <use x=\"150\" xlink:href=\"#SimHei-35\"/>\r\n",
       "      </g>\r\n",
       "     </g>\r\n",
       "    </g>\r\n",
       "   </g>\r\n",
       "   <g id=\"line2d_16\">\r\n",
       "    <path clip-path=\"url(#p40e5afb9be)\" d=\"M 49.418182 229.006364 \r\n",
       "L 59.91348 228.891265 \r\n",
       "L 70.408777 228.545968 \r\n",
       "L 80.904075 227.970472 \r\n",
       "L 91.399373 227.164779 \r\n",
       "L 101.894671 226.128888 \r\n",
       "L 112.389969 224.862799 \r\n",
       "L 122.885266 223.366512 \r\n",
       "L 133.380564 221.640026 \r\n",
       "L 143.875862 219.683343 \r\n",
       "L 154.37116 217.496462 \r\n",
       "L 164.866458 215.079382 \r\n",
       "L 175.361755 212.432105 \r\n",
       "L 185.857053 209.55463 \r\n",
       "L 196.352351 206.446956 \r\n",
       "L 206.847649 203.109085 \r\n",
       "L 217.342947 199.541015 \r\n",
       "L 227.838245 195.742747 \r\n",
       "L 238.333542 191.714282 \r\n",
       "L 248.82884 187.455618 \r\n",
       "L 259.324138 182.966756 \r\n",
       "L 269.819436 178.247697 \r\n",
       "L 280.314734 173.298439 \r\n",
       "L 290.810031 168.118983 \r\n",
       "L 301.305329 162.709329 \r\n",
       "L 311.800627 157.069477 \r\n",
       "L 322.295925 151.199427 \r\n",
       "L 332.791223 145.099179 \r\n",
       "L 343.28652 138.768733 \r\n",
       "L 353.781818 132.208089 \r\n",
       "\" style=\"fill:none;stroke:#1f77b4;stroke-linecap:square;stroke-width:1.5;\"/>\r\n",
       "   </g>\r\n",
       "   <g id=\"line2d_17\">\r\n",
       "    <path clip-path=\"url(#p40e5afb9be)\" d=\"M 49.418182 229.006364 \r\n",
       "L 59.91348 227.795857 \r\n",
       "L 70.408777 226.45804 \r\n",
       "L 80.904075 224.979523 \r\n",
       "L 91.399373 223.34551 \r\n",
       "L 101.894671 221.539645 \r\n",
       "L 112.389969 219.543857 \r\n",
       "L 122.885266 217.338169 \r\n",
       "L 133.380564 214.900508 \r\n",
       "L 143.875862 212.206475 \r\n",
       "L 154.37116 209.229108 \r\n",
       "L 164.866458 205.938609 \r\n",
       "L 175.361755 202.302046 \r\n",
       "L 185.857053 198.283021 \r\n",
       "L 196.352351 193.841312 \r\n",
       "L 206.847649 188.932464 \r\n",
       "L 217.342947 183.507348 \r\n",
       "L 227.838245 177.511668 \r\n",
       "L 238.333542 170.885417 \r\n",
       "L 248.82884 163.562277 \r\n",
       "L 259.324138 155.468955 \r\n",
       "L 269.819436 146.524451 \r\n",
       "L 280.314734 136.639246 \r\n",
       "L 290.810031 125.714405 \r\n",
       "L 301.305329 113.640587 \r\n",
       "L 311.800627 100.296956 \r\n",
       "L 322.295925 85.549962 \r\n",
       "L 332.791223 69.252014 \r\n",
       "L 343.28652 51.239995 \r\n",
       "L 353.781818 31.333636 \r\n",
       "\" style=\"fill:none;stroke:#ff7f0e;stroke-linecap:square;stroke-width:1.5;\"/>\r\n",
       "   </g>\r\n",
       "   <g id=\"patch_3\">\r\n",
       "    <path d=\"M 34.2 238.89 \r\n",
       "L 34.2 21.45 \r\n",
       "\" style=\"fill:none;stroke:#000000;stroke-linecap:square;stroke-linejoin:miter;stroke-width:0.8;\"/>\r\n",
       "   </g>\r\n",
       "   <g id=\"patch_4\">\r\n",
       "    <path d=\"M 369 238.89 \r\n",
       "L 369 21.45 \r\n",
       "\" style=\"fill:none;stroke:#000000;stroke-linecap:square;stroke-linejoin:miter;stroke-width:0.8;\"/>\r\n",
       "   </g>\r\n",
       "   <g id=\"patch_5\">\r\n",
       "    <path d=\"M 34.2 238.89 \r\n",
       "L 369 238.89 \r\n",
       "\" style=\"fill:none;stroke:#000000;stroke-linecap:square;stroke-linejoin:miter;stroke-width:0.8;\"/>\r\n",
       "   </g>\r\n",
       "   <g id=\"patch_6\">\r\n",
       "    <path d=\"M 34.2 21.45 \r\n",
       "L 369 21.45 \r\n",
       "\" style=\"fill:none;stroke:#000000;stroke-linecap:square;stroke-linejoin:miter;stroke-width:0.8;\"/>\r\n",
       "   </g>\r\n",
       "   <g id=\"text_16\">\r\n",
       "    <!-- Normal scale -->\r\n",
       "    <defs>\r\n",
       "     <path d=\"M 44.53125 1.953125 \r\n",
       "L 34.765625 1.953125 \r\n",
       "L 13.28125 50.390625 \r\n",
       "L 12.890625 50.390625 \r\n",
       "L 12.890625 1.953125 \r\n",
       "L 3.90625 1.953125 \r\n",
       "L 3.90625 68.75 \r\n",
       "L 13.671875 68.75 \r\n",
       "L 35.15625 20.3125 \r\n",
       "L 35.546875 20.3125 \r\n",
       "L 35.546875 68.75 \r\n",
       "L 44.53125 68.75 \r\n",
       "z\r\n",
       "\" id=\"SimHei-4e\"/>\r\n",
       "     <path d=\"M 45.703125 23.828125 \r\n",
       "Q 45.703125 13.671875 39.453125 7.421875 \r\n",
       "Q 33.203125 1.171875 24.609375 1.171875 \r\n",
       "Q 16.015625 1.171875 9.765625 7.421875 \r\n",
       "Q 3.515625 13.671875 3.515625 23.828125 \r\n",
       "Q 3.515625 33.984375 9.765625 40.234375 \r\n",
       "Q 16.015625 46.484375 24.609375 46.484375 \r\n",
       "Q 33.203125 46.484375 39.453125 40.234375 \r\n",
       "Q 45.703125 33.984375 45.703125 23.828125 \r\n",
       "z\r\n",
       "M 37.109375 23.828125 \r\n",
       "Q 37.109375 31.640625 33.203125 35.546875 \r\n",
       "Q 29.296875 39.453125 24.609375 39.453125 \r\n",
       "Q 19.921875 39.453125 16.015625 35.546875 \r\n",
       "Q 12.109375 31.640625 12.109375 23.828125 \r\n",
       "Q 12.109375 16.015625 16.015625 12.109375 \r\n",
       "Q 19.921875 8.203125 24.609375 8.203125 \r\n",
       "Q 29.296875 8.203125 33.203125 12.109375 \r\n",
       "Q 37.109375 16.015625 37.109375 23.828125 \r\n",
       "z\r\n",
       "\" id=\"SimHei-6f\"/>\r\n",
       "     <path d=\"M 39.0625 37.890625 \r\n",
       "Q 31.640625 39.0625 26.5625 35.734375 \r\n",
       "Q 21.484375 32.421875 17.96875 24.21875 \r\n",
       "L 17.96875 1.953125 \r\n",
       "L 10.15625 1.953125 \r\n",
       "L 10.15625 45.703125 \r\n",
       "L 17.96875 45.703125 \r\n",
       "L 17.96875 34.375 \r\n",
       "Q 21.484375 40.625 26.75 43.546875 \r\n",
       "Q 32.03125 46.484375 39.0625 46.484375 \r\n",
       "z\r\n",
       "\" id=\"SimHei-72\"/>\r\n",
       "     <path d=\"M 47.65625 1.953125 \r\n",
       "L 39.84375 1.953125 \r\n",
       "L 39.84375 33.59375 \r\n",
       "Q 39.84375 35.9375 39.0625 37.5 \r\n",
       "Q 38.28125 39.0625 35.9375 39.0625 \r\n",
       "Q 33.203125 39.0625 30.859375 36.125 \r\n",
       "Q 28.515625 33.203125 28.515625 28.515625 \r\n",
       "L 28.515625 1.953125 \r\n",
       "L 20.703125 1.953125 \r\n",
       "L 20.703125 33.59375 \r\n",
       "Q 20.703125 35.9375 19.921875 37.5 \r\n",
       "Q 19.140625 39.0625 16.796875 39.0625 \r\n",
       "Q 14.0625 39.0625 11.71875 36.125 \r\n",
       "Q 9.375 33.203125 9.375 28.515625 \r\n",
       "L 9.375 1.953125 \r\n",
       "L 1.5625 1.953125 \r\n",
       "L 1.5625 45.703125 \r\n",
       "L 9.375 45.703125 \r\n",
       "L 9.375 39.84375 \r\n",
       "Q 11.328125 42.96875 14.0625 44.71875 \r\n",
       "Q 16.796875 46.484375 19.921875 46.484375 \r\n",
       "Q 23.046875 46.484375 25.1875 44.71875 \r\n",
       "Q 27.34375 42.96875 28.125 39.84375 \r\n",
       "Q 30.078125 42.96875 32.609375 44.71875 \r\n",
       "Q 35.15625 46.484375 38.28125 46.484375 \r\n",
       "Q 42.96875 46.484375 45.3125 43.9375 \r\n",
       "Q 47.65625 41.40625 47.65625 36.71875 \r\n",
       "z\r\n",
       "\" id=\"SimHei-6d\"/>\r\n",
       "     <path d=\"M 44.921875 1.953125 \r\n",
       "L 35.546875 1.953125 \r\n",
       "Q 34.765625 2.734375 34.375 4.09375 \r\n",
       "Q 33.984375 5.46875 33.984375 7.421875 \r\n",
       "Q 31.25 4.296875 27.34375 2.734375 \r\n",
       "Q 23.4375 1.171875 19.140625 1.171875 \r\n",
       "Q 12.890625 1.171875 8.59375 4.296875 \r\n",
       "Q 4.296875 7.421875 4.296875 13.28125 \r\n",
       "Q 4.296875 19.140625 8.203125 22.65625 \r\n",
       "Q 12.109375 26.171875 20.3125 27.34375 \r\n",
       "Q 25.78125 28.125 29.875 29.296875 \r\n",
       "Q 33.984375 30.46875 33.984375 32.421875 \r\n",
       "Q 33.984375 34.765625 32.21875 37.109375 \r\n",
       "Q 30.46875 39.453125 24.609375 39.453125 \r\n",
       "Q 19.921875 39.453125 17.765625 37.6875 \r\n",
       "Q 15.625 35.9375 14.84375 32.8125 \r\n",
       "L 6.25 32.8125 \r\n",
       "Q 7.03125 39.0625 11.90625 42.765625 \r\n",
       "Q 16.796875 46.484375 24.609375 46.484375 \r\n",
       "Q 33.203125 46.484375 37.5 42.578125 \r\n",
       "Q 41.796875 38.671875 41.796875 31.640625 \r\n",
       "L 41.796875 10.15625 \r\n",
       "Q 41.796875 7.8125 42.578125 5.859375 \r\n",
       "Q 43.359375 3.90625 44.921875 1.953125 \r\n",
       "z\r\n",
       "M 33.984375 16.40625 \r\n",
       "L 33.984375 24.21875 \r\n",
       "Q 31.640625 23.4375 29.484375 22.84375 \r\n",
       "Q 27.34375 22.265625 22.265625 21.484375 \r\n",
       "Q 16.40625 20.703125 14.640625 18.75 \r\n",
       "Q 12.890625 16.796875 12.890625 14.0625 \r\n",
       "Q 12.890625 11.71875 14.640625 9.953125 \r\n",
       "Q 16.40625 8.203125 19.921875 8.203125 \r\n",
       "Q 23.4375 8.203125 27.53125 10.15625 \r\n",
       "Q 31.640625 12.109375 33.984375 16.40625 \r\n",
       "z\r\n",
       "\" id=\"SimHei-61\"/>\r\n",
       "     <path d=\"M 28.515625 1.953125 \r\n",
       "L 20.703125 1.953125 \r\n",
       "L 20.703125 68.75 \r\n",
       "L 28.515625 68.75 \r\n",
       "z\r\n",
       "\" id=\"SimHei-6c\"/>\r\n",
       "     <path id=\"SimHei-20\"/>\r\n",
       "     <path d=\"M 42.96875 14.0625 \r\n",
       "Q 42.96875 7.8125 38.078125 4.484375 \r\n",
       "Q 33.203125 1.171875 25.78125 1.171875 \r\n",
       "Q 16.40625 1.171875 11.328125 4.875 \r\n",
       "Q 6.25 8.59375 6.25 15.625 \r\n",
       "L 14.0625 15.625 \r\n",
       "Q 14.0625 10.9375 17.375 9.375 \r\n",
       "Q 20.703125 7.8125 25.390625 7.8125 \r\n",
       "Q 30.078125 7.8125 32.421875 9.5625 \r\n",
       "Q 34.765625 11.328125 34.765625 14.0625 \r\n",
       "Q 34.765625 16.015625 32.8125 17.96875 \r\n",
       "Q 30.859375 19.921875 23.046875 21.09375 \r\n",
       "Q 14.0625 22.265625 10.734375 25.578125 \r\n",
       "Q 7.421875 28.90625 7.421875 34.375 \r\n",
       "Q 7.421875 39.0625 11.90625 42.765625 \r\n",
       "Q 16.40625 46.484375 25 46.484375 \r\n",
       "Q 32.8125 46.484375 37.296875 42.96875 \r\n",
       "Q 41.796875 39.453125 41.796875 33.59375 \r\n",
       "L 33.984375 33.59375 \r\n",
       "Q 33.984375 37.109375 31.4375 38.46875 \r\n",
       "Q 28.90625 39.84375 25 39.84375 \r\n",
       "Q 19.921875 39.84375 17.765625 38.078125 \r\n",
       "Q 15.625 36.328125 15.625 33.984375 \r\n",
       "Q 15.625 31.25 17.578125 29.6875 \r\n",
       "Q 19.53125 28.125 25.78125 27.34375 \r\n",
       "Q 35.9375 25.78125 39.453125 22.453125 \r\n",
       "Q 42.96875 19.140625 42.96875 14.0625 \r\n",
       "z\r\n",
       "\" id=\"SimHei-73\"/>\r\n",
       "     <path d=\"M 44.53125 19.53125 \r\n",
       "Q 44.53125 11.328125 38.859375 6.25 \r\n",
       "Q 33.203125 1.171875 24.609375 1.171875 \r\n",
       "Q 16.015625 1.171875 9.765625 7.21875 \r\n",
       "Q 3.515625 13.28125 3.515625 23.828125 \r\n",
       "Q 3.515625 34.375 9.765625 40.421875 \r\n",
       "Q 16.015625 46.484375 24.609375 46.484375 \r\n",
       "Q 33.203125 46.484375 38.28125 41.984375 \r\n",
       "Q 43.359375 37.5 43.359375 31.25 \r\n",
       "L 34.765625 31.25 \r\n",
       "Q 34.375 35.9375 31.4375 37.6875 \r\n",
       "Q 28.515625 39.453125 24.609375 39.453125 \r\n",
       "Q 19.921875 39.453125 16.015625 35.734375 \r\n",
       "Q 12.109375 32.03125 12.109375 23.828125 \r\n",
       "Q 12.109375 15.625 16.015625 11.90625 \r\n",
       "Q 19.921875 8.203125 24.609375 8.203125 \r\n",
       "Q 29.6875 8.203125 32.8125 10.9375 \r\n",
       "Q 35.9375 13.671875 35.9375 19.53125 \r\n",
       "z\r\n",
       "\" id=\"SimHei-63\"/>\r\n",
       "     <path d=\"M 44.53125 16.796875 \r\n",
       "Q 43.75 9.765625 38.28125 5.46875 \r\n",
       "Q 32.8125 1.171875 25.390625 1.171875 \r\n",
       "Q 16.015625 1.171875 9.953125 7.21875 \r\n",
       "Q 3.90625 13.28125 3.90625 23.828125 \r\n",
       "Q 3.90625 34.375 9.953125 40.421875 \r\n",
       "Q 16.015625 46.484375 25.390625 46.484375 \r\n",
       "Q 33.59375 46.484375 38.859375 41.203125 \r\n",
       "Q 44.140625 35.9375 44.140625 23.828125 \r\n",
       "L 12.5 23.828125 \r\n",
       "Q 12.5 15.234375 16.203125 11.71875 \r\n",
       "Q 19.921875 8.203125 25.390625 8.203125 \r\n",
       "Q 29.6875 8.203125 32.421875 10.34375 \r\n",
       "Q 35.15625 12.5 35.9375 16.796875 \r\n",
       "z\r\n",
       "M 35.15625 30.078125 \r\n",
       "Q 34.375 35.546875 31.640625 37.6875 \r\n",
       "Q 28.90625 39.84375 24.609375 39.84375 \r\n",
       "Q 20.703125 39.84375 17.578125 37.6875 \r\n",
       "Q 14.453125 35.546875 12.890625 30.078125 \r\n",
       "z\r\n",
       "\" id=\"SimHei-65\"/>\r\n",
       "    </defs>\r\n",
       "    <g transform=\"translate(165.6 15.45)scale(0.12 -0.12)\">\r\n",
       "     <use xlink:href=\"#SimHei-4e\"/>\r\n",
       "     <use x=\"50\" xlink:href=\"#SimHei-6f\"/>\r\n",
       "     <use x=\"100\" xlink:href=\"#SimHei-72\"/>\r\n",
       "     <use x=\"150\" xlink:href=\"#SimHei-6d\"/>\r\n",
       "     <use x=\"200\" xlink:href=\"#SimHei-61\"/>\r\n",
       "     <use x=\"250\" xlink:href=\"#SimHei-6c\"/>\r\n",
       "     <use x=\"300\" xlink:href=\"#SimHei-20\"/>\r\n",
       "     <use x=\"350\" xlink:href=\"#SimHei-73\"/>\r\n",
       "     <use x=\"400\" xlink:href=\"#SimHei-63\"/>\r\n",
       "     <use x=\"450\" xlink:href=\"#SimHei-61\"/>\r\n",
       "     <use x=\"500\" xlink:href=\"#SimHei-6c\"/>\r\n",
       "     <use x=\"550\" xlink:href=\"#SimHei-65\"/>\r\n",
       "    </g>\r\n",
       "   </g>\r\n",
       "   <g id=\"legend_1\">\r\n",
       "    <g id=\"patch_7\">\r\n",
       "     <path d=\"M 41.2 60.45 \r\n",
       "L 121.1 60.45 \r\n",
       "Q 123.1 60.45 123.1 58.45 \r\n",
       "L 123.1 28.45 \r\n",
       "Q 123.1 26.45 121.1 26.45 \r\n",
       "L 41.2 26.45 \r\n",
       "Q 39.2 26.45 39.2 28.45 \r\n",
       "L 39.2 58.45 \r\n",
       "Q 39.2 60.45 41.2 60.45 \r\n",
       "z\r\n",
       "\" style=\"fill:#ffffff;opacity:0.8;stroke:#cccccc;stroke-linejoin:miter;\"/>\r\n",
       "    </g>\r\n",
       "    <g id=\"line2d_18\">\r\n",
       "     <path d=\"M 43.2 36.05 \r\n",
       "L 63.2 36.05 \r\n",
       "\" style=\"fill:none;stroke:#1f77b4;stroke-linecap:square;stroke-width:1.5;\"/>\r\n",
       "    </g>\r\n",
       "    <g id=\"line2d_19\"/>\r\n",
       "    <g id=\"text_17\">\r\n",
       "     <!-- $y = x^2$ -->\r\n",
       "     <defs>\r\n",
       "      <path d=\"M 24.8125 -5.078125 \r\n",
       "Q 18.5625 -15.578125 14.625 -18.1875 \r\n",
       "Q 10.6875 -20.796875 4.59375 -20.796875 \r\n",
       "L -2.484375 -20.796875 \r\n",
       "L -0.984375 -13.28125 \r\n",
       "L 4.203125 -13.28125 \r\n",
       "Q 7.953125 -13.28125 10.59375 -11.234375 \r\n",
       "Q 13.234375 -9.1875 16.5 -3.21875 \r\n",
       "L 19.28125 2 \r\n",
       "L 7.171875 54.6875 \r\n",
       "L 16.703125 54.6875 \r\n",
       "L 25.78125 12.796875 \r\n",
       "L 50.875 54.6875 \r\n",
       "L 60.296875 54.6875 \r\n",
       "z\r\n",
       "\" id=\"DejaVuSans-Oblique-79\"/>\r\n",
       "      <path d=\"M 10.59375 45.40625 \r\n",
       "L 73.1875 45.40625 \r\n",
       "L 73.1875 37.203125 \r\n",
       "L 10.59375 37.203125 \r\n",
       "z\r\n",
       "M 10.59375 25.484375 \r\n",
       "L 73.1875 25.484375 \r\n",
       "L 73.1875 17.1875 \r\n",
       "L 10.59375 17.1875 \r\n",
       "z\r\n",
       "\" id=\"DejaVuSans-3d\"/>\r\n",
       "      <path d=\"M 60.015625 54.6875 \r\n",
       "L 34.90625 27.875 \r\n",
       "L 50.296875 0 \r\n",
       "L 39.984375 0 \r\n",
       "L 28.421875 21.6875 \r\n",
       "L 8.296875 0 \r\n",
       "L -2.59375 0 \r\n",
       "L 24.3125 28.8125 \r\n",
       "L 10.015625 54.6875 \r\n",
       "L 20.3125 54.6875 \r\n",
       "L 30.8125 34.90625 \r\n",
       "L 49.125 54.6875 \r\n",
       "z\r\n",
       "\" id=\"DejaVuSans-Oblique-78\"/>\r\n",
       "      <path d=\"M 19.1875 8.296875 \r\n",
       "L 53.609375 8.296875 \r\n",
       "L 53.609375 0 \r\n",
       "L 7.328125 0 \r\n",
       "L 7.328125 8.296875 \r\n",
       "Q 12.9375 14.109375 22.625 23.890625 \r\n",
       "Q 32.328125 33.6875 34.8125 36.53125 \r\n",
       "Q 39.546875 41.84375 41.421875 45.53125 \r\n",
       "Q 43.3125 49.21875 43.3125 52.78125 \r\n",
       "Q 43.3125 58.59375 39.234375 62.25 \r\n",
       "Q 35.15625 65.921875 28.609375 65.921875 \r\n",
       "Q 23.96875 65.921875 18.8125 64.3125 \r\n",
       "Q 13.671875 62.703125 7.8125 59.421875 \r\n",
       "L 7.8125 69.390625 \r\n",
       "Q 13.765625 71.78125 18.9375 73 \r\n",
       "Q 24.125 74.21875 28.421875 74.21875 \r\n",
       "Q 39.75 74.21875 46.484375 68.546875 \r\n",
       "Q 53.21875 62.890625 53.21875 53.421875 \r\n",
       "Q 53.21875 48.921875 51.53125 44.890625 \r\n",
       "Q 49.859375 40.875 45.40625 35.40625 \r\n",
       "Q 44.1875 33.984375 37.640625 27.21875 \r\n",
       "Q 31.109375 20.453125 19.1875 8.296875 \r\n",
       "z\r\n",
       "\" id=\"DejaVuSans-32\"/>\r\n",
       "     </defs>\r\n",
       "     <g transform=\"translate(71.2 39.55)scale(0.1 -0.1)\">\r\n",
       "      <use transform=\"translate(0 0.765625)\" xlink:href=\"#DejaVuSans-Oblique-79\"/>\r\n",
       "      <use transform=\"translate(78.662109 0.765625)\" xlink:href=\"#DejaVuSans-3d\"/>\r\n",
       "      <use transform=\"translate(181.933594 0.765625)\" xlink:href=\"#DejaVuSans-Oblique-78\"/>\r\n",
       "      <use transform=\"translate(245.579427 39.046875)scale(0.7)\" xlink:href=\"#DejaVuSans-32\"/>\r\n",
       "     </g>\r\n",
       "    </g>\r\n",
       "    <g id=\"line2d_20\">\r\n",
       "     <path d=\"M 43.2 50.85 \r\n",
       "L 63.2 50.85 \r\n",
       "\" style=\"fill:none;stroke:#ff7f0e;stroke-linecap:square;stroke-width:1.5;\"/>\r\n",
       "    </g>\r\n",
       "    <g id=\"line2d_21\"/>\r\n",
       "    <g id=\"text_18\">\r\n",
       "     <!-- $y = e^x - 1$ -->\r\n",
       "     <defs>\r\n",
       "      <path d=\"M 48.09375 32.234375 \r\n",
       "Q 48.25 33.015625 48.3125 33.84375 \r\n",
       "Q 48.390625 34.671875 48.390625 35.5 \r\n",
       "Q 48.390625 41.453125 44.890625 44.921875 \r\n",
       "Q 41.40625 48.390625 35.40625 48.390625 \r\n",
       "Q 28.71875 48.390625 23.578125 44.15625 \r\n",
       "Q 18.453125 39.9375 15.828125 32.171875 \r\n",
       "z\r\n",
       "M 55.90625 25.203125 \r\n",
       "L 14.109375 25.203125 \r\n",
       "Q 13.8125 23.34375 13.71875 22.265625 \r\n",
       "Q 13.625 21.1875 13.625 20.40625 \r\n",
       "Q 13.625 13.625 17.796875 9.90625 \r\n",
       "Q 21.96875 6.203125 29.59375 6.203125 \r\n",
       "Q 35.453125 6.203125 40.671875 7.515625 \r\n",
       "Q 45.90625 8.84375 50.390625 11.375 \r\n",
       "L 48.6875 2.484375 \r\n",
       "Q 43.84375 0.53125 38.6875 -0.4375 \r\n",
       "Q 33.546875 -1.421875 28.21875 -1.421875 \r\n",
       "Q 16.84375 -1.421875 10.71875 4.015625 \r\n",
       "Q 4.59375 9.46875 4.59375 19.484375 \r\n",
       "Q 4.59375 28.03125 7.640625 35.375 \r\n",
       "Q 10.6875 42.71875 16.609375 48.484375 \r\n",
       "Q 20.40625 52.09375 25.65625 54.046875 \r\n",
       "Q 30.90625 56 36.8125 56 \r\n",
       "Q 46.09375 56 51.578125 50.4375 \r\n",
       "Q 57.078125 44.875 57.078125 35.5 \r\n",
       "Q 57.078125 33.25 56.78125 30.6875 \r\n",
       "Q 56.5 28.125 55.90625 25.203125 \r\n",
       "z\r\n",
       "\" id=\"DejaVuSans-Oblique-65\"/>\r\n",
       "      <path d=\"M 10.59375 35.5 \r\n",
       "L 73.1875 35.5 \r\n",
       "L 73.1875 27.203125 \r\n",
       "L 10.59375 27.203125 \r\n",
       "z\r\n",
       "\" id=\"DejaVuSans-2212\"/>\r\n",
       "      <path d=\"M 12.40625 8.296875 \r\n",
       "L 28.515625 8.296875 \r\n",
       "L 28.515625 63.921875 \r\n",
       "L 10.984375 60.40625 \r\n",
       "L 10.984375 69.390625 \r\n",
       "L 28.421875 72.90625 \r\n",
       "L 38.28125 72.90625 \r\n",
       "L 38.28125 8.296875 \r\n",
       "L 54.390625 8.296875 \r\n",
       "L 54.390625 0 \r\n",
       "L 12.40625 0 \r\n",
       "z\r\n",
       "\" id=\"DejaVuSans-31\"/>\r\n",
       "     </defs>\r\n",
       "     <g transform=\"translate(71.2 54.35)scale(0.1 -0.1)\">\r\n",
       "      <use transform=\"translate(0 0.4375)\" xlink:href=\"#DejaVuSans-Oblique-79\"/>\r\n",
       "      <use transform=\"translate(78.662109 0.4375)\" xlink:href=\"#DejaVuSans-3d\"/>\r\n",
       "      <use transform=\"translate(181.933594 0.4375)\" xlink:href=\"#DejaVuSans-Oblique-65\"/>\r\n",
       "      <use transform=\"translate(248.106927 38.71875)scale(0.7)\" xlink:href=\"#DejaVuSans-Oblique-78\"/>\r\n",
       "      <use transform=\"translate(311.749505 0.4375)\" xlink:href=\"#DejaVuSans-2212\"/>\r\n",
       "      <use transform=\"translate(415.02099 0.4375)\" xlink:href=\"#DejaVuSans-31\"/>\r\n",
       "     </g>\r\n",
       "    </g>\r\n",
       "   </g>\r\n",
       "  </g>\r\n",
       " </g>\r\n",
       " <defs>\r\n",
       "  <clipPath id=\"p40e5afb9be\">\r\n",
       "   <rect height=\"217.44\" width=\"334.8\" x=\"34.2\" y=\"21.45\"/>\r\n",
       "  </clipPath>\r\n",
       " </defs>\r\n",
       "</svg>\r\n"
      ],
      "text/plain": [
       "<Figure size 432x288 with 1 Axes>"
      ]
     },
     "metadata": {},
     "output_type": "display_data"
    }
   ],
   "source": [
    "fig, axes = plt.subplots()\n",
    "x = np.arange(0, 3, 0.1)       \n",
    "axes.plot(x, x**2,label=r\"$y = x^2$\")\n",
    "axes.plot(x, np.exp(x)-1,label=r\"$y = e^x - 1$\")\n",
    "axes.set_title(\"Normal scale\")\n",
    "axes.legend()\n",
    "plt.show()"
   ]
  },
  {
   "cell_type": "code",
   "execution_count": 72,
   "metadata": {
    "scrolled": true
   },
   "outputs": [
    {
     "data": {
      "image/svg+xml": [
       "<?xml version=\"1.0\" encoding=\"utf-8\" standalone=\"no\"?>\r\n",
       "<!DOCTYPE svg PUBLIC \"-//W3C//DTD SVG 1.1//EN\"\r\n",
       "  \"http://www.w3.org/Graphics/SVG/1.1/DTD/svg11.dtd\">\r\n",
       "<!-- Created with matplotlib (http://matplotlib.org/) -->\r\n",
       "<svg height=\"262.59pt\" version=\"1.1\" viewBox=\"0 0 381.825 262.59\" width=\"381.825pt\" xmlns=\"http://www.w3.org/2000/svg\" xmlns:xlink=\"http://www.w3.org/1999/xlink\">\r\n",
       " <defs>\r\n",
       "  <style type=\"text/css\">\r\n",
       "*{stroke-linecap:butt;stroke-linejoin:round;}\r\n",
       "  </style>\r\n",
       " </defs>\r\n",
       " <g id=\"figure_1\">\r\n",
       "  <g id=\"patch_1\">\r\n",
       "   <path d=\"M 0 262.59 \r\n",
       "L 381.825 262.59 \r\n",
       "L 381.825 0 \r\n",
       "L 0 0 \r\n",
       "z\r\n",
       "\" style=\"fill:none;\"/>\r\n",
       "  </g>\r\n",
       "  <g id=\"axes_1\">\r\n",
       "   <g id=\"patch_2\">\r\n",
       "    <path d=\"M 36.325 228.14 \r\n",
       "L 371.125 228.14 \r\n",
       "L 371.125 10.7 \r\n",
       "L 36.325 10.7 \r\n",
       "z\r\n",
       "\" style=\"fill:#ffffff;\"/>\r\n",
       "   </g>\r\n",
       "   <g id=\"PathCollection_1\">\r\n",
       "    <defs>\r\n",
       "     <path d=\"M 0 3 \r\n",
       "C 0.795609 3 1.55874 2.683901 2.12132 2.12132 \r\n",
       "C 2.683901 1.55874 3 0.795609 3 0 \r\n",
       "C 3 -0.795609 2.683901 -1.55874 2.12132 -2.12132 \r\n",
       "C 1.55874 -2.683901 0.795609 -3 0 -3 \r\n",
       "C -0.795609 -3 -1.55874 -2.683901 -2.12132 -2.12132 \r\n",
       "C -2.683901 -1.55874 -3 -0.795609 -3 0 \r\n",
       "C -3 0.795609 -2.683901 1.55874 -2.12132 2.12132 \r\n",
       "C -1.55874 2.683901 -0.795609 3 0 3 \r\n",
       "z\r\n",
       "\" id=\"m9e58579559\" style=\"stroke:#ff0000;\"/>\r\n",
       "    </defs>\r\n",
       "    <g clip-path=\"url(#p72bad3ec18)\">\r\n",
       "     <use style=\"fill:#ff0000;stroke:#ff0000;\" x=\"252.560984\" xlink:href=\"#m9e58579559\" y=\"99.998546\"/>\r\n",
       "     <use style=\"fill:#ff0000;stroke:#ff0000;\" x=\"226.221768\" xlink:href=\"#m9e58579559\" y=\"108.492695\"/>\r\n",
       "     <use style=\"fill:#ff0000;stroke:#ff0000;\" x=\"344.075841\" xlink:href=\"#m9e58579559\" y=\"30.360495\"/>\r\n",
       "     <use style=\"fill:#ff0000;stroke:#ff0000;\" x=\"150.011578\" xlink:href=\"#m9e58579559\" y=\"151.083909\"/>\r\n",
       "     <use style=\"fill:#ff0000;stroke:#ff0000;\" x=\"263.444724\" xlink:href=\"#m9e58579559\" y=\"117.429946\"/>\r\n",
       "     <use style=\"fill:#ff0000;stroke:#ff0000;\" x=\"237.125711\" xlink:href=\"#m9e58579559\" y=\"117.518253\"/>\r\n",
       "     <use style=\"fill:#ff0000;stroke:#ff0000;\" x=\"104.538356\" xlink:href=\"#m9e58579559\" y=\"166.975113\"/>\r\n",
       "     <use style=\"fill:#ff0000;stroke:#ff0000;\" x=\"197.0476\" xlink:href=\"#m9e58579559\" y=\"127.339516\"/>\r\n",
       "     <use style=\"fill:#ff0000;stroke:#ff0000;\" x=\"322.521897\" xlink:href=\"#m9e58579559\" y=\"45.797853\"/>\r\n",
       "     <use style=\"fill:#ff0000;stroke:#ff0000;\" x=\"185.117745\" xlink:href=\"#m9e58579559\" y=\"124.945346\"/>\r\n",
       "     <use style=\"fill:#ff0000;stroke:#ff0000;\" x=\"234.270772\" xlink:href=\"#m9e58579559\" y=\"85.212282\"/>\r\n",
       "     <use style=\"fill:#ff0000;stroke:#ff0000;\" x=\"180.446884\" xlink:href=\"#m9e58579559\" y=\"149.221538\"/>\r\n",
       "     <use style=\"fill:#ff0000;stroke:#ff0000;\" x=\"320.100016\" xlink:href=\"#m9e58579559\" y=\"47.668011\"/>\r\n",
       "     <use style=\"fill:#ff0000;stroke:#ff0000;\" x=\"212.945235\" xlink:href=\"#m9e58579559\" y=\"97.725432\"/>\r\n",
       "     <use style=\"fill:#ff0000;stroke:#ff0000;\" x=\"222.138799\" xlink:href=\"#m9e58579559\" y=\"87.892831\"/>\r\n",
       "     <use style=\"fill:#ff0000;stroke:#ff0000;\" x=\"267.390904\" xlink:href=\"#m9e58579559\" y=\"73.920544\"/>\r\n",
       "     <use style=\"fill:#ff0000;stroke:#ff0000;\" x=\"178.738228\" xlink:href=\"#m9e58579559\" y=\"104.980887\"/>\r\n",
       "     <use style=\"fill:#ff0000;stroke:#ff0000;\" x=\"232.023532\" xlink:href=\"#m9e58579559\" y=\"121.872629\"/>\r\n",
       "     <use style=\"fill:#ff0000;stroke:#ff0000;\" x=\"255.299624\" xlink:href=\"#m9e58579559\" y=\"99.73841\"/>\r\n",
       "     <use style=\"fill:#ff0000;stroke:#ff0000;\" x=\"268.470434\" xlink:href=\"#m9e58579559\" y=\"107.718851\"/>\r\n",
       "     <use style=\"fill:#ff0000;stroke:#ff0000;\" x=\"233.099069\" xlink:href=\"#m9e58579559\" y=\"121.704097\"/>\r\n",
       "     <use style=\"fill:#ff0000;stroke:#ff0000;\" x=\"203.530558\" xlink:href=\"#m9e58579559\" y=\"135.449411\"/>\r\n",
       "     <use style=\"fill:#ff0000;stroke:#ff0000;\" x=\"87.826426\" xlink:href=\"#m9e58579559\" y=\"195.524112\"/>\r\n",
       "     <use style=\"fill:#ff0000;stroke:#ff0000;\" x=\"169.49528\" xlink:href=\"#m9e58579559\" y=\"138.249338\"/>\r\n",
       "     <use style=\"fill:#ff0000;stroke:#ff0000;\" x=\"173.150118\" xlink:href=\"#m9e58579559\" y=\"140.528047\"/>\r\n",
       "     <use style=\"fill:#ff0000;stroke:#ff0000;\" x=\"233.26338\" xlink:href=\"#m9e58579559\" y=\"102.074294\"/>\r\n",
       "     <use style=\"fill:#ff0000;stroke:#ff0000;\" x=\"304.106059\" xlink:href=\"#m9e58579559\" y=\"55.521306\"/>\r\n",
       "     <use style=\"fill:#ff0000;stroke:#ff0000;\" x=\"255.474385\" xlink:href=\"#m9e58579559\" y=\"121.934249\"/>\r\n",
       "     <use style=\"fill:#ff0000;stroke:#ff0000;\" x=\"260.466454\" xlink:href=\"#m9e58579559\" y=\"112.301851\"/>\r\n",
       "     <use style=\"fill:#ff0000;stroke:#ff0000;\" x=\"245.595546\" xlink:href=\"#m9e58579559\" y=\"62.98205\"/>\r\n",
       "     <use style=\"fill:#ff0000;stroke:#ff0000;\" x=\"248.086075\" xlink:href=\"#m9e58579559\" y=\"120.903063\"/>\r\n",
       "     <use style=\"fill:#ff0000;stroke:#ff0000;\" x=\"249.084368\" xlink:href=\"#m9e58579559\" y=\"85.649951\"/>\r\n",
       "     <use style=\"fill:#ff0000;stroke:#ff0000;\" x=\"217.43568\" xlink:href=\"#m9e58579559\" y=\"134.740934\"/>\r\n",
       "     <use style=\"fill:#ff0000;stroke:#ff0000;\" x=\"133.538481\" xlink:href=\"#m9e58579559\" y=\"148.201685\"/>\r\n",
       "     <use style=\"fill:#ff0000;stroke:#ff0000;\" x=\"98.912312\" xlink:href=\"#m9e58579559\" y=\"150.329251\"/>\r\n",
       "     <use style=\"fill:#ff0000;stroke:#ff0000;\" x=\"136.423769\" xlink:href=\"#m9e58579559\" y=\"137.392028\"/>\r\n",
       "     <use style=\"fill:#ff0000;stroke:#ff0000;\" x=\"157.669018\" xlink:href=\"#m9e58579559\" y=\"174.029405\"/>\r\n",
       "     <use style=\"fill:#ff0000;stroke:#ff0000;\" x=\"128.795182\" xlink:href=\"#m9e58579559\" y=\"169.329993\"/>\r\n",
       "     <use style=\"fill:#ff0000;stroke:#ff0000;\" x=\"237.098514\" xlink:href=\"#m9e58579559\" y=\"116.100501\"/>\r\n",
       "     <use style=\"fill:#ff0000;stroke:#ff0000;\" x=\"190.199224\" xlink:href=\"#m9e58579559\" y=\"113.398\"/>\r\n",
       "     <use style=\"fill:#ff0000;stroke:#ff0000;\" x=\"300.839268\" xlink:href=\"#m9e58579559\" y=\"55.119191\"/>\r\n",
       "     <use style=\"fill:#ff0000;stroke:#ff0000;\" x=\"175.994056\" xlink:href=\"#m9e58579559\" y=\"149.338661\"/>\r\n",
       "     <use style=\"fill:#ff0000;stroke:#ff0000;\" x=\"329.188396\" xlink:href=\"#m9e58579559\" y=\"27.061533\"/>\r\n",
       "     <use style=\"fill:#ff0000;stroke:#ff0000;\" x=\"139.833707\" xlink:href=\"#m9e58579559\" y=\"156.820915\"/>\r\n",
       "     <use style=\"fill:#ff0000;stroke:#ff0000;\" x=\"316.638706\" xlink:href=\"#m9e58579559\" y=\"83.11056\"/>\r\n",
       "     <use style=\"fill:#ff0000;stroke:#ff0000;\" x=\"214.03142\" xlink:href=\"#m9e58579559\" y=\"112.547497\"/>\r\n",
       "     <use style=\"fill:#ff0000;stroke:#ff0000;\" x=\"220.202011\" xlink:href=\"#m9e58579559\" y=\"128.965063\"/>\r\n",
       "     <use style=\"fill:#ff0000;stroke:#ff0000;\" x=\"307.334383\" xlink:href=\"#m9e58579559\" y=\"35.524524\"/>\r\n",
       "     <use style=\"fill:#ff0000;stroke:#ff0000;\" x=\"185.247883\" xlink:href=\"#m9e58579559\" y=\"133.45693\"/>\r\n",
       "     <use style=\"fill:#ff0000;stroke:#ff0000;\" x=\"146.473327\" xlink:href=\"#m9e58579559\" y=\"176.860929\"/>\r\n",
       "     <use style=\"fill:#ff0000;stroke:#ff0000;\" x=\"219.511105\" xlink:href=\"#m9e58579559\" y=\"96.494437\"/>\r\n",
       "     <use style=\"fill:#ff0000;stroke:#ff0000;\" x=\"239.106071\" xlink:href=\"#m9e58579559\" y=\"119.487444\"/>\r\n",
       "     <use style=\"fill:#ff0000;stroke:#ff0000;\" x=\"232.241557\" xlink:href=\"#m9e58579559\" y=\"111.34425\"/>\r\n",
       "     <use style=\"fill:#ff0000;stroke:#ff0000;\" x=\"284.058637\" xlink:href=\"#m9e58579559\" y=\"38.842966\"/>\r\n",
       "     <use style=\"fill:#ff0000;stroke:#ff0000;\" x=\"254.802837\" xlink:href=\"#m9e58579559\" y=\"91.301878\"/>\r\n",
       "     <use style=\"fill:#ff0000;stroke:#ff0000;\" x=\"204.377481\" xlink:href=\"#m9e58579559\" y=\"126.840945\"/>\r\n",
       "     <use style=\"fill:#ff0000;stroke:#ff0000;\" x=\"173.16789\" xlink:href=\"#m9e58579559\" y=\"110.453896\"/>\r\n",
       "     <use style=\"fill:#ff0000;stroke:#ff0000;\" x=\"329.869894\" xlink:href=\"#m9e58579559\" y=\"37.71169\"/>\r\n",
       "     <use style=\"fill:#ff0000;stroke:#ff0000;\" x=\"211.558103\" xlink:href=\"#m9e58579559\" y=\"104.98513\"/>\r\n",
       "     <use style=\"fill:#ff0000;stroke:#ff0000;\" x=\"242.229011\" xlink:href=\"#m9e58579559\" y=\"56.497321\"/>\r\n",
       "     <use style=\"fill:#ff0000;stroke:#ff0000;\" x=\"279.167349\" xlink:href=\"#m9e58579559\" y=\"73.504474\"/>\r\n",
       "     <use style=\"fill:#ff0000;stroke:#ff0000;\" x=\"288.75677\" xlink:href=\"#m9e58579559\" y=\"20.838318\"/>\r\n",
       "     <use style=\"fill:#ff0000;stroke:#ff0000;\" x=\"311.218796\" xlink:href=\"#m9e58579559\" y=\"71.53807\"/>\r\n",
       "     <use style=\"fill:#ff0000;stroke:#ff0000;\" x=\"172.710397\" xlink:href=\"#m9e58579559\" y=\"135.180709\"/>\r\n",
       "     <use style=\"fill:#ff0000;stroke:#ff0000;\" x=\"256.701744\" xlink:href=\"#m9e58579559\" y=\"102.721896\"/>\r\n",
       "     <use style=\"fill:#ff0000;stroke:#ff0000;\" x=\"184.365792\" xlink:href=\"#m9e58579559\" y=\"132.058051\"/>\r\n",
       "     <use style=\"fill:#ff0000;stroke:#ff0000;\" x=\"279.450138\" xlink:href=\"#m9e58579559\" y=\"81.436264\"/>\r\n",
       "     <use style=\"fill:#ff0000;stroke:#ff0000;\" x=\"230.442471\" xlink:href=\"#m9e58579559\" y=\"95.238719\"/>\r\n",
       "     <use style=\"fill:#ff0000;stroke:#ff0000;\" x=\"245.829069\" xlink:href=\"#m9e58579559\" y=\"104.026024\"/>\r\n",
       "     <use style=\"fill:#ff0000;stroke:#ff0000;\" x=\"215.930085\" xlink:href=\"#m9e58579559\" y=\"114.401307\"/>\r\n",
       "     <use style=\"fill:#ff0000;stroke:#ff0000;\" x=\"288.786731\" xlink:href=\"#m9e58579559\" y=\"84.669215\"/>\r\n",
       "     <use style=\"fill:#ff0000;stroke:#ff0000;\" x=\"238.223658\" xlink:href=\"#m9e58579559\" y=\"108.531557\"/>\r\n",
       "     <use style=\"fill:#ff0000;stroke:#ff0000;\" x=\"277.189437\" xlink:href=\"#m9e58579559\" y=\"87.682881\"/>\r\n",
       "     <use style=\"fill:#ff0000;stroke:#ff0000;\" x=\"244.189789\" xlink:href=\"#m9e58579559\" y=\"90.325006\"/>\r\n",
       "     <use style=\"fill:#ff0000;stroke:#ff0000;\" x=\"231.246241\" xlink:href=\"#m9e58579559\" y=\"96.046631\"/>\r\n",
       "     <use style=\"fill:#ff0000;stroke:#ff0000;\" x=\"253.355049\" xlink:href=\"#m9e58579559\" y=\"70.013455\"/>\r\n",
       "     <use style=\"fill:#ff0000;stroke:#ff0000;\" x=\"175.110613\" xlink:href=\"#m9e58579559\" y=\"122.506922\"/>\r\n",
       "     <use style=\"fill:#ff0000;stroke:#ff0000;\" x=\"151.641391\" xlink:href=\"#m9e58579559\" y=\"134.215909\"/>\r\n",
       "     <use style=\"fill:#ff0000;stroke:#ff0000;\" x=\"112.554018\" xlink:href=\"#m9e58579559\" y=\"195.391648\"/>\r\n",
       "     <use style=\"fill:#ff0000;stroke:#ff0000;\" x=\"262.370057\" xlink:href=\"#m9e58579559\" y=\"99.7301\"/>\r\n",
       "     <use style=\"fill:#ff0000;stroke:#ff0000;\" x=\"219.450506\" xlink:href=\"#m9e58579559\" y=\"115.224646\"/>\r\n",
       "     <use style=\"fill:#ff0000;stroke:#ff0000;\" x=\"242.986151\" xlink:href=\"#m9e58579559\" y=\"85.561145\"/>\r\n",
       "     <use style=\"fill:#ff0000;stroke:#ff0000;\" x=\"155.602957\" xlink:href=\"#m9e58579559\" y=\"144.980852\"/>\r\n",
       "     <use style=\"fill:#ff0000;stroke:#ff0000;\" x=\"115.993335\" xlink:href=\"#m9e58579559\" y=\"153.028514\"/>\r\n",
       "     <use style=\"fill:#ff0000;stroke:#ff0000;\" x=\"193.499008\" xlink:href=\"#m9e58579559\" y=\"151.329346\"/>\r\n",
       "     <use style=\"fill:#ff0000;stroke:#ff0000;\" x=\"272.539792\" xlink:href=\"#m9e58579559\" y=\"80.946692\"/>\r\n",
       "     <use style=\"fill:#ff0000;stroke:#ff0000;\" x=\"210.349685\" xlink:href=\"#m9e58579559\" y=\"73.751456\"/>\r\n",
       "     <use style=\"fill:#ff0000;stroke:#ff0000;\" x=\"233.921668\" xlink:href=\"#m9e58579559\" y=\"134.408833\"/>\r\n",
       "     <use style=\"fill:#ff0000;stroke:#ff0000;\" x=\"171.500821\" xlink:href=\"#m9e58579559\" y=\"130.251569\"/>\r\n",
       "     <use style=\"fill:#ff0000;stroke:#ff0000;\" x=\"272.192336\" xlink:href=\"#m9e58579559\" y=\"52.659542\"/>\r\n",
       "     <use style=\"fill:#ff0000;stroke:#ff0000;\" x=\"167.175325\" xlink:href=\"#m9e58579559\" y=\"119.453381\"/>\r\n",
       "     <use style=\"fill:#ff0000;stroke:#ff0000;\" x=\"294.881838\" xlink:href=\"#m9e58579559\" y=\"78.617024\"/>\r\n",
       "     <use style=\"fill:#ff0000;stroke:#ff0000;\" x=\"206.416673\" xlink:href=\"#m9e58579559\" y=\"111.440781\"/>\r\n",
       "     <use style=\"fill:#ff0000;stroke:#ff0000;\" x=\"233.429456\" xlink:href=\"#m9e58579559\" y=\"92.220708\"/>\r\n",
       "     <use style=\"fill:#ff0000;stroke:#ff0000;\" x=\"166.428097\" xlink:href=\"#m9e58579559\" y=\"159.728051\"/>\r\n",
       "     <use style=\"fill:#ff0000;stroke:#ff0000;\" x=\"184.169125\" xlink:href=\"#m9e58579559\" y=\"127.895115\"/>\r\n",
       "     <use style=\"fill:#ff0000;stroke:#ff0000;\" x=\"161.529857\" xlink:href=\"#m9e58579559\" y=\"136.937908\"/>\r\n",
       "     <use style=\"fill:#ff0000;stroke:#ff0000;\" x=\"243.363726\" xlink:href=\"#m9e58579559\" y=\"96.313848\"/>\r\n",
       "     <use style=\"fill:#ff0000;stroke:#ff0000;\" x=\"200.103452\" xlink:href=\"#m9e58579559\" y=\"122.763338\"/>\r\n",
       "     <use style=\"fill:#ff0000;stroke:#ff0000;\" x=\"312.882805\" xlink:href=\"#m9e58579559\" y=\"50.557284\"/>\r\n",
       "     <use style=\"fill:#ff0000;stroke:#ff0000;\" x=\"126.004392\" xlink:href=\"#m9e58579559\" y=\"203.03903\"/>\r\n",
       "     <use style=\"fill:#ff0000;stroke:#ff0000;\" x=\"225.361277\" xlink:href=\"#m9e58579559\" y=\"105.994635\"/>\r\n",
       "     <use style=\"fill:#ff0000;stroke:#ff0000;\" x=\"179.355945\" xlink:href=\"#m9e58579559\" y=\"121.976427\"/>\r\n",
       "     <use style=\"fill:#ff0000;stroke:#ff0000;\" x=\"173.654623\" xlink:href=\"#m9e58579559\" y=\"105.214613\"/>\r\n",
       "     <use style=\"fill:#ff0000;stroke:#ff0000;\" x=\"244.590402\" xlink:href=\"#m9e58579559\" y=\"110.858621\"/>\r\n",
       "     <use style=\"fill:#ff0000;stroke:#ff0000;\" x=\"152.655785\" xlink:href=\"#m9e58579559\" y=\"105.443155\"/>\r\n",
       "     <use style=\"fill:#ff0000;stroke:#ff0000;\" x=\"165.531213\" xlink:href=\"#m9e58579559\" y=\"156.883992\"/>\r\n",
       "     <use style=\"fill:#ff0000;stroke:#ff0000;\" x=\"160.371619\" xlink:href=\"#m9e58579559\" y=\"171.315071\"/>\r\n",
       "     <use style=\"fill:#ff0000;stroke:#ff0000;\" x=\"270.372752\" xlink:href=\"#m9e58579559\" y=\"88.670269\"/>\r\n",
       "     <use style=\"fill:#ff0000;stroke:#ff0000;\" x=\"248.248561\" xlink:href=\"#m9e58579559\" y=\"87.514091\"/>\r\n",
       "     <use style=\"fill:#ff0000;stroke:#ff0000;\" x=\"218.968729\" xlink:href=\"#m9e58579559\" y=\"90.097726\"/>\r\n",
       "     <use style=\"fill:#ff0000;stroke:#ff0000;\" x=\"290.984607\" xlink:href=\"#m9e58579559\" y=\"32.386104\"/>\r\n",
       "     <use style=\"fill:#ff0000;stroke:#ff0000;\" x=\"52.108882\" xlink:href=\"#m9e58579559\" y=\"218.001682\"/>\r\n",
       "     <use style=\"fill:#ff0000;stroke:#ff0000;\" x=\"121.350103\" xlink:href=\"#m9e58579559\" y=\"180.338173\"/>\r\n",
       "     <use style=\"fill:#ff0000;stroke:#ff0000;\" x=\"105.832618\" xlink:href=\"#m9e58579559\" y=\"180.662918\"/>\r\n",
       "     <use style=\"fill:#ff0000;stroke:#ff0000;\" x=\"109.731911\" xlink:href=\"#m9e58579559\" y=\"205.895475\"/>\r\n",
       "     <use style=\"fill:#ff0000;stroke:#ff0000;\" x=\"212.010341\" xlink:href=\"#m9e58579559\" y=\"105.130979\"/>\r\n",
       "     <use style=\"fill:#ff0000;stroke:#ff0000;\" x=\"274.497743\" xlink:href=\"#m9e58579559\" y=\"78.907118\"/>\r\n",
       "     <use style=\"fill:#ff0000;stroke:#ff0000;\" x=\"153.547701\" xlink:href=\"#m9e58579559\" y=\"100.768263\"/>\r\n",
       "     <use style=\"fill:#ff0000;stroke:#ff0000;\" x=\"126.170166\" xlink:href=\"#m9e58579559\" y=\"186.179249\"/>\r\n",
       "     <use style=\"fill:#ff0000;stroke:#ff0000;\" x=\"149.656036\" xlink:href=\"#m9e58579559\" y=\"154.087131\"/>\r\n",
       "     <use style=\"fill:#ff0000;stroke:#ff0000;\" x=\"115.615299\" xlink:href=\"#m9e58579559\" y=\"153.929854\"/>\r\n",
       "     <use style=\"fill:#ff0000;stroke:#ff0000;\" x=\"184.295206\" xlink:href=\"#m9e58579559\" y=\"127.240879\"/>\r\n",
       "     <use style=\"fill:#ff0000;stroke:#ff0000;\" x=\"240.355505\" xlink:href=\"#m9e58579559\" y=\"91.513462\"/>\r\n",
       "     <use style=\"fill:#ff0000;stroke:#ff0000;\" x=\"210.732383\" xlink:href=\"#m9e58579559\" y=\"137.227282\"/>\r\n",
       "     <use style=\"fill:#ff0000;stroke:#ff0000;\" x=\"132.52642\" xlink:href=\"#m9e58579559\" y=\"158.318225\"/>\r\n",
       "     <use style=\"fill:#ff0000;stroke:#ff0000;\" x=\"199.42913\" xlink:href=\"#m9e58579559\" y=\"164.056372\"/>\r\n",
       "     <use style=\"fill:#ff0000;stroke:#ff0000;\" x=\"193.255113\" xlink:href=\"#m9e58579559\" y=\"90.388988\"/>\r\n",
       "     <use style=\"fill:#ff0000;stroke:#ff0000;\" x=\"209.164083\" xlink:href=\"#m9e58579559\" y=\"113.073935\"/>\r\n",
       "     <use style=\"fill:#ff0000;stroke:#ff0000;\" x=\"262.606482\" xlink:href=\"#m9e58579559\" y=\"117.152179\"/>\r\n",
       "     <use style=\"fill:#ff0000;stroke:#ff0000;\" x=\"265.471098\" xlink:href=\"#m9e58579559\" y=\"79.867293\"/>\r\n",
       "     <use style=\"fill:#ff0000;stroke:#ff0000;\" x=\"232.98824\" xlink:href=\"#m9e58579559\" y=\"82.739011\"/>\r\n",
       "     <use style=\"fill:#ff0000;stroke:#ff0000;\" x=\"109.749894\" xlink:href=\"#m9e58579559\" y=\"152.127857\"/>\r\n",
       "     <use style=\"fill:#ff0000;stroke:#ff0000;\" x=\"181.081857\" xlink:href=\"#m9e58579559\" y=\"137.006686\"/>\r\n",
       "     <use style=\"fill:#ff0000;stroke:#ff0000;\" x=\"325.195687\" xlink:href=\"#m9e58579559\" y=\"45.796722\"/>\r\n",
       "     <use style=\"fill:#ff0000;stroke:#ff0000;\" x=\"143.65027\" xlink:href=\"#m9e58579559\" y=\"108.8335\"/>\r\n",
       "     <use style=\"fill:#ff0000;stroke:#ff0000;\" x=\"183.223297\" xlink:href=\"#m9e58579559\" y=\"115.435742\"/>\r\n",
       "     <use style=\"fill:#ff0000;stroke:#ff0000;\" x=\"187.69865\" xlink:href=\"#m9e58579559\" y=\"158.465761\"/>\r\n",
       "     <use style=\"fill:#ff0000;stroke:#ff0000;\" x=\"133.83891\" xlink:href=\"#m9e58579559\" y=\"186.513302\"/>\r\n",
       "     <use style=\"fill:#ff0000;stroke:#ff0000;\" x=\"208.750223\" xlink:href=\"#m9e58579559\" y=\"105.359233\"/>\r\n",
       "     <use style=\"fill:#ff0000;stroke:#ff0000;\" x=\"294.247178\" xlink:href=\"#m9e58579559\" y=\"53.036561\"/>\r\n",
       "     <use style=\"fill:#ff0000;stroke:#ff0000;\" x=\"275.126713\" xlink:href=\"#m9e58579559\" y=\"78.784722\"/>\r\n",
       "     <use style=\"fill:#ff0000;stroke:#ff0000;\" x=\"143.777966\" xlink:href=\"#m9e58579559\" y=\"158.747575\"/>\r\n",
       "     <use style=\"fill:#ff0000;stroke:#ff0000;\" x=\"185.426315\" xlink:href=\"#m9e58579559\" y=\"139.971305\"/>\r\n",
       "     <use style=\"fill:#ff0000;stroke:#ff0000;\" x=\"114.733613\" xlink:href=\"#m9e58579559\" y=\"176.471659\"/>\r\n",
       "     <use style=\"fill:#ff0000;stroke:#ff0000;\" x=\"179.449147\" xlink:href=\"#m9e58579559\" y=\"115.188916\"/>\r\n",
       "     <use style=\"fill:#ff0000;stroke:#ff0000;\" x=\"271.327142\" xlink:href=\"#m9e58579559\" y=\"83.984676\"/>\r\n",
       "     <use style=\"fill:#ff0000;stroke:#ff0000;\" x=\"59.441275\" xlink:href=\"#m9e58579559\" y=\"187.704589\"/>\r\n",
       "     <use style=\"fill:#ff0000;stroke:#ff0000;\" x=\"166.542762\" xlink:href=\"#m9e58579559\" y=\"159.042666\"/>\r\n",
       "     <use style=\"fill:#ff0000;stroke:#ff0000;\" x=\"304.800639\" xlink:href=\"#m9e58579559\" y=\"42.023219\"/>\r\n",
       "     <use style=\"fill:#ff0000;stroke:#ff0000;\" x=\"60.844383\" xlink:href=\"#m9e58579559\" y=\"176.541489\"/>\r\n",
       "     <use style=\"fill:#ff0000;stroke:#ff0000;\" x=\"192.292726\" xlink:href=\"#m9e58579559\" y=\"112.660947\"/>\r\n",
       "     <use style=\"fill:#ff0000;stroke:#ff0000;\" x=\"132.364685\" xlink:href=\"#m9e58579559\" y=\"159.258538\"/>\r\n",
       "     <use style=\"fill:#ff0000;stroke:#ff0000;\" x=\"260.310989\" xlink:href=\"#m9e58579559\" y=\"69.826087\"/>\r\n",
       "     <use style=\"fill:#ff0000;stroke:#ff0000;\" x=\"284.470394\" xlink:href=\"#m9e58579559\" y=\"73.707645\"/>\r\n",
       "     <use style=\"fill:#ff0000;stroke:#ff0000;\" x=\"284.496572\" xlink:href=\"#m9e58579559\" y=\"53.681961\"/>\r\n",
       "     <use style=\"fill:#ff0000;stroke:#ff0000;\" x=\"299.059385\" xlink:href=\"#m9e58579559\" y=\"81.903404\"/>\r\n",
       "     <use style=\"fill:#ff0000;stroke:#ff0000;\" x=\"162.211483\" xlink:href=\"#m9e58579559\" y=\"177.085708\"/>\r\n",
       "     <use style=\"fill:#ff0000;stroke:#ff0000;\" x=\"284.848907\" xlink:href=\"#m9e58579559\" y=\"39.836398\"/>\r\n",
       "     <use style=\"fill:#ff0000;stroke:#ff0000;\" x=\"340.975986\" xlink:href=\"#m9e58579559\" y=\"24.697794\"/>\r\n",
       "     <use style=\"fill:#ff0000;stroke:#ff0000;\" x=\"86.062274\" xlink:href=\"#m9e58579559\" y=\"181.429292\"/>\r\n",
       "     <use style=\"fill:#ff0000;stroke:#ff0000;\" x=\"232.096883\" xlink:href=\"#m9e58579559\" y=\"147.183236\"/>\r\n",
       "     <use style=\"fill:#ff0000;stroke:#ff0000;\" x=\"170.123515\" xlink:href=\"#m9e58579559\" y=\"146.833996\"/>\r\n",
       "     <use style=\"fill:#ff0000;stroke:#ff0000;\" x=\"256.785112\" xlink:href=\"#m9e58579559\" y=\"75.946678\"/>\r\n",
       "     <use style=\"fill:#ff0000;stroke:#ff0000;\" x=\"262.759201\" xlink:href=\"#m9e58579559\" y=\"105.933067\"/>\r\n",
       "     <use style=\"fill:#ff0000;stroke:#ff0000;\" x=\"212.419373\" xlink:href=\"#m9e58579559\" y=\"122.945177\"/>\r\n",
       "     <use style=\"fill:#ff0000;stroke:#ff0000;\" x=\"226.405671\" xlink:href=\"#m9e58579559\" y=\"113.138468\"/>\r\n",
       "     <use style=\"fill:#ff0000;stroke:#ff0000;\" x=\"236.116624\" xlink:href=\"#m9e58579559\" y=\"96.139346\"/>\r\n",
       "     <use style=\"fill:#ff0000;stroke:#ff0000;\" x=\"163.088359\" xlink:href=\"#m9e58579559\" y=\"164.242522\"/>\r\n",
       "     <use style=\"fill:#ff0000;stroke:#ff0000;\" x=\"355.341118\" xlink:href=\"#m9e58579559\" y=\"31.906488\"/>\r\n",
       "     <use style=\"fill:#ff0000;stroke:#ff0000;\" x=\"134.224289\" xlink:href=\"#m9e58579559\" y=\"166.766706\"/>\r\n",
       "     <use style=\"fill:#ff0000;stroke:#ff0000;\" x=\"242.16875\" xlink:href=\"#m9e58579559\" y=\"95.893007\"/>\r\n",
       "     <use style=\"fill:#ff0000;stroke:#ff0000;\" x=\"185.260068\" xlink:href=\"#m9e58579559\" y=\"105.982842\"/>\r\n",
       "     <use style=\"fill:#ff0000;stroke:#ff0000;\" x=\"74.145546\" xlink:href=\"#m9e58579559\" y=\"217.712886\"/>\r\n",
       "     <use style=\"fill:#ff0000;stroke:#ff0000;\" x=\"100.484152\" xlink:href=\"#m9e58579559\" y=\"127.728821\"/>\r\n",
       "     <use style=\"fill:#ff0000;stroke:#ff0000;\" x=\"218.743715\" xlink:href=\"#m9e58579559\" y=\"116.275826\"/>\r\n",
       "     <use style=\"fill:#ff0000;stroke:#ff0000;\" x=\"228.683529\" xlink:href=\"#m9e58579559\" y=\"85.353279\"/>\r\n",
       "     <use style=\"fill:#ff0000;stroke:#ff0000;\" x=\"151.579918\" xlink:href=\"#m9e58579559\" y=\"156.320664\"/>\r\n",
       "     <use style=\"fill:#ff0000;stroke:#ff0000;\" x=\"224.868668\" xlink:href=\"#m9e58579559\" y=\"112.293007\"/>\r\n",
       "     <use style=\"fill:#ff0000;stroke:#ff0000;\" x=\"206.196376\" xlink:href=\"#m9e58579559\" y=\"101.316051\"/>\r\n",
       "     <use style=\"fill:#ff0000;stroke:#ff0000;\" x=\"173.090058\" xlink:href=\"#m9e58579559\" y=\"136.085929\"/>\r\n",
       "     <use style=\"fill:#ff0000;stroke:#ff0000;\" x=\"240.897646\" xlink:href=\"#m9e58579559\" y=\"120.040253\"/>\r\n",
       "     <use style=\"fill:#ff0000;stroke:#ff0000;\" x=\"179.61062\" xlink:href=\"#m9e58579559\" y=\"154.259003\"/>\r\n",
       "     <use style=\"fill:#ff0000;stroke:#ff0000;\" x=\"218.829888\" xlink:href=\"#m9e58579559\" y=\"115.252072\"/>\r\n",
       "     <use style=\"fill:#ff0000;stroke:#ff0000;\" x=\"204.900169\" xlink:href=\"#m9e58579559\" y=\"142.284774\"/>\r\n",
       "     <use style=\"fill:#ff0000;stroke:#ff0000;\" x=\"152.818213\" xlink:href=\"#m9e58579559\" y=\"162.298665\"/>\r\n",
       "     <use style=\"fill:#ff0000;stroke:#ff0000;\" x=\"183.027976\" xlink:href=\"#m9e58579559\" y=\"128.644504\"/>\r\n",
       "     <use style=\"fill:#ff0000;stroke:#ff0000;\" x=\"98.602873\" xlink:href=\"#m9e58579559\" y=\"167.29413\"/>\r\n",
       "     <use style=\"fill:#ff0000;stroke:#ff0000;\" x=\"288.259986\" xlink:href=\"#m9e58579559\" y=\"55.607516\"/>\r\n",
       "     <use style=\"fill:#ff0000;stroke:#ff0000;\" x=\"199.600638\" xlink:href=\"#m9e58579559\" y=\"120.238187\"/>\r\n",
       "     <use style=\"fill:#ff0000;stroke:#ff0000;\" x=\"235.489319\" xlink:href=\"#m9e58579559\" y=\"127.734762\"/>\r\n",
       "     <use style=\"fill:#ff0000;stroke:#ff0000;\" x=\"107.870542\" xlink:href=\"#m9e58579559\" y=\"184.251677\"/>\r\n",
       "     <use style=\"fill:#ff0000;stroke:#ff0000;\" x=\"73.925812\" xlink:href=\"#m9e58579559\" y=\"164.672695\"/>\r\n",
       "     <use style=\"fill:#ff0000;stroke:#ff0000;\" x=\"264.367262\" xlink:href=\"#m9e58579559\" y=\"80.506551\"/>\r\n",
       "     <use style=\"fill:#ff0000;stroke:#ff0000;\" x=\"203.178124\" xlink:href=\"#m9e58579559\" y=\"113.696353\"/>\r\n",
       "     <use style=\"fill:#ff0000;stroke:#ff0000;\" x=\"240.475336\" xlink:href=\"#m9e58579559\" y=\"70.149806\"/>\r\n",
       "     <use style=\"fill:#ff0000;stroke:#ff0000;\" x=\"199.270693\" xlink:href=\"#m9e58579559\" y=\"122.952403\"/>\r\n",
       "     <use style=\"fill:#ff0000;stroke:#ff0000;\" x=\"169.841506\" xlink:href=\"#m9e58579559\" y=\"130.809308\"/>\r\n",
       "     <use style=\"fill:#ff0000;stroke:#ff0000;\" x=\"103.649397\" xlink:href=\"#m9e58579559\" y=\"180.266606\"/>\r\n",
       "     <use style=\"fill:#ff0000;stroke:#ff0000;\" x=\"237.884348\" xlink:href=\"#m9e58579559\" y=\"73.959696\"/>\r\n",
       "    </g>\r\n",
       "   </g>\r\n",
       "   <g id=\"matplotlib.axis_1\">\r\n",
       "    <g id=\"xtick_1\">\r\n",
       "     <g id=\"line2d_1\">\r\n",
       "      <defs>\r\n",
       "       <path d=\"M 0 0 \r\n",
       "L 0 3.5 \r\n",
       "\" id=\"m015e3fafdf\" style=\"stroke:#000000;stroke-width:0.8;\"/>\r\n",
       "      </defs>\r\n",
       "      <g>\r\n",
       "       <use style=\"stroke:#000000;stroke-width:0.8;\" x=\"81.784652\" xlink:href=\"#m015e3fafdf\" y=\"228.14\"/>\r\n",
       "      </g>\r\n",
       "     </g>\r\n",
       "     <g id=\"text_1\">\r\n",
       "      <!-- -2 -->\r\n",
       "      <defs>\r\n",
       "       <path d=\"M 46.484375 33.203125 \r\n",
       "L 1.953125 33.203125 \r\n",
       "L 1.953125 39.453125 \r\n",
       "L 46.484375 39.453125 \r\n",
       "z\r\n",
       "\" id=\"SimHei-2d\"/>\r\n",
       "       <path d=\"M 4.6875 3.90625 \r\n",
       "Q 5.078125 9.765625 10.15625 14.453125 \r\n",
       "Q 15.234375 19.140625 23.046875 29.09375 \r\n",
       "Q 30.859375 39.0625 33.203125 44.53125 \r\n",
       "Q 35.546875 50 34.953125 53.90625 \r\n",
       "Q 34.375 57.8125 31.25 60.34375 \r\n",
       "Q 28.125 62.890625 24.015625 62.5 \r\n",
       "Q 19.921875 62.109375 16.203125 59.375 \r\n",
       "Q 12.5 56.640625 10.546875 51.171875 \r\n",
       "L 3.125 52.34375 \r\n",
       "Q 6.25 61.328125 11.125 65.421875 \r\n",
       "Q 16.015625 69.53125 22.65625 69.921875 \r\n",
       "Q 26.5625 70.3125 29.6875 69.71875 \r\n",
       "Q 32.8125 69.140625 36.125 66.984375 \r\n",
       "Q 39.453125 64.84375 41.59375 60.546875 \r\n",
       "Q 43.75 56.25 43.15625 50.1875 \r\n",
       "Q 42.578125 44.140625 37.109375 35.734375 \r\n",
       "Q 31.640625 27.34375 16.015625 9.375 \r\n",
       "L 44.140625 9.375 \r\n",
       "L 44.140625 2.34375 \r\n",
       "L 4.6875 2.34375 \r\n",
       "z\r\n",
       "\" id=\"SimHei-32\"/>\r\n",
       "      </defs>\r\n",
       "      <g transform=\"translate(76.784652 242.015)scale(0.1 -0.1)\">\r\n",
       "       <use xlink:href=\"#SimHei-2d\"/>\r\n",
       "       <use x=\"50\" xlink:href=\"#SimHei-32\"/>\r\n",
       "      </g>\r\n",
       "     </g>\r\n",
       "    </g>\r\n",
       "    <g id=\"xtick_2\">\r\n",
       "     <g id=\"line2d_2\">\r\n",
       "      <g>\r\n",
       "       <use style=\"stroke:#000000;stroke-width:0.8;\" x=\"144.916748\" xlink:href=\"#m015e3fafdf\" y=\"228.14\"/>\r\n",
       "      </g>\r\n",
       "     </g>\r\n",
       "     <g id=\"text_2\">\r\n",
       "      <!-- -1 -->\r\n",
       "      <defs>\r\n",
       "       <path d=\"M 21.875 56.25 \r\n",
       "Q 16.796875 51.171875 8.984375 46.484375 \r\n",
       "L 8.984375 53.90625 \r\n",
       "Q 18.75 60.546875 25 69.53125 \r\n",
       "L 29.6875 69.53125 \r\n",
       "L 29.6875 2.34375 \r\n",
       "L 21.875 2.34375 \r\n",
       "z\r\n",
       "\" id=\"SimHei-31\"/>\r\n",
       "      </defs>\r\n",
       "      <g transform=\"translate(139.916748 242.015)scale(0.1 -0.1)\">\r\n",
       "       <use xlink:href=\"#SimHei-2d\"/>\r\n",
       "       <use x=\"50\" xlink:href=\"#SimHei-31\"/>\r\n",
       "      </g>\r\n",
       "     </g>\r\n",
       "    </g>\r\n",
       "    <g id=\"xtick_3\">\r\n",
       "     <g id=\"line2d_3\">\r\n",
       "      <g>\r\n",
       "       <use style=\"stroke:#000000;stroke-width:0.8;\" x=\"208.048844\" xlink:href=\"#m015e3fafdf\" y=\"228.14\"/>\r\n",
       "      </g>\r\n",
       "     </g>\r\n",
       "     <g id=\"text_3\">\r\n",
       "      <!-- 0 -->\r\n",
       "      <defs>\r\n",
       "       <path d=\"M 3.125 29.296875 \r\n",
       "Q 3.90625 50 6.4375 56.046875 \r\n",
       "Q 8.984375 62.109375 13.671875 66.015625 \r\n",
       "Q 18.359375 69.921875 25.1875 69.921875 \r\n",
       "Q 32.03125 69.921875 37.109375 64.25 \r\n",
       "Q 42.1875 58.59375 43.75 50 \r\n",
       "Q 45.3125 41.40625 44.71875 30.265625 \r\n",
       "Q 44.140625 19.140625 40.8125 12.109375 \r\n",
       "Q 37.5 5.078125 30.859375 2.34375 \r\n",
       "Q 24.21875 -0.390625 17.578125 2.921875 \r\n",
       "Q 10.9375 6.25 8.203125 11.71875 \r\n",
       "Q 5.46875 17.1875 4.296875 23.234375 \r\n",
       "Q 3.125 29.296875 3.90625 50 \r\n",
       "z\r\n",
       "M 12.890625 52.734375 \r\n",
       "Q 10.546875 31.25 12.5 22.84375 \r\n",
       "Q 14.453125 14.453125 18.9375 10.9375 \r\n",
       "Q 23.4375 7.421875 28.125 9.5625 \r\n",
       "Q 32.8125 11.71875 34.953125 18.15625 \r\n",
       "Q 37.109375 24.609375 37.109375 32.21875 \r\n",
       "Q 37.109375 39.84375 36.515625 46.09375 \r\n",
       "Q 35.9375 52.34375 33 57.421875 \r\n",
       "Q 30.078125 62.5 25.1875 62.6875 \r\n",
       "Q 20.3125 62.890625 16.59375 57.8125 \r\n",
       "Q 12.890625 52.734375 10.546875 31.25 \r\n",
       "z\r\n",
       "\" id=\"SimHei-30\"/>\r\n",
       "      </defs>\r\n",
       "      <g transform=\"translate(205.548844 242.015)scale(0.1 -0.1)\">\r\n",
       "       <use xlink:href=\"#SimHei-30\"/>\r\n",
       "      </g>\r\n",
       "     </g>\r\n",
       "    </g>\r\n",
       "    <g id=\"xtick_4\">\r\n",
       "     <g id=\"line2d_4\">\r\n",
       "      <g>\r\n",
       "       <use style=\"stroke:#000000;stroke-width:0.8;\" x=\"271.18094\" xlink:href=\"#m015e3fafdf\" y=\"228.14\"/>\r\n",
       "      </g>\r\n",
       "     </g>\r\n",
       "     <g id=\"text_4\">\r\n",
       "      <!-- 1 -->\r\n",
       "      <g transform=\"translate(268.68094 242.015)scale(0.1 -0.1)\">\r\n",
       "       <use xlink:href=\"#SimHei-31\"/>\r\n",
       "      </g>\r\n",
       "     </g>\r\n",
       "    </g>\r\n",
       "    <g id=\"xtick_5\">\r\n",
       "     <g id=\"line2d_5\">\r\n",
       "      <g>\r\n",
       "       <use style=\"stroke:#000000;stroke-width:0.8;\" x=\"334.313036\" xlink:href=\"#m015e3fafdf\" y=\"228.14\"/>\r\n",
       "      </g>\r\n",
       "     </g>\r\n",
       "     <g id=\"text_5\">\r\n",
       "      <!-- 2 -->\r\n",
       "      <g transform=\"translate(331.813036 242.015)scale(0.1 -0.1)\">\r\n",
       "       <use xlink:href=\"#SimHei-32\"/>\r\n",
       "      </g>\r\n",
       "     </g>\r\n",
       "    </g>\r\n",
       "    <g id=\"text_6\">\r\n",
       "     <!-- x -->\r\n",
       "     <defs>\r\n",
       "      <path d=\"M 44.921875 1.953125 \r\n",
       "L 35.546875 1.953125 \r\n",
       "L 24.21875 18.75 \r\n",
       "L 12.890625 1.953125 \r\n",
       "L 3.515625 1.953125 \r\n",
       "L 19.53125 24.21875 \r\n",
       "L 4.6875 45.703125 \r\n",
       "L 14.0625 45.703125 \r\n",
       "L 24.21875 29.296875 \r\n",
       "L 34.375 45.703125 \r\n",
       "L 43.75 45.703125 \r\n",
       "L 28.90625 24.21875 \r\n",
       "z\r\n",
       "\" id=\"SimHei-78\"/>\r\n",
       "     </defs>\r\n",
       "     <g transform=\"translate(201.225 254.14)scale(0.1 -0.1)\">\r\n",
       "      <use xlink:href=\"#SimHei-78\"/>\r\n",
       "     </g>\r\n",
       "    </g>\r\n",
       "   </g>\r\n",
       "   <g id=\"matplotlib.axis_2\">\r\n",
       "    <g id=\"ytick_1\">\r\n",
       "     <g id=\"line2d_6\">\r\n",
       "      <defs>\r\n",
       "       <path d=\"M 0 0 \r\n",
       "L -3.5 0 \r\n",
       "\" id=\"m3293828470\" style=\"stroke:#000000;stroke-width:0.8;\"/>\r\n",
       "      </defs>\r\n",
       "      <g>\r\n",
       "       <use style=\"stroke:#000000;stroke-width:0.8;\" x=\"36.325\" xlink:href=\"#m3293828470\" y=\"226.694348\"/>\r\n",
       "      </g>\r\n",
       "     </g>\r\n",
       "     <g id=\"text_7\">\r\n",
       "      <!-- -6 -->\r\n",
       "      <defs>\r\n",
       "       <path d=\"M 3.515625 19.53125 \r\n",
       "Q 4.296875 30.859375 6.046875 34.765625 \r\n",
       "Q 7.8125 38.671875 11.328125 44.53125 \r\n",
       "L 27.34375 69.53125 \r\n",
       "L 36.328125 69.53125 \r\n",
       "L 19.921875 43.75 \r\n",
       "Q 30.46875 46.484375 36.71875 42.96875 \r\n",
       "Q 42.96875 39.453125 45.109375 34.953125 \r\n",
       "Q 47.265625 30.46875 47.453125 25.1875 \r\n",
       "Q 47.65625 19.921875 45.890625 14.84375 \r\n",
       "Q 44.140625 9.765625 39.640625 5.65625 \r\n",
       "Q 35.15625 1.5625 27.140625 1.171875 \r\n",
       "Q 19.140625 0.78125 13.46875 4.09375 \r\n",
       "Q 7.8125 7.421875 5.65625 13.46875 \r\n",
       "Q 3.515625 19.53125 4.296875 30.859375 \r\n",
       "z\r\n",
       "M 12.5 16.015625 \r\n",
       "Q 19.53125 8.59375 25.390625 8.203125 \r\n",
       "Q 31.25 7.8125 35.15625 12.109375 \r\n",
       "Q 39.0625 16.40625 39.0625 24.609375 \r\n",
       "Q 39.0625 32.8125 34.171875 35.9375 \r\n",
       "Q 29.296875 39.0625 23.234375 38.28125 \r\n",
       "Q 17.1875 37.5 14.453125 32.421875 \r\n",
       "Q 11.71875 27.34375 12.109375 21.671875 \r\n",
       "Q 12.5 16.015625 19.53125 8.59375 \r\n",
       "z\r\n",
       "\" id=\"SimHei-36\"/>\r\n",
       "      </defs>\r\n",
       "      <g transform=\"translate(19.325 230.131848)scale(0.1 -0.1)\">\r\n",
       "       <use xlink:href=\"#SimHei-2d\"/>\r\n",
       "       <use x=\"50\" xlink:href=\"#SimHei-36\"/>\r\n",
       "      </g>\r\n",
       "     </g>\r\n",
       "    </g>\r\n",
       "    <g id=\"ytick_2\">\r\n",
       "     <g id=\"line2d_7\">\r\n",
       "      <g>\r\n",
       "       <use style=\"stroke:#000000;stroke-width:0.8;\" x=\"36.325\" xlink:href=\"#m3293828470\" y=\"189.775645\"/>\r\n",
       "      </g>\r\n",
       "     </g>\r\n",
       "     <g id=\"text_8\">\r\n",
       "      <!-- -4 -->\r\n",
       "      <defs>\r\n",
       "       <path d=\"M 31.25 17.1875 \r\n",
       "L 1.171875 17.1875 \r\n",
       "L 1.171875 23.828125 \r\n",
       "L 32.8125 69.53125 \r\n",
       "L 38.671875 69.53125 \r\n",
       "L 38.671875 23.828125 \r\n",
       "L 48.046875 23.828125 \r\n",
       "L 48.046875 17.1875 \r\n",
       "L 38.671875 17.1875 \r\n",
       "L 38.671875 2.34375 \r\n",
       "L 31.25 2.34375 \r\n",
       "z\r\n",
       "M 31.25 23.828125 \r\n",
       "L 31.25 54.6875 \r\n",
       "L 9.375 23.828125 \r\n",
       "z\r\n",
       "\" id=\"SimHei-34\"/>\r\n",
       "      </defs>\r\n",
       "      <g transform=\"translate(19.325 193.213145)scale(0.1 -0.1)\">\r\n",
       "       <use xlink:href=\"#SimHei-2d\"/>\r\n",
       "       <use x=\"50\" xlink:href=\"#SimHei-34\"/>\r\n",
       "      </g>\r\n",
       "     </g>\r\n",
       "    </g>\r\n",
       "    <g id=\"ytick_3\">\r\n",
       "     <g id=\"line2d_8\">\r\n",
       "      <g>\r\n",
       "       <use style=\"stroke:#000000;stroke-width:0.8;\" x=\"36.325\" xlink:href=\"#m3293828470\" y=\"152.856942\"/>\r\n",
       "      </g>\r\n",
       "     </g>\r\n",
       "     <g id=\"text_9\">\r\n",
       "      <!-- -2 -->\r\n",
       "      <g transform=\"translate(19.325 156.294442)scale(0.1 -0.1)\">\r\n",
       "       <use xlink:href=\"#SimHei-2d\"/>\r\n",
       "       <use x=\"50\" xlink:href=\"#SimHei-32\"/>\r\n",
       "      </g>\r\n",
       "     </g>\r\n",
       "    </g>\r\n",
       "    <g id=\"ytick_4\">\r\n",
       "     <g id=\"line2d_9\">\r\n",
       "      <g>\r\n",
       "       <use style=\"stroke:#000000;stroke-width:0.8;\" x=\"36.325\" xlink:href=\"#m3293828470\" y=\"115.93824\"/>\r\n",
       "      </g>\r\n",
       "     </g>\r\n",
       "     <g id=\"text_10\">\r\n",
       "      <!-- 0 -->\r\n",
       "      <g transform=\"translate(24.325 119.37574)scale(0.1 -0.1)\">\r\n",
       "       <use xlink:href=\"#SimHei-30\"/>\r\n",
       "      </g>\r\n",
       "     </g>\r\n",
       "    </g>\r\n",
       "    <g id=\"ytick_5\">\r\n",
       "     <g id=\"line2d_10\">\r\n",
       "      <g>\r\n",
       "       <use style=\"stroke:#000000;stroke-width:0.8;\" x=\"36.325\" xlink:href=\"#m3293828470\" y=\"79.019537\"/>\r\n",
       "      </g>\r\n",
       "     </g>\r\n",
       "     <g id=\"text_11\">\r\n",
       "      <!-- 2 -->\r\n",
       "      <g transform=\"translate(24.325 82.457037)scale(0.1 -0.1)\">\r\n",
       "       <use xlink:href=\"#SimHei-32\"/>\r\n",
       "      </g>\r\n",
       "     </g>\r\n",
       "    </g>\r\n",
       "    <g id=\"ytick_6\">\r\n",
       "     <g id=\"line2d_11\">\r\n",
       "      <g>\r\n",
       "       <use style=\"stroke:#000000;stroke-width:0.8;\" x=\"36.325\" xlink:href=\"#m3293828470\" y=\"42.100834\"/>\r\n",
       "      </g>\r\n",
       "     </g>\r\n",
       "     <g id=\"text_12\">\r\n",
       "      <!-- 4 -->\r\n",
       "      <g transform=\"translate(24.325 45.538334)scale(0.1 -0.1)\">\r\n",
       "       <use xlink:href=\"#SimHei-34\"/>\r\n",
       "      </g>\r\n",
       "     </g>\r\n",
       "    </g>\r\n",
       "    <g id=\"text_13\">\r\n",
       "     <!-- y -->\r\n",
       "     <defs>\r\n",
       "      <path d=\"M 45.3125 45.703125 \r\n",
       "L 27.34375 -1.5625 \r\n",
       "Q 25.78125 -7.03125 22.65625 -9.765625 \r\n",
       "Q 19.53125 -12.5 14.84375 -12.5 \r\n",
       "Q 12.890625 -12.5 11.125 -12.296875 \r\n",
       "Q 9.375 -12.109375 7.8125 -11.328125 \r\n",
       "L 7.8125 -3.515625 \r\n",
       "Q 9.375 -4.296875 10.9375 -4.6875 \r\n",
       "Q 12.5 -5.078125 13.671875 -5.078125 \r\n",
       "Q 16.796875 -5.078125 17.96875 -4.09375 \r\n",
       "Q 19.140625 -3.125 20.3125 0.390625 \r\n",
       "L 3.125 45.703125 \r\n",
       "L 11.71875 45.703125 \r\n",
       "L 24.21875 11.328125 \r\n",
       "L 24.609375 11.328125 \r\n",
       "L 36.71875 45.703125 \r\n",
       "z\r\n",
       "\" id=\"SimHei-79\"/>\r\n",
       "     </defs>\r\n",
       "     <g transform=\"translate(14.075 121.92)rotate(-90)scale(0.1 -0.1)\">\r\n",
       "      <use xlink:href=\"#SimHei-79\"/>\r\n",
       "     </g>\r\n",
       "    </g>\r\n",
       "   </g>\r\n",
       "   <g id=\"patch_3\">\r\n",
       "    <path d=\"M 36.325 228.14 \r\n",
       "L 36.325 10.7 \r\n",
       "\" style=\"fill:none;stroke:#000000;stroke-linecap:square;stroke-linejoin:miter;stroke-width:0.8;\"/>\r\n",
       "   </g>\r\n",
       "   <g id=\"patch_4\">\r\n",
       "    <path d=\"M 371.125 228.14 \r\n",
       "L 371.125 10.7 \r\n",
       "\" style=\"fill:none;stroke:#000000;stroke-linecap:square;stroke-linejoin:miter;stroke-width:0.8;\"/>\r\n",
       "   </g>\r\n",
       "   <g id=\"patch_5\">\r\n",
       "    <path d=\"M 36.325 228.14 \r\n",
       "L 371.125 228.14 \r\n",
       "\" style=\"fill:none;stroke:#000000;stroke-linecap:square;stroke-linejoin:miter;stroke-width:0.8;\"/>\r\n",
       "   </g>\r\n",
       "   <g id=\"patch_6\">\r\n",
       "    <path d=\"M 36.325 10.7 \r\n",
       "L 371.125 10.7 \r\n",
       "\" style=\"fill:none;stroke:#000000;stroke-linecap:square;stroke-linejoin:miter;stroke-width:0.8;\"/>\r\n",
       "   </g>\r\n",
       "  </g>\r\n",
       " </g>\r\n",
       " <defs>\r\n",
       "  <clipPath id=\"p72bad3ec18\">\r\n",
       "   <rect height=\"217.44\" width=\"334.8\" x=\"36.325\" y=\"10.7\"/>\r\n",
       "  </clipPath>\r\n",
       " </defs>\r\n",
       "</svg>\r\n"
      ],
      "text/plain": [
       "<Figure size 432x288 with 1 Axes>"
      ]
     },
     "metadata": {},
     "output_type": "display_data"
    }
   ],
   "source": [
    "x,e = np.random.normal(size=(2,200)) #来自N(0,1)的200个随机样本\n",
    "y = 2*x+e\n",
    "plt.scatter(x, y, color='red')\n",
    "plt.xlabel('x')\n",
    "plt.ylabel('y')\n",
    "plt.show()"
   ]
  },
  {
   "cell_type": "code",
   "execution_count": 73,
   "metadata": {},
   "outputs": [],
   "source": [
    "%config InlineBackend.figure_format='png'"
   ]
  },
  {
   "cell_type": "markdown",
   "metadata": {},
   "source": [
    "#### 图形的风格（Style）\n",
    "\n",
    "- 查看所有风格：`print(plt.style.available)`\n",
    "- ggplot风格：`plt.style.use('ggplot')`\n",
    "- 不改变全局的风格，可以使用 context 将风格改变限制在某一个代码块内：`with plt.style.context(('dark_background')):`。代码要缩进(Indent)。\n",
    "- 还可以自定义风格文件。自定义文件需要放在 matplotlib 的配置文件夹 mpl_configdir 的子文件夹 mpl_configdir/stylelib/ 下，以 .mplstyle 结尾。目录可用`matplotlib.get_configdir()`查看。\n",
    "\n",
    "ggplot风格的一个例子\n",
    "\n",
    "来自：https://matplotlib.org/examples/style_sheets/plot_ggplot.html"
   ]
  },
  {
   "cell_type": "code",
   "execution_count": 74,
   "metadata": {},
   "outputs": [
    {
     "data": {
      "image/png": "[encoded data removed]",
      "text/plain": [
       "<Figure size 720x432 with 4 Axes>"
      ]
     },
     "metadata": {},
     "output_type": "display_data"
    }
   ],
   "source": [
    "with plt.style.context(('ggplot')):\n",
    "    \n",
    "    fig, axes = plt.subplots(ncols=2, nrows=2,figsize=(10,6))\n",
    "    ax1, ax2, ax3, ax4 = axes.ravel() #四个子图坐标轴赋予四个对象\n",
    "\n",
    "    # scatter plot (Note: `plt.scatter` doesn't use default colors)\n",
    "    x, e = np.random.normal(size=(2, 200)) #来自N(0,1)的200个随机样本\n",
    "    y = 2*x + e\n",
    "    ax1.plot(x, y, 'o')\n",
    "\n",
    "    # sinusoidal lines with colors from default color cycle\n",
    "    L = 2*np.pi\n",
    "    x = np.linspace(0, L)\n",
    "    ncolors = len(plt.rcParams['axes.prop_cycle']) #获取颜色字典\n",
    "    shift = np.linspace(0, L, ncolors, endpoint=False)\n",
    "    for s in shift:\n",
    "        ax2.plot(x, np.sin(x + s), '-')\n",
    "    ax2.margins(0)\n",
    "\n",
    "    # bar graphs\n",
    "    x = np.arange(5)\n",
    "    y1, y2 = np.random.randint(1, 25, size=(2, 5))\n",
    "    width = 0.25\n",
    "    ax3.bar(x, y1, width)\n",
    "    ax3.bar(x + width, y2, width,\n",
    "            color=list(plt.rcParams['axes.prop_cycle'])[2]['color'])\n",
    "    ax3.set_xticks(x + width)\n",
    "    ax3.set_xticklabels(['a', 'b', 'c', 'd', 'e'])\n",
    "\n",
    "    # circles with colors from default color cycle\n",
    "    for i, color in enumerate(plt.rcParams['axes.prop_cycle']):\n",
    "        xy = np.random.normal(size=2)\n",
    "        ax4.add_patch(plt.Circle(xy, radius=0.3, color=color['color']))\n",
    "    ax4.axis('equal')\n",
    "    ax4.margins(0)\n",
    "plt.show()"
   ]
  },
  {
   "cell_type": "code",
   "execution_count": 75,
   "metadata": {},
   "outputs": [
    {
     "name": "stdout",
     "output_type": "stream",
     "text": [
      "['bmh', 'classic', 'dark_background', 'fast', 'fivethirtyeight', 'ggplot', 'grayscale', 'seaborn-bright', 'seaborn-colorblind', 'seaborn-dark-palette', 'seaborn-dark', 'seaborn-darkgrid', 'seaborn-deep', 'seaborn-muted', 'seaborn-notebook', 'seaborn-paper', 'seaborn-pastel', 'seaborn-poster', 'seaborn-talk', 'seaborn-ticks', 'seaborn-white', 'seaborn-whitegrid', 'seaborn', 'Solarize_Light2', 'tableau-colorblind10', '_classic_test']\n"
     ]
    }
   ],
   "source": [
    "print(plt.style.available)"
   ]
  },
  {
   "cell_type": "markdown",
   "metadata": {},
   "source": [
    "### Seaborn：超好的统计作图工具\n",
    "\n",
    "**Seaborn** is a library for making statistical graphics in Python. It is built on top of `matplotlib` and closely integrated with `pandas` data structures.\n",
    "\n",
    "Here is some of the functionality that seaborn offers:\n",
    "\n",
    "- A dataset-oriented API for examining relationships between multiple variables\n",
    "- Specialized support for using categorical variables to show observations or aggregate statistics\n",
    "- Options for visualizing univariate or bivariate distributions and for comparing them between subsets of data\n",
    "- Automatic estimation and plotting of linear regression models for different kinds dependent variables\n",
    "- Convenient views onto the overall structure of complex datasets\n",
    "- High-level abstractions for structuring multi-plot grids that let you easily build complex visualizations\n",
    "- Concise control over matplotlib figure styling with several built-in themes\n",
    "- Tools for choosing color palettes that faithfully reveal patterns in your data\n",
    "\n",
    "Seaborn *aims* to make visualization a central part of exploring and understanding data. Its dataset-oriented plotting functions operate on dataframes and arrays containing whole datasets and internally perform the necessary semantic mapping and statistical aggregation to produce informative plots.\n",
    "\n",
    "`Size` will change the height, while maintaining the `aspect` ratio (so it will also also get wider if only size is changed.\n",
    "\n",
    "seaborn: statistical data visualization: http://seaborn.pydata.org/"
   ]
  },
  {
   "cell_type": "code",
   "execution_count": 76,
   "metadata": {},
   "outputs": [],
   "source": [
    "import seaborn as sns # 注意:一旦导入了seaborn，matplotlib的默认作图风格就会被覆盖成seaborn的格式"
   ]
  },
  {
   "cell_type": "code",
   "execution_count": 77,
   "metadata": {},
   "outputs": [
    {
     "data": {
      "text/html": [
       "<div>\n",
       "<style scoped>\n",
       "    .dataframe tbody tr th:only-of-type {\n",
       "        vertical-align: middle;\n",
       "    }\n",
       "\n",
       "    .dataframe tbody tr th {\n",
       "        vertical-align: top;\n",
       "    }\n",
       "\n",
       "    .dataframe thead th {\n",
       "        text-align: right;\n",
       "    }\n",
       "</style>\n",
       "<table border=\"1\" class=\"dataframe\">\n",
       "  <thead>\n",
       "    <tr style=\"text-align: right;\">\n",
       "      <th></th>\n",
       "      <th>total_bill</th>\n",
       "      <th>tip</th>\n",
       "      <th>sex</th>\n",
       "      <th>smoker</th>\n",
       "      <th>day</th>\n",
       "      <th>time</th>\n",
       "      <th>size</th>\n",
       "    </tr>\n",
       "  </thead>\n",
       "  <tbody>\n",
       "    <tr>\n",
       "      <th>0</th>\n",
       "      <td>16.99</td>\n",
       "      <td>1.01</td>\n",
       "      <td>Female</td>\n",
       "      <td>No</td>\n",
       "      <td>Sun</td>\n",
       "      <td>Dinner</td>\n",
       "      <td>2</td>\n",
       "    </tr>\n",
       "    <tr>\n",
       "      <th>1</th>\n",
       "      <td>10.34</td>\n",
       "      <td>1.66</td>\n",
       "      <td>Male</td>\n",
       "      <td>No</td>\n",
       "      <td>Sun</td>\n",
       "      <td>Dinner</td>\n",
       "      <td>3</td>\n",
       "    </tr>\n",
       "    <tr>\n",
       "      <th>2</th>\n",
       "      <td>21.01</td>\n",
       "      <td>3.50</td>\n",
       "      <td>Male</td>\n",
       "      <td>No</td>\n",
       "      <td>Sun</td>\n",
       "      <td>Dinner</td>\n",
       "      <td>3</td>\n",
       "    </tr>\n",
       "    <tr>\n",
       "      <th>3</th>\n",
       "      <td>23.68</td>\n",
       "      <td>3.31</td>\n",
       "      <td>Male</td>\n",
       "      <td>No</td>\n",
       "      <td>Sun</td>\n",
       "      <td>Dinner</td>\n",
       "      <td>2</td>\n",
       "    </tr>\n",
       "    <tr>\n",
       "      <th>4</th>\n",
       "      <td>24.59</td>\n",
       "      <td>3.61</td>\n",
       "      <td>Female</td>\n",
       "      <td>No</td>\n",
       "      <td>Sun</td>\n",
       "      <td>Dinner</td>\n",
       "      <td>4</td>\n",
       "    </tr>\n",
       "  </tbody>\n",
       "</table>\n",
       "</div>"
      ],
      "text/plain": [
       "   total_bill   tip     sex smoker  day    time  size\n",
       "0       16.99  1.01  Female     No  Sun  Dinner     2\n",
       "1       10.34  1.66    Male     No  Sun  Dinner     3\n",
       "2       21.01  3.50    Male     No  Sun  Dinner     3\n",
       "3       23.68  3.31    Male     No  Sun  Dinner     2\n",
       "4       24.59  3.61  Female     No  Sun  Dinner     4"
      ]
     },
     "execution_count": 77,
     "metadata": {},
     "output_type": "execute_result"
    }
   ],
   "source": [
    "sns.set()\n",
    "tips = sns.load_dataset(\"tips\")  #从网络环境导入“小费数据”tips\n",
    "tips.head()"
   ]
  },
  {
   "cell_type": "code",
   "execution_count": 78,
   "metadata": {},
   "outputs": [
    {
     "data": {
      "image/png": "[encoded data removed]",
      "text/plain": [
       "<Figure size 413.25x360 with 1 Axes>"
      ]
     },
     "metadata": {},
     "output_type": "display_data"
    }
   ],
   "source": [
    "# 线性模型散点图（lm）\n",
    "sns.lmplot(x=\"total_bill\", y=\"tip\", hue=\"smoker\", data=tips);"
   ]
  },
  {
   "cell_type": "code",
   "execution_count": 79,
   "metadata": {},
   "outputs": [
    {
     "data": {
      "text/plain": [
       "<matplotlib.axes._subplots.AxesSubplot at 0x17a12bfa160>"
      ]
     },
     "execution_count": 79,
     "metadata": {},
     "output_type": "execute_result"
    },
    {
     "data": {
      "image/png": "[encoded data removed]",
      "text/plain": [
       "<Figure size 432x288 with 1 Axes>"
      ]
     },
     "metadata": {},
     "output_type": "display_data"
    }
   ],
   "source": [
    "# 带区间估计的柱状图\n",
    "sns.barplot(\n",
    "    x=\"day\", y=\"total_bill\", hue=\"smoker\",data=tips)"
   ]
  },
  {
   "cell_type": "code",
   "execution_count": 80,
   "metadata": {},
   "outputs": [
    {
     "data": {
      "text/plain": [
       "<seaborn.axisgrid.PairGrid at 0x17a129a92e8>"
      ]
     },
     "execution_count": 80,
     "metadata": {},
     "output_type": "execute_result"
    },
    {
     "data": {
      "image/png": "[encoded data removed]",
      "text/plain": [
       "<Figure size 540x540 with 12 Axes>"
      ]
     },
     "metadata": {},
     "output_type": "display_data"
    }
   ],
   "source": [
    "# 散点图矩阵\n",
    "sns.pairplot(tips)"
   ]
  },
  {
   "cell_type": "code",
   "execution_count": 81,
   "metadata": {},
   "outputs": [
    {
     "data": {
      "text/plain": [
       "<matplotlib.axes._subplots.AxesSubplot at 0x17a1417d828>"
      ]
     },
     "execution_count": 81,
     "metadata": {},
     "output_type": "execute_result"
    },
    {
     "data": {
      "image/png": "[encoded data removed]",
      "text/plain": [
       "<Figure size 432x288 with 1 Axes>"
      ]
     },
     "metadata": {},
     "output_type": "display_data"
    }
   ],
   "source": [
    "sns.boxplot(x=\"tip\", y=\"smoker\", data=tips)"
   ]
  },
  {
   "cell_type": "code",
   "execution_count": 82,
   "metadata": {},
   "outputs": [
    {
     "data": {
      "text/plain": [
       "<seaborn.axisgrid.FacetGrid at 0x17a14300b70>"
      ]
     },
     "execution_count": 82,
     "metadata": {},
     "output_type": "execute_result"
    },
    {
     "data": {
      "image/png": "[encoded data removed]",
      "text/plain": [
       "<Figure size 629.25x576 with 4 Axes>"
      ]
     },
     "metadata": {},
     "output_type": "display_data"
    }
   ],
   "source": [
    "sns.lmplot(\n",
    "    x=\"total_bill\", y=\"tip\", hue=\"smoker\", col=\"time\", row=\"sex\", data=tips,size=4,aspect=1)"
   ]
  },
  {
   "cell_type": "code",
   "execution_count": null,
   "metadata": {},
   "outputs": [],
   "source": []
  }
 ],
 "metadata": {
  "_draft": {
   "nbviewer_url": "https://gist.github.com/101cd00724b8bbcce911d71bda9f0957"
  },
  "gist": {
   "data": {
    "description": "Python Learning Notes",
    "public": true
   },
   "id": "101cd00724b8bbcce911d71bda9f0957"
  },
  "kernelspec": {
   "display_name": "Python 3",
   "language": "python",
   "name": "python3"
  },
  "language_info": {
   "codemirror_mode": {
    "name": "ipython",
    "version": 3
   },
   "file_extension": ".py",
   "mimetype": "text/x-python",
   "name": "python",
   "nbconvert_exporter": "python",
   "pygments_lexer": "ipython3",
   "version": "3.6.5"
  },
  "latex_envs": {
   "LaTeX_envs_menu_present": true,
   "autoclose": true,
   "autocomplete": true,
   "bibliofile": "biblio.bib",
   "cite_by": "apalike",
   "current_citInitial": 1,
   "eqLabelWithNumbers": true,
   "eqNumInitial": 1,
   "hotkeys": {
    "equation": "Ctrl-E",
    "itemize": "Ctrl-I"
   },
   "labels_anchors": false,
   "latex_user_defs": false,
   "report_style_numbering": false,
   "user_envs_cfg": true
  },
  "toc": {
   "base_numbering": 1,
   "nav_menu": {},
   "number_sections": true,
   "sideBar": true,
   "skip_h1_title": true,
   "title_cell": "Table of Contents",
   "title_sidebar": "Contents",
   "toc_cell": false,
   "toc_position": {
    "height": "calc(100% - 180px)",
    "left": "10px",
    "top": "150px",
    "width": "165px"
   },
   "toc_section_display": true,
   "toc_window_display": true
  },
  "varInspector": {
   "cols": {
    "lenName": 16,
    "lenType": 16,
    "lenVar": 40
   },
   "kernels_config": {
    "python": {
     "delete_cmd_postfix": "",
     "delete_cmd_prefix": "del ",
     "library": "var_list.py",
     "varRefreshCmd": "print(var_dic_list())"
    },
    "r": {
     "delete_cmd_postfix": ") ",
     "delete_cmd_prefix": "rm(",
     "library": "var_list.r",
     "varRefreshCmd": "cat(var_dic_list()) "
    }
   },
   "types_to_exclude": [
    "module",
    "function",
    "builtin_function_or_method",
    "instance",
    "_Feature"
   ],
   "window_display": false
  }
 },
 "nbformat": 4,
 "nbformat_minor": 2
}
